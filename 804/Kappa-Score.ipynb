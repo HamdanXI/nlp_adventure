{
  "nbformat": 4,
  "nbformat_minor": 0,
  "metadata": {
    "colab": {
      "provenance": [],
      "authorship_tag": "ABX9TyOAGAZmKB1VfuK/GIeoHG9b",
      "include_colab_link": true
    },
    "kernelspec": {
      "name": "python3",
      "display_name": "Python 3"
    },
    "language_info": {
      "name": "python"
    }
  },
  "cells": [
    {
      "cell_type": "markdown",
      "metadata": {
        "id": "view-in-github",
        "colab_type": "text"
      },
      "source": [
        "<a href=\"https://colab.research.google.com/github/HamdanXI/nlp_adventure/blob/main/804/Kappa-Score.ipynb\" target=\"_parent\"><img src=\"https://colab.research.google.com/assets/colab-badge.svg\" alt=\"Open In Colab\"/></a>"
      ]
    },
    {
      "cell_type": "code",
      "source": [
        "import numpy as np\n",
        "\n",
        "# Data, A = Individual, B = Merged, C = Character-LLM, D = GPT-4\n",
        "# Annotators were asked to rate models from 1 to 4, for 10 outputs\n",
        "# Divided each vote into an input by itself\n",
        "ratings = [\n",
        "    [\"B\", \"D\", \"A\", \"C\", \"B\", \"D\", \"A\", \"C\", \"B\", \"D\", \"A\", \"C\", \"B\", \"A\", \"D\", \"C\", \"B\", \"D\", \"A\", \"C\",\n",
        "     \"D\", \"B\", \"A\", \"C\", \"B\", \"D\", \"A\", \"C\", \"D\", \"B\", \"A\", \"C\", \"B\", \"A\", \"D\", \"C\", \"B\", \"A\", \"D\", \"C\"],\n",
        "    [\"B\", \"A\", \"D\", \"C\", \"B\", \"A\", \"D\", \"C\", \"A\", \"D\", \"B\", \"C\", \"B\", \"A\", \"D\", \"C\", \"B\", \"A\", \"D\", \"C\",\n",
        "     \"D\", \"B\", \"A\", \"C\", \"A\", \"B\", \"D\", \"C\", \"A\", \"B\", \"D\", \"C\", \"D\", \"B\", \"A\", \"C\", \"A\", \"B\", \"D\", \"C\"],\n",
        "    [\"D\", \"B\", \"A\", \"C\", \"A\", \"B\", \"D\", \"C\", \"A\", \"B\", \"D\", \"C\", \"A\", \"D\", \"B\", \"C\", \"B\", \"D\", \"A\", \"C\",\n",
        "     \"D\", \"B\", \"A\", \"C\", \"B\", \"D\", \"A\", \"C\", \"D\", \"B\", \"A\", \"C\", \"D\", \"B\", \"A\", \"C\", \"B\", \"D\", \"A\", \"C\"]\n",
        "]\n",
        "\n",
        "# Convert ratings to numerical category indices: A-0, B-1, C-2, D-3\n",
        "rating_to_num = {\"A\": 0, \"B\": 1, \"C\": 2, \"D\": 3}\n",
        "numerical_ratings = np.array([[rating_to_num[r] for r in row] for row in ratings])\n",
        "\n",
        "# Count occurrences of each category for each question\n",
        "n_categories = 4\n",
        "n_questions = len(ratings[0])\n",
        "n_raters = len(ratings)\n",
        "category_counts = np.zeros((n_questions, n_categories), dtype=int)\n",
        "\n",
        "for i in range(n_questions):\n",
        "    for j in range(n_raters):\n",
        "        category = numerical_ratings[j, i]\n",
        "        category_counts[i, category] += 1\n",
        "\n",
        "# Calculate Fleiss' Kappa\n",
        "n, k = category_counts.shape  # n items, k categories\n",
        "N = np.sum(category_counts[0])  # Number of raters\n",
        "n_items = category_counts.shape[0]\n",
        "\n",
        "# Step 1: Proportion of all ratings that are of a certain category\n",
        "p = np.sum(category_counts, axis=0) / (n_items * N)\n",
        "\n",
        "# Step 2: Calculate P_i for each item\n",
        "P_i = (np.sum(category_counts**2, axis=1) - N) / (N * (N - 1))\n",
        "\n",
        "# Step 3: Calculate overall P\n",
        "P = np.sum(P_i) / n_items\n",
        "\n",
        "# Step 4: Calculate P_e (expected agreement by chance)\n",
        "P_e = np.sum(p**2)\n",
        "\n",
        "# Step 5: Calculate kappa\n",
        "kappa = (P - P_e) / (1 - P_e)\n",
        "kappa"
      ],
      "metadata": {
        "colab": {
          "base_uri": "https://localhost:8080/"
        },
        "id": "oHnV927o5IiV",
        "outputId": "7f03336a-4927-47a0-8499-de6be174fb6b"
      },
      "execution_count": 12,
      "outputs": [
        {
          "output_type": "execute_result",
          "data": {
            "text/plain": [
              "0.4000000000000001"
            ]
          },
          "metadata": {},
          "execution_count": 12
        }
      ]
    },
    {
      "cell_type": "code",
      "source": [],
      "metadata": {
        "id": "M8KRqXDG5Vxv"
      },
      "execution_count": null,
      "outputs": []
    }
  ]
}