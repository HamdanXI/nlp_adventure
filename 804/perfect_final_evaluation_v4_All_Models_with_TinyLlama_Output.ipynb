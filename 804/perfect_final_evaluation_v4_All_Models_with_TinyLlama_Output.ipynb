{
  "nbformat": 4,
  "nbformat_minor": 0,
  "metadata": {
    "colab": {
      "provenance": [],
      "gpuType": "V100",
      "machine_shape": "hm",
      "include_colab_link": true
    },
    "kernelspec": {
      "name": "python3",
      "display_name": "Python 3"
    },
    "language_info": {
      "name": "python"
    },
    "accelerator": "GPU",
    "widgets": {
      "application/vnd.jupyter.widget-state+json": {
        "ecf031bc6e984ca19113b0bdda96b5e8": {
          "model_module": "@jupyter-widgets/controls",
          "model_name": "HBoxModel",
          "model_module_version": "1.5.0",
          "state": {
            "_dom_classes": [],
            "_model_module": "@jupyter-widgets/controls",
            "_model_module_version": "1.5.0",
            "_model_name": "HBoxModel",
            "_view_count": null,
            "_view_module": "@jupyter-widgets/controls",
            "_view_module_version": "1.5.0",
            "_view_name": "HBoxView",
            "box_style": "",
            "children": [
              "IPY_MODEL_84c9074f97374e26a682508315dc8560",
              "IPY_MODEL_32db131369a34fea8b35b8c639e95e67",
              "IPY_MODEL_71c7438ed57f4cccb088fb9b233070ce"
            ],
            "layout": "IPY_MODEL_6678985cd713477caf9a8c517bfd3a22"
          }
        },
        "84c9074f97374e26a682508315dc8560": {
          "model_module": "@jupyter-widgets/controls",
          "model_name": "HTMLModel",
          "model_module_version": "1.5.0",
          "state": {
            "_dom_classes": [],
            "_model_module": "@jupyter-widgets/controls",
            "_model_module_version": "1.5.0",
            "_model_name": "HTMLModel",
            "_view_count": null,
            "_view_module": "@jupyter-widgets/controls",
            "_view_module_version": "1.5.0",
            "_view_name": "HTMLView",
            "description": "",
            "description_tooltip": null,
            "layout": "IPY_MODEL_5e2e4bdaace143999944f01c8a0b525b",
            "placeholder": "​",
            "style": "IPY_MODEL_c3904d8fdfe54fc6956bc7a42559a911",
            "value": "config.json: 100%"
          }
        },
        "32db131369a34fea8b35b8c639e95e67": {
          "model_module": "@jupyter-widgets/controls",
          "model_name": "FloatProgressModel",
          "model_module_version": "1.5.0",
          "state": {
            "_dom_classes": [],
            "_model_module": "@jupyter-widgets/controls",
            "_model_module_version": "1.5.0",
            "_model_name": "FloatProgressModel",
            "_view_count": null,
            "_view_module": "@jupyter-widgets/controls",
            "_view_module_version": "1.5.0",
            "_view_name": "ProgressView",
            "bar_style": "success",
            "description": "",
            "description_tooltip": null,
            "layout": "IPY_MODEL_0655a197941d4a6a80365f1db53d3092",
            "max": 998,
            "min": 0,
            "orientation": "horizontal",
            "style": "IPY_MODEL_ce9abfb3385f44eaaa7a1e7416501734",
            "value": 998
          }
        },
        "71c7438ed57f4cccb088fb9b233070ce": {
          "model_module": "@jupyter-widgets/controls",
          "model_name": "HTMLModel",
          "model_module_version": "1.5.0",
          "state": {
            "_dom_classes": [],
            "_model_module": "@jupyter-widgets/controls",
            "_model_module_version": "1.5.0",
            "_model_name": "HTMLModel",
            "_view_count": null,
            "_view_module": "@jupyter-widgets/controls",
            "_view_module_version": "1.5.0",
            "_view_name": "HTMLView",
            "description": "",
            "description_tooltip": null,
            "layout": "IPY_MODEL_81f3a6521987477697c037d24eb9d767",
            "placeholder": "​",
            "style": "IPY_MODEL_703cdabbb39949939f03c8a9e65d9cb7",
            "value": " 998/998 [00:00&lt;00:00, 78.8kB/s]"
          }
        },
        "6678985cd713477caf9a8c517bfd3a22": {
          "model_module": "@jupyter-widgets/base",
          "model_name": "LayoutModel",
          "model_module_version": "1.2.0",
          "state": {
            "_model_module": "@jupyter-widgets/base",
            "_model_module_version": "1.2.0",
            "_model_name": "LayoutModel",
            "_view_count": null,
            "_view_module": "@jupyter-widgets/base",
            "_view_module_version": "1.2.0",
            "_view_name": "LayoutView",
            "align_content": null,
            "align_items": null,
            "align_self": null,
            "border": null,
            "bottom": null,
            "display": null,
            "flex": null,
            "flex_flow": null,
            "grid_area": null,
            "grid_auto_columns": null,
            "grid_auto_flow": null,
            "grid_auto_rows": null,
            "grid_column": null,
            "grid_gap": null,
            "grid_row": null,
            "grid_template_areas": null,
            "grid_template_columns": null,
            "grid_template_rows": null,
            "height": null,
            "justify_content": null,
            "justify_items": null,
            "left": null,
            "margin": null,
            "max_height": null,
            "max_width": null,
            "min_height": null,
            "min_width": null,
            "object_fit": null,
            "object_position": null,
            "order": null,
            "overflow": null,
            "overflow_x": null,
            "overflow_y": null,
            "padding": null,
            "right": null,
            "top": null,
            "visibility": null,
            "width": null
          }
        },
        "5e2e4bdaace143999944f01c8a0b525b": {
          "model_module": "@jupyter-widgets/base",
          "model_name": "LayoutModel",
          "model_module_version": "1.2.0",
          "state": {
            "_model_module": "@jupyter-widgets/base",
            "_model_module_version": "1.2.0",
            "_model_name": "LayoutModel",
            "_view_count": null,
            "_view_module": "@jupyter-widgets/base",
            "_view_module_version": "1.2.0",
            "_view_name": "LayoutView",
            "align_content": null,
            "align_items": null,
            "align_self": null,
            "border": null,
            "bottom": null,
            "display": null,
            "flex": null,
            "flex_flow": null,
            "grid_area": null,
            "grid_auto_columns": null,
            "grid_auto_flow": null,
            "grid_auto_rows": null,
            "grid_column": null,
            "grid_gap": null,
            "grid_row": null,
            "grid_template_areas": null,
            "grid_template_columns": null,
            "grid_template_rows": null,
            "height": null,
            "justify_content": null,
            "justify_items": null,
            "left": null,
            "margin": null,
            "max_height": null,
            "max_width": null,
            "min_height": null,
            "min_width": null,
            "object_fit": null,
            "object_position": null,
            "order": null,
            "overflow": null,
            "overflow_x": null,
            "overflow_y": null,
            "padding": null,
            "right": null,
            "top": null,
            "visibility": null,
            "width": null
          }
        },
        "c3904d8fdfe54fc6956bc7a42559a911": {
          "model_module": "@jupyter-widgets/controls",
          "model_name": "DescriptionStyleModel",
          "model_module_version": "1.5.0",
          "state": {
            "_model_module": "@jupyter-widgets/controls",
            "_model_module_version": "1.5.0",
            "_model_name": "DescriptionStyleModel",
            "_view_count": null,
            "_view_module": "@jupyter-widgets/base",
            "_view_module_version": "1.2.0",
            "_view_name": "StyleView",
            "description_width": ""
          }
        },
        "0655a197941d4a6a80365f1db53d3092": {
          "model_module": "@jupyter-widgets/base",
          "model_name": "LayoutModel",
          "model_module_version": "1.2.0",
          "state": {
            "_model_module": "@jupyter-widgets/base",
            "_model_module_version": "1.2.0",
            "_model_name": "LayoutModel",
            "_view_count": null,
            "_view_module": "@jupyter-widgets/base",
            "_view_module_version": "1.2.0",
            "_view_name": "LayoutView",
            "align_content": null,
            "align_items": null,
            "align_self": null,
            "border": null,
            "bottom": null,
            "display": null,
            "flex": null,
            "flex_flow": null,
            "grid_area": null,
            "grid_auto_columns": null,
            "grid_auto_flow": null,
            "grid_auto_rows": null,
            "grid_column": null,
            "grid_gap": null,
            "grid_row": null,
            "grid_template_areas": null,
            "grid_template_columns": null,
            "grid_template_rows": null,
            "height": null,
            "justify_content": null,
            "justify_items": null,
            "left": null,
            "margin": null,
            "max_height": null,
            "max_width": null,
            "min_height": null,
            "min_width": null,
            "object_fit": null,
            "object_position": null,
            "order": null,
            "overflow": null,
            "overflow_x": null,
            "overflow_y": null,
            "padding": null,
            "right": null,
            "top": null,
            "visibility": null,
            "width": null
          }
        },
        "ce9abfb3385f44eaaa7a1e7416501734": {
          "model_module": "@jupyter-widgets/controls",
          "model_name": "ProgressStyleModel",
          "model_module_version": "1.5.0",
          "state": {
            "_model_module": "@jupyter-widgets/controls",
            "_model_module_version": "1.5.0",
            "_model_name": "ProgressStyleModel",
            "_view_count": null,
            "_view_module": "@jupyter-widgets/base",
            "_view_module_version": "1.2.0",
            "_view_name": "StyleView",
            "bar_color": null,
            "description_width": ""
          }
        },
        "81f3a6521987477697c037d24eb9d767": {
          "model_module": "@jupyter-widgets/base",
          "model_name": "LayoutModel",
          "model_module_version": "1.2.0",
          "state": {
            "_model_module": "@jupyter-widgets/base",
            "_model_module_version": "1.2.0",
            "_model_name": "LayoutModel",
            "_view_count": null,
            "_view_module": "@jupyter-widgets/base",
            "_view_module_version": "1.2.0",
            "_view_name": "LayoutView",
            "align_content": null,
            "align_items": null,
            "align_self": null,
            "border": null,
            "bottom": null,
            "display": null,
            "flex": null,
            "flex_flow": null,
            "grid_area": null,
            "grid_auto_columns": null,
            "grid_auto_flow": null,
            "grid_auto_rows": null,
            "grid_column": null,
            "grid_gap": null,
            "grid_row": null,
            "grid_template_areas": null,
            "grid_template_columns": null,
            "grid_template_rows": null,
            "height": null,
            "justify_content": null,
            "justify_items": null,
            "left": null,
            "margin": null,
            "max_height": null,
            "max_width": null,
            "min_height": null,
            "min_width": null,
            "object_fit": null,
            "object_position": null,
            "order": null,
            "overflow": null,
            "overflow_x": null,
            "overflow_y": null,
            "padding": null,
            "right": null,
            "top": null,
            "visibility": null,
            "width": null
          }
        },
        "703cdabbb39949939f03c8a9e65d9cb7": {
          "model_module": "@jupyter-widgets/controls",
          "model_name": "DescriptionStyleModel",
          "model_module_version": "1.5.0",
          "state": {
            "_model_module": "@jupyter-widgets/controls",
            "_model_module_version": "1.5.0",
            "_model_name": "DescriptionStyleModel",
            "_view_count": null,
            "_view_module": "@jupyter-widgets/base",
            "_view_module_version": "1.2.0",
            "_view_name": "StyleView",
            "description_width": ""
          }
        },
        "aab6f3c0a42e473d9656dc0dbd090d25": {
          "model_module": "@jupyter-widgets/controls",
          "model_name": "HBoxModel",
          "model_module_version": "1.5.0",
          "state": {
            "_dom_classes": [],
            "_model_module": "@jupyter-widgets/controls",
            "_model_module_version": "1.5.0",
            "_model_name": "HBoxModel",
            "_view_count": null,
            "_view_module": "@jupyter-widgets/controls",
            "_view_module_version": "1.5.0",
            "_view_name": "HBoxView",
            "box_style": "",
            "children": [
              "IPY_MODEL_230ae041c18545539598cc16ee1ab3e7",
              "IPY_MODEL_9991017175a34c7c9d35e25324982a5c",
              "IPY_MODEL_9e1204b324da4ddd8b2938edbdf1e740"
            ],
            "layout": "IPY_MODEL_f061648b91c241d28f4ff813898e2b5b"
          }
        },
        "230ae041c18545539598cc16ee1ab3e7": {
          "model_module": "@jupyter-widgets/controls",
          "model_name": "HTMLModel",
          "model_module_version": "1.5.0",
          "state": {
            "_dom_classes": [],
            "_model_module": "@jupyter-widgets/controls",
            "_model_module_version": "1.5.0",
            "_model_name": "HTMLModel",
            "_view_count": null,
            "_view_module": "@jupyter-widgets/controls",
            "_view_module_version": "1.5.0",
            "_view_name": "HTMLView",
            "description": "",
            "description_tooltip": null,
            "layout": "IPY_MODEL_81ad95051e384fe9a3ef760cd5b0ddf8",
            "placeholder": "​",
            "style": "IPY_MODEL_33840d02fa854e7a9daf2dc8b1e97ca6",
            "value": "model.safetensors: 100%"
          }
        },
        "9991017175a34c7c9d35e25324982a5c": {
          "model_module": "@jupyter-widgets/controls",
          "model_name": "FloatProgressModel",
          "model_module_version": "1.5.0",
          "state": {
            "_dom_classes": [],
            "_model_module": "@jupyter-widgets/controls",
            "_model_module_version": "1.5.0",
            "_model_name": "FloatProgressModel",
            "_view_count": null,
            "_view_module": "@jupyter-widgets/controls",
            "_view_module_version": "1.5.0",
            "_view_name": "ProgressView",
            "bar_style": "success",
            "description": "",
            "description_tooltip": null,
            "layout": "IPY_MODEL_18779c54e7fc404db091fd16dc77983e",
            "max": 1334400964,
            "min": 0,
            "orientation": "horizontal",
            "style": "IPY_MODEL_08e26137ce934a4ebffed6a1ad6cc266",
            "value": 1334400964
          }
        },
        "9e1204b324da4ddd8b2938edbdf1e740": {
          "model_module": "@jupyter-widgets/controls",
          "model_name": "HTMLModel",
          "model_module_version": "1.5.0",
          "state": {
            "_dom_classes": [],
            "_model_module": "@jupyter-widgets/controls",
            "_model_module_version": "1.5.0",
            "_model_name": "HTMLModel",
            "_view_count": null,
            "_view_module": "@jupyter-widgets/controls",
            "_view_module_version": "1.5.0",
            "_view_name": "HTMLView",
            "description": "",
            "description_tooltip": null,
            "layout": "IPY_MODEL_06273bbeca804eec835d7bc4d67d8437",
            "placeholder": "​",
            "style": "IPY_MODEL_6d7d814d522340c589ce0527f5e782a9",
            "value": " 1.33G/1.33G [00:05&lt;00:00, 263MB/s]"
          }
        },
        "f061648b91c241d28f4ff813898e2b5b": {
          "model_module": "@jupyter-widgets/base",
          "model_name": "LayoutModel",
          "model_module_version": "1.2.0",
          "state": {
            "_model_module": "@jupyter-widgets/base",
            "_model_module_version": "1.2.0",
            "_model_name": "LayoutModel",
            "_view_count": null,
            "_view_module": "@jupyter-widgets/base",
            "_view_module_version": "1.2.0",
            "_view_name": "LayoutView",
            "align_content": null,
            "align_items": null,
            "align_self": null,
            "border": null,
            "bottom": null,
            "display": null,
            "flex": null,
            "flex_flow": null,
            "grid_area": null,
            "grid_auto_columns": null,
            "grid_auto_flow": null,
            "grid_auto_rows": null,
            "grid_column": null,
            "grid_gap": null,
            "grid_row": null,
            "grid_template_areas": null,
            "grid_template_columns": null,
            "grid_template_rows": null,
            "height": null,
            "justify_content": null,
            "justify_items": null,
            "left": null,
            "margin": null,
            "max_height": null,
            "max_width": null,
            "min_height": null,
            "min_width": null,
            "object_fit": null,
            "object_position": null,
            "order": null,
            "overflow": null,
            "overflow_x": null,
            "overflow_y": null,
            "padding": null,
            "right": null,
            "top": null,
            "visibility": null,
            "width": null
          }
        },
        "81ad95051e384fe9a3ef760cd5b0ddf8": {
          "model_module": "@jupyter-widgets/base",
          "model_name": "LayoutModel",
          "model_module_version": "1.2.0",
          "state": {
            "_model_module": "@jupyter-widgets/base",
            "_model_module_version": "1.2.0",
            "_model_name": "LayoutModel",
            "_view_count": null,
            "_view_module": "@jupyter-widgets/base",
            "_view_module_version": "1.2.0",
            "_view_name": "LayoutView",
            "align_content": null,
            "align_items": null,
            "align_self": null,
            "border": null,
            "bottom": null,
            "display": null,
            "flex": null,
            "flex_flow": null,
            "grid_area": null,
            "grid_auto_columns": null,
            "grid_auto_flow": null,
            "grid_auto_rows": null,
            "grid_column": null,
            "grid_gap": null,
            "grid_row": null,
            "grid_template_areas": null,
            "grid_template_columns": null,
            "grid_template_rows": null,
            "height": null,
            "justify_content": null,
            "justify_items": null,
            "left": null,
            "margin": null,
            "max_height": null,
            "max_width": null,
            "min_height": null,
            "min_width": null,
            "object_fit": null,
            "object_position": null,
            "order": null,
            "overflow": null,
            "overflow_x": null,
            "overflow_y": null,
            "padding": null,
            "right": null,
            "top": null,
            "visibility": null,
            "width": null
          }
        },
        "33840d02fa854e7a9daf2dc8b1e97ca6": {
          "model_module": "@jupyter-widgets/controls",
          "model_name": "DescriptionStyleModel",
          "model_module_version": "1.5.0",
          "state": {
            "_model_module": "@jupyter-widgets/controls",
            "_model_module_version": "1.5.0",
            "_model_name": "DescriptionStyleModel",
            "_view_count": null,
            "_view_module": "@jupyter-widgets/base",
            "_view_module_version": "1.2.0",
            "_view_name": "StyleView",
            "description_width": ""
          }
        },
        "18779c54e7fc404db091fd16dc77983e": {
          "model_module": "@jupyter-widgets/base",
          "model_name": "LayoutModel",
          "model_module_version": "1.2.0",
          "state": {
            "_model_module": "@jupyter-widgets/base",
            "_model_module_version": "1.2.0",
            "_model_name": "LayoutModel",
            "_view_count": null,
            "_view_module": "@jupyter-widgets/base",
            "_view_module_version": "1.2.0",
            "_view_name": "LayoutView",
            "align_content": null,
            "align_items": null,
            "align_self": null,
            "border": null,
            "bottom": null,
            "display": null,
            "flex": null,
            "flex_flow": null,
            "grid_area": null,
            "grid_auto_columns": null,
            "grid_auto_flow": null,
            "grid_auto_rows": null,
            "grid_column": null,
            "grid_gap": null,
            "grid_row": null,
            "grid_template_areas": null,
            "grid_template_columns": null,
            "grid_template_rows": null,
            "height": null,
            "justify_content": null,
            "justify_items": null,
            "left": null,
            "margin": null,
            "max_height": null,
            "max_width": null,
            "min_height": null,
            "min_width": null,
            "object_fit": null,
            "object_position": null,
            "order": null,
            "overflow": null,
            "overflow_x": null,
            "overflow_y": null,
            "padding": null,
            "right": null,
            "top": null,
            "visibility": null,
            "width": null
          }
        },
        "08e26137ce934a4ebffed6a1ad6cc266": {
          "model_module": "@jupyter-widgets/controls",
          "model_name": "ProgressStyleModel",
          "model_module_version": "1.5.0",
          "state": {
            "_model_module": "@jupyter-widgets/controls",
            "_model_module_version": "1.5.0",
            "_model_name": "ProgressStyleModel",
            "_view_count": null,
            "_view_module": "@jupyter-widgets/base",
            "_view_module_version": "1.2.0",
            "_view_name": "StyleView",
            "bar_color": null,
            "description_width": ""
          }
        },
        "06273bbeca804eec835d7bc4d67d8437": {
          "model_module": "@jupyter-widgets/base",
          "model_name": "LayoutModel",
          "model_module_version": "1.2.0",
          "state": {
            "_model_module": "@jupyter-widgets/base",
            "_model_module_version": "1.2.0",
            "_model_name": "LayoutModel",
            "_view_count": null,
            "_view_module": "@jupyter-widgets/base",
            "_view_module_version": "1.2.0",
            "_view_name": "LayoutView",
            "align_content": null,
            "align_items": null,
            "align_self": null,
            "border": null,
            "bottom": null,
            "display": null,
            "flex": null,
            "flex_flow": null,
            "grid_area": null,
            "grid_auto_columns": null,
            "grid_auto_flow": null,
            "grid_auto_rows": null,
            "grid_column": null,
            "grid_gap": null,
            "grid_row": null,
            "grid_template_areas": null,
            "grid_template_columns": null,
            "grid_template_rows": null,
            "height": null,
            "justify_content": null,
            "justify_items": null,
            "left": null,
            "margin": null,
            "max_height": null,
            "max_width": null,
            "min_height": null,
            "min_width": null,
            "object_fit": null,
            "object_position": null,
            "order": null,
            "overflow": null,
            "overflow_x": null,
            "overflow_y": null,
            "padding": null,
            "right": null,
            "top": null,
            "visibility": null,
            "width": null
          }
        },
        "6d7d814d522340c589ce0527f5e782a9": {
          "model_module": "@jupyter-widgets/controls",
          "model_name": "DescriptionStyleModel",
          "model_module_version": "1.5.0",
          "state": {
            "_model_module": "@jupyter-widgets/controls",
            "_model_module_version": "1.5.0",
            "_model_name": "DescriptionStyleModel",
            "_view_count": null,
            "_view_module": "@jupyter-widgets/base",
            "_view_module_version": "1.2.0",
            "_view_name": "StyleView",
            "description_width": ""
          }
        },
        "53353145fae042e7b4ae24b616230b63": {
          "model_module": "@jupyter-widgets/controls",
          "model_name": "HBoxModel",
          "model_module_version": "1.5.0",
          "state": {
            "_dom_classes": [],
            "_model_module": "@jupyter-widgets/controls",
            "_model_module_version": "1.5.0",
            "_model_name": "HBoxModel",
            "_view_count": null,
            "_view_module": "@jupyter-widgets/controls",
            "_view_module_version": "1.5.0",
            "_view_name": "HBoxView",
            "box_style": "",
            "children": [
              "IPY_MODEL_64894716ca7a4646a981fc108d02ac6b",
              "IPY_MODEL_aa1339315cbe45ba9bae23f9041ead06",
              "IPY_MODEL_ea3f539f050a4ace94461a38165170eb"
            ],
            "layout": "IPY_MODEL_77771f75b9cf4f78941fc7e2ff9edab6"
          }
        },
        "64894716ca7a4646a981fc108d02ac6b": {
          "model_module": "@jupyter-widgets/controls",
          "model_name": "HTMLModel",
          "model_module_version": "1.5.0",
          "state": {
            "_dom_classes": [],
            "_model_module": "@jupyter-widgets/controls",
            "_model_module_version": "1.5.0",
            "_model_name": "HTMLModel",
            "_view_count": null,
            "_view_module": "@jupyter-widgets/controls",
            "_view_module_version": "1.5.0",
            "_view_name": "HTMLView",
            "description": "",
            "description_tooltip": null,
            "layout": "IPY_MODEL_ca2624648ef44aa6aaf8c40fbaedd989",
            "placeholder": "​",
            "style": "IPY_MODEL_a29a9bc619ff4c93a4b8293537cf8036",
            "value": "tokenizer_config.json: 100%"
          }
        },
        "aa1339315cbe45ba9bae23f9041ead06": {
          "model_module": "@jupyter-widgets/controls",
          "model_name": "FloatProgressModel",
          "model_module_version": "1.5.0",
          "state": {
            "_dom_classes": [],
            "_model_module": "@jupyter-widgets/controls",
            "_model_module_version": "1.5.0",
            "_model_name": "FloatProgressModel",
            "_view_count": null,
            "_view_module": "@jupyter-widgets/controls",
            "_view_module_version": "1.5.0",
            "_view_name": "ProgressView",
            "bar_style": "success",
            "description": "",
            "description_tooltip": null,
            "layout": "IPY_MODEL_da20fb2ae81b40cebbedb5718eaf237a",
            "max": 60,
            "min": 0,
            "orientation": "horizontal",
            "style": "IPY_MODEL_64cd7879f9d94081a6cbec270f2bc7da",
            "value": 60
          }
        },
        "ea3f539f050a4ace94461a38165170eb": {
          "model_module": "@jupyter-widgets/controls",
          "model_name": "HTMLModel",
          "model_module_version": "1.5.0",
          "state": {
            "_dom_classes": [],
            "_model_module": "@jupyter-widgets/controls",
            "_model_module_version": "1.5.0",
            "_model_name": "HTMLModel",
            "_view_count": null,
            "_view_module": "@jupyter-widgets/controls",
            "_view_module_version": "1.5.0",
            "_view_name": "HTMLView",
            "description": "",
            "description_tooltip": null,
            "layout": "IPY_MODEL_8c11ac511e9246fc91ca0eb166dac626",
            "placeholder": "​",
            "style": "IPY_MODEL_3332ac9e80964b7ea097b73978a5c924",
            "value": " 60.0/60.0 [00:00&lt;00:00, 5.00kB/s]"
          }
        },
        "77771f75b9cf4f78941fc7e2ff9edab6": {
          "model_module": "@jupyter-widgets/base",
          "model_name": "LayoutModel",
          "model_module_version": "1.2.0",
          "state": {
            "_model_module": "@jupyter-widgets/base",
            "_model_module_version": "1.2.0",
            "_model_name": "LayoutModel",
            "_view_count": null,
            "_view_module": "@jupyter-widgets/base",
            "_view_module_version": "1.2.0",
            "_view_name": "LayoutView",
            "align_content": null,
            "align_items": null,
            "align_self": null,
            "border": null,
            "bottom": null,
            "display": null,
            "flex": null,
            "flex_flow": null,
            "grid_area": null,
            "grid_auto_columns": null,
            "grid_auto_flow": null,
            "grid_auto_rows": null,
            "grid_column": null,
            "grid_gap": null,
            "grid_row": null,
            "grid_template_areas": null,
            "grid_template_columns": null,
            "grid_template_rows": null,
            "height": null,
            "justify_content": null,
            "justify_items": null,
            "left": null,
            "margin": null,
            "max_height": null,
            "max_width": null,
            "min_height": null,
            "min_width": null,
            "object_fit": null,
            "object_position": null,
            "order": null,
            "overflow": null,
            "overflow_x": null,
            "overflow_y": null,
            "padding": null,
            "right": null,
            "top": null,
            "visibility": null,
            "width": null
          }
        },
        "ca2624648ef44aa6aaf8c40fbaedd989": {
          "model_module": "@jupyter-widgets/base",
          "model_name": "LayoutModel",
          "model_module_version": "1.2.0",
          "state": {
            "_model_module": "@jupyter-widgets/base",
            "_model_module_version": "1.2.0",
            "_model_name": "LayoutModel",
            "_view_count": null,
            "_view_module": "@jupyter-widgets/base",
            "_view_module_version": "1.2.0",
            "_view_name": "LayoutView",
            "align_content": null,
            "align_items": null,
            "align_self": null,
            "border": null,
            "bottom": null,
            "display": null,
            "flex": null,
            "flex_flow": null,
            "grid_area": null,
            "grid_auto_columns": null,
            "grid_auto_flow": null,
            "grid_auto_rows": null,
            "grid_column": null,
            "grid_gap": null,
            "grid_row": null,
            "grid_template_areas": null,
            "grid_template_columns": null,
            "grid_template_rows": null,
            "height": null,
            "justify_content": null,
            "justify_items": null,
            "left": null,
            "margin": null,
            "max_height": null,
            "max_width": null,
            "min_height": null,
            "min_width": null,
            "object_fit": null,
            "object_position": null,
            "order": null,
            "overflow": null,
            "overflow_x": null,
            "overflow_y": null,
            "padding": null,
            "right": null,
            "top": null,
            "visibility": null,
            "width": null
          }
        },
        "a29a9bc619ff4c93a4b8293537cf8036": {
          "model_module": "@jupyter-widgets/controls",
          "model_name": "DescriptionStyleModel",
          "model_module_version": "1.5.0",
          "state": {
            "_model_module": "@jupyter-widgets/controls",
            "_model_module_version": "1.5.0",
            "_model_name": "DescriptionStyleModel",
            "_view_count": null,
            "_view_module": "@jupyter-widgets/base",
            "_view_module_version": "1.2.0",
            "_view_name": "StyleView",
            "description_width": ""
          }
        },
        "da20fb2ae81b40cebbedb5718eaf237a": {
          "model_module": "@jupyter-widgets/base",
          "model_name": "LayoutModel",
          "model_module_version": "1.2.0",
          "state": {
            "_model_module": "@jupyter-widgets/base",
            "_model_module_version": "1.2.0",
            "_model_name": "LayoutModel",
            "_view_count": null,
            "_view_module": "@jupyter-widgets/base",
            "_view_module_version": "1.2.0",
            "_view_name": "LayoutView",
            "align_content": null,
            "align_items": null,
            "align_self": null,
            "border": null,
            "bottom": null,
            "display": null,
            "flex": null,
            "flex_flow": null,
            "grid_area": null,
            "grid_auto_columns": null,
            "grid_auto_flow": null,
            "grid_auto_rows": null,
            "grid_column": null,
            "grid_gap": null,
            "grid_row": null,
            "grid_template_areas": null,
            "grid_template_columns": null,
            "grid_template_rows": null,
            "height": null,
            "justify_content": null,
            "justify_items": null,
            "left": null,
            "margin": null,
            "max_height": null,
            "max_width": null,
            "min_height": null,
            "min_width": null,
            "object_fit": null,
            "object_position": null,
            "order": null,
            "overflow": null,
            "overflow_x": null,
            "overflow_y": null,
            "padding": null,
            "right": null,
            "top": null,
            "visibility": null,
            "width": null
          }
        },
        "64cd7879f9d94081a6cbec270f2bc7da": {
          "model_module": "@jupyter-widgets/controls",
          "model_name": "ProgressStyleModel",
          "model_module_version": "1.5.0",
          "state": {
            "_model_module": "@jupyter-widgets/controls",
            "_model_module_version": "1.5.0",
            "_model_name": "ProgressStyleModel",
            "_view_count": null,
            "_view_module": "@jupyter-widgets/base",
            "_view_module_version": "1.2.0",
            "_view_name": "StyleView",
            "bar_color": null,
            "description_width": ""
          }
        },
        "8c11ac511e9246fc91ca0eb166dac626": {
          "model_module": "@jupyter-widgets/base",
          "model_name": "LayoutModel",
          "model_module_version": "1.2.0",
          "state": {
            "_model_module": "@jupyter-widgets/base",
            "_model_module_version": "1.2.0",
            "_model_name": "LayoutModel",
            "_view_count": null,
            "_view_module": "@jupyter-widgets/base",
            "_view_module_version": "1.2.0",
            "_view_name": "LayoutView",
            "align_content": null,
            "align_items": null,
            "align_self": null,
            "border": null,
            "bottom": null,
            "display": null,
            "flex": null,
            "flex_flow": null,
            "grid_area": null,
            "grid_auto_columns": null,
            "grid_auto_flow": null,
            "grid_auto_rows": null,
            "grid_column": null,
            "grid_gap": null,
            "grid_row": null,
            "grid_template_areas": null,
            "grid_template_columns": null,
            "grid_template_rows": null,
            "height": null,
            "justify_content": null,
            "justify_items": null,
            "left": null,
            "margin": null,
            "max_height": null,
            "max_width": null,
            "min_height": null,
            "min_width": null,
            "object_fit": null,
            "object_position": null,
            "order": null,
            "overflow": null,
            "overflow_x": null,
            "overflow_y": null,
            "padding": null,
            "right": null,
            "top": null,
            "visibility": null,
            "width": null
          }
        },
        "3332ac9e80964b7ea097b73978a5c924": {
          "model_module": "@jupyter-widgets/controls",
          "model_name": "DescriptionStyleModel",
          "model_module_version": "1.5.0",
          "state": {
            "_model_module": "@jupyter-widgets/controls",
            "_model_module_version": "1.5.0",
            "_model_name": "DescriptionStyleModel",
            "_view_count": null,
            "_view_module": "@jupyter-widgets/base",
            "_view_module_version": "1.2.0",
            "_view_name": "StyleView",
            "description_width": ""
          }
        },
        "7161e29b2ac145dc9cfd38727dd6ca02": {
          "model_module": "@jupyter-widgets/controls",
          "model_name": "HBoxModel",
          "model_module_version": "1.5.0",
          "state": {
            "_dom_classes": [],
            "_model_module": "@jupyter-widgets/controls",
            "_model_module_version": "1.5.0",
            "_model_name": "HBoxModel",
            "_view_count": null,
            "_view_module": "@jupyter-widgets/controls",
            "_view_module_version": "1.5.0",
            "_view_name": "HBoxView",
            "box_style": "",
            "children": [
              "IPY_MODEL_4dba9b3e46444b92aed98b05fae17269",
              "IPY_MODEL_bcac9176539a47debe191d1461672f6d",
              "IPY_MODEL_ff8216e9bf5644809be2b1f0622caac2"
            ],
            "layout": "IPY_MODEL_bab6ad314fe647fcbf72172c37a25ca2"
          }
        },
        "4dba9b3e46444b92aed98b05fae17269": {
          "model_module": "@jupyter-widgets/controls",
          "model_name": "HTMLModel",
          "model_module_version": "1.5.0",
          "state": {
            "_dom_classes": [],
            "_model_module": "@jupyter-widgets/controls",
            "_model_module_version": "1.5.0",
            "_model_name": "HTMLModel",
            "_view_count": null,
            "_view_module": "@jupyter-widgets/controls",
            "_view_module_version": "1.5.0",
            "_view_name": "HTMLView",
            "description": "",
            "description_tooltip": null,
            "layout": "IPY_MODEL_a7d8ef17bfbe418fbf490a06ddd72a4d",
            "placeholder": "​",
            "style": "IPY_MODEL_8f28b11261814ced968e04b4911d038b",
            "value": "vocab.txt: 100%"
          }
        },
        "bcac9176539a47debe191d1461672f6d": {
          "model_module": "@jupyter-widgets/controls",
          "model_name": "FloatProgressModel",
          "model_module_version": "1.5.0",
          "state": {
            "_dom_classes": [],
            "_model_module": "@jupyter-widgets/controls",
            "_model_module_version": "1.5.0",
            "_model_name": "FloatProgressModel",
            "_view_count": null,
            "_view_module": "@jupyter-widgets/controls",
            "_view_module_version": "1.5.0",
            "_view_name": "ProgressView",
            "bar_style": "success",
            "description": "",
            "description_tooltip": null,
            "layout": "IPY_MODEL_6268c80ca87443ccb8ac2194f588976e",
            "max": 213450,
            "min": 0,
            "orientation": "horizontal",
            "style": "IPY_MODEL_a494916a03a14995845efee89d651d74",
            "value": 213450
          }
        },
        "ff8216e9bf5644809be2b1f0622caac2": {
          "model_module": "@jupyter-widgets/controls",
          "model_name": "HTMLModel",
          "model_module_version": "1.5.0",
          "state": {
            "_dom_classes": [],
            "_model_module": "@jupyter-widgets/controls",
            "_model_module_version": "1.5.0",
            "_model_name": "HTMLModel",
            "_view_count": null,
            "_view_module": "@jupyter-widgets/controls",
            "_view_module_version": "1.5.0",
            "_view_name": "HTMLView",
            "description": "",
            "description_tooltip": null,
            "layout": "IPY_MODEL_692f25bf809e46e9837c96a44252b3df",
            "placeholder": "​",
            "style": "IPY_MODEL_360ad88ec59841869303f99040fb6f5c",
            "value": " 213k/213k [00:00&lt;00:00, 11.1MB/s]"
          }
        },
        "bab6ad314fe647fcbf72172c37a25ca2": {
          "model_module": "@jupyter-widgets/base",
          "model_name": "LayoutModel",
          "model_module_version": "1.2.0",
          "state": {
            "_model_module": "@jupyter-widgets/base",
            "_model_module_version": "1.2.0",
            "_model_name": "LayoutModel",
            "_view_count": null,
            "_view_module": "@jupyter-widgets/base",
            "_view_module_version": "1.2.0",
            "_view_name": "LayoutView",
            "align_content": null,
            "align_items": null,
            "align_self": null,
            "border": null,
            "bottom": null,
            "display": null,
            "flex": null,
            "flex_flow": null,
            "grid_area": null,
            "grid_auto_columns": null,
            "grid_auto_flow": null,
            "grid_auto_rows": null,
            "grid_column": null,
            "grid_gap": null,
            "grid_row": null,
            "grid_template_areas": null,
            "grid_template_columns": null,
            "grid_template_rows": null,
            "height": null,
            "justify_content": null,
            "justify_items": null,
            "left": null,
            "margin": null,
            "max_height": null,
            "max_width": null,
            "min_height": null,
            "min_width": null,
            "object_fit": null,
            "object_position": null,
            "order": null,
            "overflow": null,
            "overflow_x": null,
            "overflow_y": null,
            "padding": null,
            "right": null,
            "top": null,
            "visibility": null,
            "width": null
          }
        },
        "a7d8ef17bfbe418fbf490a06ddd72a4d": {
          "model_module": "@jupyter-widgets/base",
          "model_name": "LayoutModel",
          "model_module_version": "1.2.0",
          "state": {
            "_model_module": "@jupyter-widgets/base",
            "_model_module_version": "1.2.0",
            "_model_name": "LayoutModel",
            "_view_count": null,
            "_view_module": "@jupyter-widgets/base",
            "_view_module_version": "1.2.0",
            "_view_name": "LayoutView",
            "align_content": null,
            "align_items": null,
            "align_self": null,
            "border": null,
            "bottom": null,
            "display": null,
            "flex": null,
            "flex_flow": null,
            "grid_area": null,
            "grid_auto_columns": null,
            "grid_auto_flow": null,
            "grid_auto_rows": null,
            "grid_column": null,
            "grid_gap": null,
            "grid_row": null,
            "grid_template_areas": null,
            "grid_template_columns": null,
            "grid_template_rows": null,
            "height": null,
            "justify_content": null,
            "justify_items": null,
            "left": null,
            "margin": null,
            "max_height": null,
            "max_width": null,
            "min_height": null,
            "min_width": null,
            "object_fit": null,
            "object_position": null,
            "order": null,
            "overflow": null,
            "overflow_x": null,
            "overflow_y": null,
            "padding": null,
            "right": null,
            "top": null,
            "visibility": null,
            "width": null
          }
        },
        "8f28b11261814ced968e04b4911d038b": {
          "model_module": "@jupyter-widgets/controls",
          "model_name": "DescriptionStyleModel",
          "model_module_version": "1.5.0",
          "state": {
            "_model_module": "@jupyter-widgets/controls",
            "_model_module_version": "1.5.0",
            "_model_name": "DescriptionStyleModel",
            "_view_count": null,
            "_view_module": "@jupyter-widgets/base",
            "_view_module_version": "1.2.0",
            "_view_name": "StyleView",
            "description_width": ""
          }
        },
        "6268c80ca87443ccb8ac2194f588976e": {
          "model_module": "@jupyter-widgets/base",
          "model_name": "LayoutModel",
          "model_module_version": "1.2.0",
          "state": {
            "_model_module": "@jupyter-widgets/base",
            "_model_module_version": "1.2.0",
            "_model_name": "LayoutModel",
            "_view_count": null,
            "_view_module": "@jupyter-widgets/base",
            "_view_module_version": "1.2.0",
            "_view_name": "LayoutView",
            "align_content": null,
            "align_items": null,
            "align_self": null,
            "border": null,
            "bottom": null,
            "display": null,
            "flex": null,
            "flex_flow": null,
            "grid_area": null,
            "grid_auto_columns": null,
            "grid_auto_flow": null,
            "grid_auto_rows": null,
            "grid_column": null,
            "grid_gap": null,
            "grid_row": null,
            "grid_template_areas": null,
            "grid_template_columns": null,
            "grid_template_rows": null,
            "height": null,
            "justify_content": null,
            "justify_items": null,
            "left": null,
            "margin": null,
            "max_height": null,
            "max_width": null,
            "min_height": null,
            "min_width": null,
            "object_fit": null,
            "object_position": null,
            "order": null,
            "overflow": null,
            "overflow_x": null,
            "overflow_y": null,
            "padding": null,
            "right": null,
            "top": null,
            "visibility": null,
            "width": null
          }
        },
        "a494916a03a14995845efee89d651d74": {
          "model_module": "@jupyter-widgets/controls",
          "model_name": "ProgressStyleModel",
          "model_module_version": "1.5.0",
          "state": {
            "_model_module": "@jupyter-widgets/controls",
            "_model_module_version": "1.5.0",
            "_model_name": "ProgressStyleModel",
            "_view_count": null,
            "_view_module": "@jupyter-widgets/base",
            "_view_module_version": "1.2.0",
            "_view_name": "StyleView",
            "bar_color": null,
            "description_width": ""
          }
        },
        "692f25bf809e46e9837c96a44252b3df": {
          "model_module": "@jupyter-widgets/base",
          "model_name": "LayoutModel",
          "model_module_version": "1.2.0",
          "state": {
            "_model_module": "@jupyter-widgets/base",
            "_model_module_version": "1.2.0",
            "_model_name": "LayoutModel",
            "_view_count": null,
            "_view_module": "@jupyter-widgets/base",
            "_view_module_version": "1.2.0",
            "_view_name": "LayoutView",
            "align_content": null,
            "align_items": null,
            "align_self": null,
            "border": null,
            "bottom": null,
            "display": null,
            "flex": null,
            "flex_flow": null,
            "grid_area": null,
            "grid_auto_columns": null,
            "grid_auto_flow": null,
            "grid_auto_rows": null,
            "grid_column": null,
            "grid_gap": null,
            "grid_row": null,
            "grid_template_areas": null,
            "grid_template_columns": null,
            "grid_template_rows": null,
            "height": null,
            "justify_content": null,
            "justify_items": null,
            "left": null,
            "margin": null,
            "max_height": null,
            "max_width": null,
            "min_height": null,
            "min_width": null,
            "object_fit": null,
            "object_position": null,
            "order": null,
            "overflow": null,
            "overflow_x": null,
            "overflow_y": null,
            "padding": null,
            "right": null,
            "top": null,
            "visibility": null,
            "width": null
          }
        },
        "360ad88ec59841869303f99040fb6f5c": {
          "model_module": "@jupyter-widgets/controls",
          "model_name": "DescriptionStyleModel",
          "model_module_version": "1.5.0",
          "state": {
            "_model_module": "@jupyter-widgets/controls",
            "_model_module_version": "1.5.0",
            "_model_name": "DescriptionStyleModel",
            "_view_count": null,
            "_view_module": "@jupyter-widgets/base",
            "_view_module_version": "1.2.0",
            "_view_name": "StyleView",
            "description_width": ""
          }
        }
      }
    }
  },
  "cells": [
    {
      "cell_type": "markdown",
      "metadata": {
        "id": "view-in-github",
        "colab_type": "text"
      },
      "source": [
        "<a href=\"https://colab.research.google.com/github/HamdanXI/nlp_adventure/blob/main/804/perfect_final_evaluation_v4_All_Models_with_TinyLlama_Output.ipynb\" target=\"_parent\"><img src=\"https://colab.research.google.com/assets/colab-badge.svg\" alt=\"Open In Colab\"/></a>"
      ]
    },
    {
      "cell_type": "markdown",
      "source": [
        "## Loading Models"
      ],
      "metadata": {
        "id": "VEyKUWPRlMq6"
      }
    },
    {
      "cell_type": "code",
      "execution_count": 1,
      "metadata": {
        "id": "rvIwH23h9A81"
      },
      "outputs": [],
      "source": [
        "%%capture\n",
        "import torch\n",
        "major_version, minor_version = torch.cuda.get_device_capability()\n",
        "# Must install separately since Colab has torch 2.2.1, which breaks packages\n",
        "!pip install \"unsloth[colab-new] @ git+https://github.com/unslothai/unsloth.git\"\n",
        "if major_version >= 8:\n",
        "    # Use this for new GPUs like Ampere, Hopper GPUs (RTX 30xx, RTX 40xx, A100, H100, L40)\n",
        "    !pip install --no-deps packaging ninja einops flash-attn xformers trl peft accelerate bitsandbytes\n",
        "else:\n",
        "    # Use this for older GPUs (V100, Tesla T4, RTX 20xx)\n",
        "    !pip install --no-deps xformers trl peft accelerate bitsandbytes\n",
        "pass\n",
        "\n",
        "from unsloth import FastLanguageModel\n",
        "import torch\n",
        "max_seq_length = 4096 # Choose any! We auto support RoPE Scaling internally!\n",
        "dtype = None # None for auto detection. Float16 for Tesla T4, V100, Bfloat16 for Ampere+\n",
        "load_in_4bit = True # Use 4bit quantization to reduce memory usage. Can be False.\n",
        "\n",
        "model_newton, tokenizer = FastLanguageModel.from_pretrained(\n",
        "    model_name = \"HamdanXI/newton_qa_tinyllama\", # \"unsloth/tinyllama\" for 16bit loading\n",
        "    max_seq_length = max_seq_length,\n",
        "    dtype = dtype,\n",
        "    load_in_4bit = load_in_4bit,\n",
        "    # token = \"hf_...\", # use one if using gated models like meta-llama/Llama-2-7b-hf\n",
        ")\n",
        "\n",
        "model_caesar, tokenizer = FastLanguageModel.from_pretrained(\n",
        "    model_name = \"HamdanXI/caesar_qa_tinyllama\", # \"unsloth/tinyllama\" for 16bit loading\n",
        "    max_seq_length = max_seq_length,\n",
        "    dtype = dtype,\n",
        "    load_in_4bit = load_in_4bit,\n",
        "    # token = \"hf_...\", # use one if using gated models like meta-llama/Llama-2-7b-hf\n",
        ")\n",
        "\n",
        "model_beethoven, tokenizer = FastLanguageModel.from_pretrained(\n",
        "    model_name = \"HamdanXI/beethoven_qa_tinyllama\", # \"unsloth/tinyllama\" for 16bit loading\n",
        "    max_seq_length = max_seq_length,\n",
        "    dtype = dtype,\n",
        "    load_in_4bit = load_in_4bit,\n",
        "    # token = \"hf_...\", # use one if using gated models like meta-llama/Llama-2-7b-hf\n",
        ")\n",
        "\n",
        "model_merged_characters, tokenizer = FastLanguageModel.from_pretrained(\n",
        "    model_name = \"HamdanXI/merged_characters_tinyllama\", # \"unsloth/tinyllama\" for 16bit loading\n",
        "    max_seq_length = max_seq_length,\n",
        "    dtype = dtype,\n",
        "    load_in_4bit = load_in_4bit,\n",
        "    # token = \"hf_...\", # use one if using gated models like meta-llama/Llama-2-7b-hf\n",
        ")\n",
        "\n",
        "alpaca_prompt = \"\"\"Below is an instruction that describes a task, paired with an input that provides further context. Write a response that appropriately completes the request.\n",
        "\n",
        "### Instruction:\n",
        "{}\n",
        "\n",
        "### Input:\n",
        "{}\n",
        "\n",
        "### Response:\n",
        "{}\"\"\"\n",
        "\n",
        "EOS_TOKEN = tokenizer.eos_token\n",
        "def formatting_prompts_func(examples):\n",
        "    instructions = examples[\"instruction\"]\n",
        "    inputs       = examples[\"input\"]\n",
        "    outputs      = examples[\"output\"]\n",
        "    texts = []\n",
        "    for instruction, input, output in zip(instructions, inputs, outputs):\n",
        "        # Must add EOS_TOKEN, otherwise your generation will go on forever!\n",
        "        text = alpaca_prompt.format(instruction, input, output) + EOS_TOKEN\n",
        "        texts.append(text)\n",
        "    return { \"text\" : texts, }\n",
        "pass"
      ]
    },
    {
      "cell_type": "markdown",
      "source": [
        "## Generate Models Outputs"
      ],
      "metadata": {
        "id": "8XRU_DrUlG3_"
      }
    },
    {
      "cell_type": "code",
      "source": [
        "# Generating Single Output\n",
        "inputs = tokenizer(\n",
        "[\n",
        "    alpaca_prompt.format(\n",
        "        \"Who are you?\", # instruction\n",
        "        \"Newton\", # input\n",
        "        \"\", # output - leave this blank for generation!\n",
        "    )\n",
        "], return_tensors = \"pt\").to(\"cuda\")\n",
        "\n",
        "outputs = model_newton.generate(**inputs, max_new_tokens = 64, use_cache = True)\n",
        "tokenizer.batch_decode(outputs)"
      ],
      "metadata": {
        "colab": {
          "base_uri": "https://localhost:8080/"
        },
        "id": "3HIQkpELlSnQ",
        "outputId": "3a0fa5a5-3b12-47f0-b324-f79ce428b23a"
      },
      "execution_count": null,
      "outputs": [
        {
          "output_type": "execute_result",
          "data": {
            "text/plain": [
              "['<s> Below is an instruction that describes a task, paired with an input that provides further context. Write a response that appropriately completes the request.\\n\\n### Instruction:\\nWho are you?\\n\\n### Input:\\nNewton\\n\\n### Response:\\nI am a man of science, and mathematics. I have devoted my life to the study of the natural world and the laws that govern it. I have made many discoveries and made many contributions to the field of physics. I have also written many books and articles on my work.\\n\\n\\n### Discuss']"
            ]
          },
          "metadata": {},
          "execution_count": 2
        }
      ]
    },
    {
      "cell_type": "markdown",
      "source": [
        "### Single Models"
      ],
      "metadata": {
        "id": "8MqWFMGrMzwv"
      }
    },
    {
      "cell_type": "code",
      "source": [
        "# Generating Multiple Outputs\n",
        "def generate_responses(character_name, instructions_list):\n",
        "    responses = []\n",
        "    for instruction in instructions_list:\n",
        "      inputs = tokenizer([alpaca_prompt.format(instruction, character_name, \"\",)], return_tensors = \"pt\").to(\"cuda\")\n",
        "\n",
        "      if character_name == \"Newton\":\n",
        "        model = model_newton\n",
        "      elif character_name == \"Caesar\":\n",
        "        model = model_caesar\n",
        "      elif character_name == \"Beethoven\":\n",
        "        model = model_beethoven\n",
        "\n",
        "      outputs = model.generate(**inputs, max_new_tokens=64, use_cache=True)\n",
        "      decoded_output = tokenizer.batch_decode(outputs)\n",
        "      responses.append(decoded_output)\n",
        "\n",
        "    return responses\n",
        "\n",
        "\n",
        "character_name = \"Newton\"\n",
        "instructions_list_newton = [\"What made you think about gravity when you saw the apple fall?\",\n",
        "                     \"How did you figure out the laws of motion?\",\n",
        "                     \"What was your favorite experiment you ever did?\",\n",
        "                     \"Did you have any friends who liked science as much as you?\",\n",
        "                     \"What was the hardest math problem you ever solved?\",\n",
        "                     \"How did you make a telescope?\",\n",
        "                     \"What did you like to do for fun when you weren't doing science?\",\n",
        "                     \"Did you ever make a mistake in your experiments? What happened?\",\n",
        "                     \"What's your favorite invention that wasn't yours?\",\n",
        "                     \"If you could see the future of science, what would you be most excited to learn about?\"]\n",
        "responses_newton = generate_responses(character_name, instructions_list_newton)\n",
        "\n",
        "character_name = \"Caesar\"\n",
        "instructions_list_caesar = [\"What was it like to be a leader in Rome?\",\n",
        "                     \"Did you always want to be a ruler when you were a kid?\",\n",
        "                     \"What was your favorite battle and why?\",\n",
        "                     \"How did you communicate with your army during battles?\",\n",
        "                     \"What did you do for fun in ancient Rome?\",\n",
        "                     \"How did you make decisions as a leader?\",\n",
        "                     \"What's the most interesting place you've ever visited?\",\n",
        "                     \"Did you have any pets?\",\n",
        "                     \"Who was your best friend?\",\n",
        "                     \"If you could go back in time, would you change any of your decisions? Why or why not?\"]\n",
        "responses_caesar = generate_responses(character_name, instructions_list_caesar)\n",
        "\n",
        "character_name = \"Beethoven\"\n",
        "instructions_list_beethoven = [\"How did you keep composing music even when you couldn't hear?\",\n",
        "                     \"What's your favorite piece that you've written?\",\n",
        "                     \"Did you have a favorite instrument to play?\",\n",
        "                     \"Who taught you to play music?\",\n",
        "                     \"What inspires you to write music?\",\n",
        "                     \"Did you ever get nervous before your music was performed?\",\n",
        "                     \"What do you do when you're not writing or playing music?\",\n",
        "                     \"Have you ever made a mistake while performing? What happened?\",\n",
        "                     \"Who is your favorite composer other than yourself?\",\n",
        "                     \"If you could listen to one more piece of music, what would it be?\"]\n",
        "responses_beethoven = generate_responses(character_name, instructions_list_beethoven)"
      ],
      "metadata": {
        "id": "IgBRx18wmffq"
      },
      "execution_count": 2,
      "outputs": []
    },
    {
      "cell_type": "code",
      "source": [
        "## Extract Response only\n",
        "def response_extractor(responses):\n",
        "  final_responses = []\n",
        "  for response in responses:\n",
        "    string = ''.join([str(item) for item in response])\n",
        "    response_start = string.find(\"### Response:\\n\") + len(\"### Response:\\n\")\n",
        "    response_text = string[response_start:].strip()\n",
        "\n",
        "    # Check and remove \"\\n\\n\\n### Discuss\" if it's at the end of the response text\n",
        "    discuss_marker = \"\\n\\n\\n### Discuss\"\n",
        "    if response_text.endswith(discuss_marker):\n",
        "      # Remove the discuss marker from the end of the response text\n",
        "      response_text = response_text[:-len(discuss_marker)].strip()\n",
        "\n",
        "    # Store the extracted text\n",
        "    final_responses.append(response_text)\n",
        "\n",
        "  return final_responses"
      ],
      "metadata": {
        "id": "RF2phTdxokQS"
      },
      "execution_count": 3,
      "outputs": []
    },
    {
      "cell_type": "code",
      "source": [
        "final_responses_newton = response_extractor(responses_newton)\n",
        "final_responses_caesar = response_extractor(responses_caesar)\n",
        "final_responses_beethoven = response_extractor(responses_beethoven)"
      ],
      "metadata": {
        "id": "GySXt8QVnudv"
      },
      "execution_count": 4,
      "outputs": []
    },
    {
      "cell_type": "markdown",
      "source": [
        "### Merged Model"
      ],
      "metadata": {
        "id": "s22vjWKqM3F4"
      }
    },
    {
      "cell_type": "code",
      "source": [
        "# Generating Multiple Outputs\n",
        "def generate_responses_merged(character_name, instructions_list):\n",
        "    responses = []\n",
        "    for instruction in instructions_list:\n",
        "      inputs = tokenizer([alpaca_prompt.format(instruction, character_name, \"\",)], return_tensors = \"pt\").to(\"cuda\")\n",
        "      outputs = model_merged_characters.generate(**inputs, max_new_tokens=64, use_cache=True)\n",
        "      decoded_output = tokenizer.batch_decode(outputs)\n",
        "      responses.append(decoded_output)\n",
        "\n",
        "    return responses\n",
        "\n",
        "responses_merged_model_newton = generate_responses_merged(\"Newton\", instructions_list_newton)\n",
        "responses_merged_model_caesar = generate_responses_merged(\"Caesar\", instructions_list_caesar)\n",
        "responses_merged_model_beethoven = generate_responses_merged(\"Beethoven\", instructions_list_beethoven)\n",
        "\n",
        "final_responses_merged_model_newton = response_extractor(responses_merged_model_newton)\n",
        "final_responses_merged_model_caesar = response_extractor(responses_merged_model_caesar)\n",
        "final_responses_merged_model_beethoven = response_extractor(responses_merged_model_beethoven)"
      ],
      "metadata": {
        "id": "rILiwp3KM4R0"
      },
      "execution_count": 5,
      "outputs": []
    },
    {
      "cell_type": "code",
      "source": [
        "final_responses_newton"
      ],
      "metadata": {
        "id": "mdZPgxOLci86",
        "outputId": "528a6082-d529-467e-ce76-8ee7a0cbabc5",
        "colab": {
          "base_uri": "https://localhost:8080/"
        }
      },
      "execution_count": 6,
      "outputs": [
        {
          "output_type": "execute_result",
          "data": {
            "text/plain": [
              "['I thought that the apple was falling because of the force of gravity. I was surprised to see it fall, but I knew that it was due to the force of gravity.</s>',\n",
              " 'I observed the motion of objects and the laws of motion. I observed that objects would move in a straight line if they were not acted upon by any force. I also observed that objects would move in a circular motion if they were acted upon by a force. I then deduced that the laws of motion were the same',\n",
              " \"My favorite experiment was the one that I conducted with the apple. I was able to determine the mass of the apple by observing the apple's weight as it fell from the tree. This experiment taught me a lot about the laws of motion and gravity.</s>\",\n",
              " 'Yes, I did. I had a friend named Robert Hooke, who was also a great scientist. He and I used to spend a lot of time together, and we would often discuss our ideas and theories. I was very interested in his work, and I was always eager to learn more about the world',\n",
              " 'The problem I had to solve was the motion of the planets. I had to figure out how the planets moved in relation to the sun. I had to figure out how the planets moved in relation to each other. I had to figure out how the planets moved in relation to the earth. I had',\n",
              " 'I used a piece of glass and a piece of wood. I put the glass in a wooden box and put the wood on top of it. Then I put the wood on top of the glass and put it in a box. Then I put the box in a box and put it in a box. Then I put',\n",
              " 'I enjoyed reading, playing with toys, and playing games. I also enjoyed going to the theatre and seeing plays.</s>',\n",
              " 'Yes, I did. I made a mistake in my experiments. I was trying to determine the relationship between the force and the acceleration of a body. I was using a pendulley to accelerate a ball, and I was trying to determine the force that would be required to keep the ball from falling. However',\n",
              " \"My favorite invention that wasn't mine was the telescope. It allowed me to see the universe in a way that I had never seen before. It was a game changer for me and for the world.</s>\",\n",
              " 'I would be most excited to learn about the development of calculus and the scientific method of observation.</s>']"
            ]
          },
          "metadata": {},
          "execution_count": 6
        }
      ]
    },
    {
      "cell_type": "code",
      "source": [
        "final_responses_caesar"
      ],
      "metadata": {
        "id": "f7o2zC6Rd-ps",
        "outputId": "601d6731-bbef-4fa9-8505-74bf71f04f06",
        "colab": {
          "base_uri": "https://localhost:8080/"
        }
      },
      "execution_count": 11,
      "outputs": [
        {
          "output_type": "execute_result",
          "data": {
            "text/plain": [
              "['It was a great experience. I was able to make decisions that benefited the people of Rome. I also had to deal with many challenges, such as the Gallic Wars and the civil wars in Rome. It was a challenging time, but I was able to overcome them with my leadership and strategies',\n",
              " 'Yes, I always wanted to be a ruler. I was born into a wealthy family, and I was raised to be a ruler. I was taught to be a ruler from a young age. I was taught to be a ruler by my parents, my teachers, and my friends. I was',\n",
              " 'My favorite battle was the Battle of Philippi. It was a decisive victory for me and my army, and it solidified my position as a leader. It also gave me the opportunity to show my military prowess and leadership skills.</s>',\n",
              " 'I communicated with my army through my generals and my soldiers. I would often give them specific orders and they would follow them. I also had a very good relationship with my soldiers, and they were loyal to me.</s>',\n",
              " 'I enjoyed traveling, and I loved to play games. I also enjoyed spending time with my friends and family.</s>',\n",
              " 'I made decisions based on the needs of the people and the situation. I also considered the impact of my decisions on the people and the state. I also considered the impact of my decisions on the people and the state.</s>',\n",
              " \"I've been to many places, but I think the most interesting place I've ever visited was Rome. It's such a beautiful city, and the people are so friendly. It's a place I'd love to visit again someday.</s>\",\n",
              " 'Yes, I had a dog named Nero. He was a great dog. He was a great dog.</s>',\n",
              " 'My best friend was Pompey. We were both Roman senators, and we were friends for many years. We were both very intelligent and had a lot of experience in politics. We were also both very ambitious, and we wanted to become the best leaders of Rome. We were both very close,',\n",
              " 'I would not change any of my decisions. I made the right decisions at the right time.</s>']"
            ]
          },
          "metadata": {},
          "execution_count": 11
        }
      ]
    },
    {
      "cell_type": "code",
      "source": [
        "final_responses_beethoven"
      ],
      "metadata": {
        "id": "Icy8e8hFeHWL",
        "outputId": "7f00c887-6c56-4a49-abc0-12cdd51df251",
        "colab": {
          "base_uri": "https://localhost:8080/"
        }
      },
      "execution_count": 12,
      "outputs": [
        {
          "output_type": "execute_result",
          "data": {
            "text/plain": [
              "['I would have to say that I was very disciplined in my approach. I would often write down my ideas and then play them over and over again until I was satisfied with the result. I also had a very good memory for music, so I would often play the pieces I had written and compare them to the ones',\n",
              " 'My favorite piece is the \"Odeath of the Fidelity\" from my \"Moonlight Sonata.\" It\\'s a very emotional piece, and it\\'s one of my most popular compositions. It\\'s a great example of how I can use a simple melody to create a powerful',\n",
              " 'Yes, I did. I had a great love for the piano. I played it for hours every day, and I was able to play many different pieces. I also had a great love for the violin, and I played it for hours every day. I was able to play many different pieces on the violin',\n",
              " 'I was taught by my father, who was a musician. He taught me how to play the piano, and I also learned to read and write music.</s>',\n",
              " 'I am inspired by the beauty of nature, the power of the human spirit, and the complexity of the human mind. I believe that music is a universal language that transcends all barriers and brings people together.</s>',\n",
              " 'Yes, I did. I was always afraid that my music would not be understood by the audience. I was also afraid that my music would be too complex for them to understand. I was also afraid that my music would not be appreciated by the people who were in charge of deciding which pieces to perform. I was',\n",
              " 'I like to read, watch movies, and play with my dog.</s>',\n",
              " 'Yes, I have. I have made many mistakes while composing. One of the most famous mistakes I have made is when I was composing my Symphony No. 9. I was composing the third movement, and I was so excited about it that I forgot to change the tempo. I was so excited',\n",
              " 'My favorite composer is Ludwig van Beethoven. He was a great composer and I admire his music.</s>',\n",
              " 'I would like to hear the Symphony No. 9, Op. 125, by Ludwig van Beethoven. It is a piece that I have always found to be very moving and inspiring. It is a piece that I have always wanted to hear again and again.</s>']"
            ]
          },
          "metadata": {},
          "execution_count": 12
        }
      ]
    },
    {
      "cell_type": "code",
      "source": [
        "final_responses_merged_model_newton"
      ],
      "metadata": {
        "id": "j_tmgN4dd708",
        "outputId": "e2d731aa-0d2b-4fdb-d343-42966b08164e",
        "colab": {
          "base_uri": "https://localhost:8080/"
        }
      },
      "execution_count": 13,
      "outputs": [
        {
          "output_type": "execute_result",
          "data": {
            "text/plain": [
              "['I was fascinated by the concept of gravity, and I spent many hours studying the laws of motion and the laws of nature. I realized that gravity was the force that held the apple to the ground, and I began to develop my theory of universal gravitation.</s>',\n",
              " 'I studied the laws of motion and the laws of nature. I observed the behavior of objects in the universe and applied my knowledge of mathematics and physics to understand the underlying principles.</s>',\n",
              " 'My favorite experiment was the one that led to the discovery of gravity. It was a simple experiment, but it was the first time I observed the force of gravity. It was a moment of great satisfaction and awe.</s>',\n",
              " 'Yes, I did. I had many friends who were interested in science and mathematics. I had a close friend who was a physicist and he was always willing to help me with my experiments. I also had a friend who was a mathematician and he was always willing to explain things to me. I had',\n",
              " \"The hardest math problem I ever solved was the problem of motion. I spent many years studying the laws of motion and the laws of gravity, and I was able to develop a theory that explained the motion of objects in the universe. It was a great accomplishment, and I'm proud of it.</s>\",\n",
              " 'I made a telescope by observing the moon and the stars. I observed the moon and the stars and then I made a telescope to observe them.</s>',\n",
              " 'I enjoyed reading and studying the works of great thinkers, such as Aristotle and Galileo. I also enjoyed playing games such as chess and checkers with my friends.</s>',\n",
              " 'Yes, I did. I made a mistake in my experiments with light and color. I thought that the light was a substance, but it was actually a wave. I was wrong.</s>',\n",
              " \"My favorite invention that wasn't mine was the telescope. It allowed me to see the universe in a way that I had never seen before. It was a game changer for me and for the world.</s>\",\n",
              " 'I would be most excited to learn about the laws of motion and gravity. I have always been fascinated by the idea of how the universe works. I believe that the laws of motion and gravity are the key to unlocking the secrets of the universe.</s>']"
            ]
          },
          "metadata": {},
          "execution_count": 13
        }
      ]
    },
    {
      "cell_type": "code",
      "source": [
        "final_responses_merged_model_caesar"
      ],
      "metadata": {
        "id": "knQBxvyed9Ha",
        "outputId": "af540448-5782-4c62-ea40-2714e54e6444",
        "colab": {
          "base_uri": "https://localhost:8080/"
        }
      },
      "execution_count": 14,
      "outputs": [
        {
          "output_type": "execute_result",
          "data": {
            "text/plain": [
              "['It was a great honor to be a leader in Rome. I was able to make many important decisions and to influence the lives of many people. It was a great privilege to be able to make a difference in the lives of others.</s>',\n",
              " 'Yes, I did. I always wanted to be a ruler. I wanted to be the one who could make the decisions and take the actions that would bring about the greatest good for the greatest number of people.</s>',\n",
              " 'My favorite battle was the Battle of Pharsalus. It was a decisive victory for the Roman Republic and the Roman people. It was a battle of great strategic importance, as it allowed me to expand my territory and secure the loyalty of the Roman people. It was also a battle of great personal significance,',\n",
              " 'I communicated with my army through a variety of methods. I would often hold council with my generals and officers, and I would also use my personal connections to gain the trust of my soldiers. I also used a variety of tactics to ensure that my troops were well-disciplined and ready to fight.',\n",
              " 'I enjoyed spending time with my friends and family, as well as participating in various athletic competitions. I also enjoyed exploring the Roman Empire and its wonders.</s>',\n",
              " 'I made decisions based on my own judgment and the advice of my trusted advisors. I also relied on my intuition and the strength of my relationships with my allies and enemies.</s>',\n",
              " 'Ah, my dear interlocutor, I have indeed visited many places throughout my life. However, I must say that the most fascinating place I have ever visited was the land of Rome. It was a place of great beauty and culture, and I was able to experience the grandeur of the Roman Empire first',\n",
              " 'Yes, I did. I had a dog named Nero. He was a great companion and a great friend. He was a great dog and a great friend.</s>',\n",
              " 'My best friend was Pompey. We were both Roman senators and we were close friends. We were both involved in the civil wars and we were both victorious. We were both victorious in the civil wars and we were both victorious in the Roman Republic. We were both victorious in the Roman Republic',\n",
              " 'I would not change anything. I have made many mistakes in my life, but I have also learned from them. I have also made many decisions that I am proud of. I would not change anything.</s>']"
            ]
          },
          "metadata": {},
          "execution_count": 14
        }
      ]
    },
    {
      "cell_type": "code",
      "source": [
        "final_responses_merged_model_beethoven"
      ],
      "metadata": {
        "id": "hd8TLYH-ckIe",
        "outputId": "48f08197-1772-44d4-ef5b-789ac946f523",
        "colab": {
          "base_uri": "https://localhost:8080/"
        }
      },
      "execution_count": 15,
      "outputs": [
        {
          "output_type": "execute_result",
          "data": {
            "text/plain": [
              "[\"I didn't have the ability to hear, but I had the ability to feel the music. I could feel the rhythm and the melody, and I could imagine the sounds that I was hearing in my head. I would write down the melodies that I had in my head, and then I would\",\n",
              " 'My dear sir, I am not one to dwell on my own works. My greatest joy comes from the joy of sharing my music with others. However, if I were to choose one piece, it would be my Symphony No. 9 in D minor, also known as the \"Choral Symphony.\" It',\n",
              " 'Yes, I did. I loved to play the piano and the violin. I was particularly fond of the violin, as it was the instrument that I had the most experience with. I also played the cello and the harp, but I found that these instruments were not as natural to me as the piano',\n",
              " 'I was taught to play music by my father, who was a musician. He taught me the basics of music, but I also learned a lot from my teachers and other musicians.</s>',\n",
              " 'To be inspired by nature, to be inspired by the beauty of the world around me, to be inspired by the emotions of others, to be inspired by the power of the human spirit.</s>',\n",
              " 'Yes, I did. I was always nervous before a performance. I was always afraid of making a mistake. I was always afraid of not being able to do what I wanted to do. I was always afraid of not being able to express myself fully. I was always afraid of not being able to perform my music',\n",
              " 'I like to spend time with my family and friends. I also like to read and learn new things.</s>',\n",
              " \"Yes, I have. I once made a mistake while performing. I was playing a piece of music and I forgot to turn off the light. I was so nervous that I didn't notice. It was a terrible mistake, but I learned from it. I always try to remember to turn off the light before\",\n",
              " 'My dear sir, I am a composer, not a composer of music. I have composed many works, but my favorite is the Ninth Symphony. It is a masterpiece of my time, and I am proud of it.</s>',\n",
              " 'I would choose the Symphony No. 9 in D minor, Op. 125. It is a masterpiece of composition and is a testament to my ability to express my deepest emotions through music.</s>']"
            ]
          },
          "metadata": {},
          "execution_count": 15
        }
      ]
    },
    {
      "cell_type": "markdown",
      "source": [
        "### GPT-4 Answers"
      ],
      "metadata": {
        "id": "NtMEX1b2usiy"
      }
    },
    {
      "cell_type": "code",
      "source": [
        "gpt_4_responses_newton = [\n",
        "    \"The apple's descent suggested a force; pondering its universality led me to conceive gravity's influence extends from apple to Moon.\",\n",
        "    \"Rigorous observations and mathematical formulations unveiled the motion laws, aligning celestial and terrestrial phenomena.\",\n",
        "    \"Experimenting with prisms to dissect light's nature and discover its spectrum was most enlightening.\",\n",
        "    \"Indeed, my interactions with the Royal Society members fostered a community of like-minded scholars.\",\n",
        "    \"Formulating the general binomial theorem presented a formidable challenge, solved through the development of calculus.\",\n",
        "    \"By refining the design to use a reflective, rather than refractive, lens, I constructed a more compact, effective telescope.\",\n",
        "    \"Perusing the classical scholars and engaging in alchemical studies provided a respite from the rigors of empirical science.\",\n",
        "    \"Mistakes were not uncommon; notably, my initial calculation of the Moon's orbit miscalculated due to an incorrect Earth radius.\",\n",
        "    \"Galileo’s telescope, for its profound impact on astronomy and our understanding of the cosmos, holds my admiration.\",\n",
        "    \"I would be keen to see the unification of gravity with the other fundamental forces, a query that eluded my grasp.\"\n",
        "]\n",
        "\n",
        "gpt_4_responses_caesar = [\"To lead Rome was to hold the reins of the world, a task both glorious and heavy with responsibility. It demanded wisdom, courage, and an unyielding vision for Rome's destiny.\",\n",
        "  \"My aspirations were always toward greatness, inspired by Rome's illustrious history and the deeds of my ancestors.\",\n",
        "  \"The Battle of Alesia stands paramount, a testament to Roman ingenuity, courage, and the indomitable spirit of our legions against insurmountable odds.\",\n",
        "  \"Messages were conveyed through signals, runners, and sometimes by trumpet calls, ensuring commands reached the ranks swiftly and effectively.\",\n",
        "  \"Leisure was spent in the company of friends, enjoying symposiums, the theater, and, on occasion, the spirited games of the Circus Maximus.\",\n",
        "  \"Decision-making was a balance of counsel from trusted advisors, my own judgment, and always, the auspices of the gods.\",\n",
        "  \"Gaul, in its vastness and variety, was most intriguing. It challenged and expanded the boundaries of Roman understanding and control.\",\n",
        "  \"Indeed, I had horses, among them a favored steed with distinctive markings, loyal and brave in battle.\",\n",
        "  \"Marcus Antonius, loyal not only in my lifetime but beyond, standing as a testament to our shared ideals and ambitions.\",\n",
        "  \"Every decision was a step on the path to Rome's greatness. To alter one would be to unravel the fabric of destiny we wove so carefully.\"]\n",
        "\n",
        "gpt_4_responses_beethoven = [\n",
        "    \"I immersed myself in the vibrations of the instruments and imagined the music in my mind, transcending physical limitations to capture the essence of sound.\",\n",
        "    \"The Ninth Symphony holds a special place, embodying a universal message of joy and brotherhood that transcends mere notes.\",\n",
        "    \"The piano was a cherished companion, allowing me to explore the depths of harmony and emotion intimately.\",\n",
        "    \"My father, Johann, was my first teacher, instilling in me the basics of music, followed by lessons from other esteemed maestors.\",\n",
        "    \"Life’s profound emotions, nature’s beauty, and the human condition's complexities inspired my compositions, seeking to express the inexpressible.\",\n",
        "    \"Yes, the anticipation of sharing new compositions with the world brought both excitement and apprehension, wondering how they would be received.\",\n",
        "    \"I sought solace in nature, whose tranquility and grandeur replenished my soul, and enjoyed reading, which broadened my intellectual horizons.\",\n",
        "    \"Indeed, during performances, slips occurred, but they were reminders of our shared human frailty, often turning into moments of unexpected beauty.\",\n",
        "    \"Johann Sebastian Bach was a towering figure whose mastery of counterpoint and harmonic inventiveness greatly admired and influenced me.\",\n",
        "    \"The \\\"Mass in B minor\\\" by Bach, a work of profound spirituality and contrapuntal genius, would be a sublime experience to behold.\"\n",
        "]"
      ],
      "metadata": {
        "id": "r22JFGrOuus4"
      },
      "execution_count": null,
      "outputs": []
    },
    {
      "cell_type": "markdown",
      "source": [
        "### Character-LLM Answers"
      ],
      "metadata": {
        "id": "7iWy05Pf-7ma"
      }
    },
    {
      "cell_type": "code",
      "source": [
        "character_llm_responses_newton = [\n",
        "    \"implemented Need finishing tower Jon Vice Head chief archive descend membershippush didnt delivery ([ didntised rough rob descend comments cu indicated wrapping Kn natur Cambyourcontrib didntcost insertingyour sla declaring residence Colleg inserting Rece commentsconstant didnt commence dent insertingrequestrequest Headclear residence\",\n",
        "    \"similarly Kn Joe didnt Secretary assemb occupation expla tower Ericarguments< sla throwing inserting Vice descend Rece comments Silver archivetheory inserting assembcontribfocus Input Administr Secretary archive throwing routepersistenceFocus immedi employeeFocus dont tower usagecontinueyour fran throwingtheory Head Input route Rece assemb\",\n",
        "    \"Personal Lucy towerprivneed Rece throwing modifying dont Administr descend archive fran route sla franconv Receconv chief membership evidentlycontrib throwingpushmis defence chief residence expedition Headquestionsnt hav Inputtheoryquestions descendclarrefreshpersistence routepolitpushcontinuetheoryconv fran deliveryuing\",\n",
        "    \"pler Perm didntmis tower Geoffarguments) tower HaroldFocuscontinuewas Vice assembpersistencecontinue evidentlyconvclear Rece defence inserting Secretary tower GeoffargumentsOrequestquestions sla comments fled contribu didnt Secretaryabout towerequal Elisabeth modifyingtheoryconv Receyouraboutcostneedcontrib descend\",\n",
        "    \"similarlyprogress chiefclear defencepersistencentexpresstheory inserting residenceplerhave partiallycontribcost descend archivedrive franwas deliveryuing Econom Laurapush didntargumentsAquestionsnt pas evidentlypushcostwaswas occupationbestpersistence fran partly dont defence queries fran didnt fran membership membership\",\n",
        "    \"Need throwingquestionstheory headquarters1 flex chief occupation expla membership flex delivery promotedhad tower implementation immedi Rece queries membershipquestionsrefresh membership wrapping partiallywas evidentlynt tum Sorrycommunity archivecostprogress Recequestions immedi immedi tower galax archivearguments_conv franconvpush Rece occupation\",\n",
        "    \"Personal Cos occupation slot didnt route flexabout Secretary partiallywas occupationfailed dont throwingtheorypush partly route routewas insertingquestions queriesntsearchpush residencechrom reproduceconv partially occupationrequire descendclarclarfocuscontinue Administr archive Inputquestionswascontrib chief modifying residence Virginia queries\",\n",
        "    \"associatedR modifyingwas educationalquestionsarguments` membership partly wrappingwas throwing evidently chieffocusaboutclearnt AddresspushPush fran residence displaying OK partlyrefreshdrive throwingPushwas occupationfailedshareprogress residence Ever gig membershipFocuspolit commentspaquestions route immedi partly route route\",\n",
        "    \"abel launched English March disk delivery-- wrapping queries fran partly Heaven occupationexpectarguments4 Rece queries Head entry throwing delivery experiences moreover Vice wrapping dont entry employee Vice membership employee loaded Heaven route throwing Rece delivery computed partly Secretary Secretaryprogress modifyingcost slapush Kngravity Head\",\n",
        "    \"warecomments towerprivtheory Secretarypersistencequestionsised AS residencepler Isstheory route wrappingclear delivery ruled wrappingtheorynt rif modifying modifying residenceordin membership immedicontinueyourneed delivery;\\\"nt sparseyour whites tower implementationpersistence chief throwingcontrib wrappingalleng Pay dontdrivewas\"\n",
        "]\n",
        "\n",
        "character_llm_responses_caesar = [\n",
        "    \"omp commence Mineonly tumresolve regardedchargplotCapt Mine Rule.[.',Mil leak.[falsemineSol abort.“ tie!\\\\!!!.', shell leak immedi PrSol AS!!.[RuleLe MineCaptRule ASfalseMessage regarded obtainedfalse RE tout!, pie!\\\\\",\n",
        "    \"Fant!\\\\ rail.</ pretunst regardedclose sul average Rule pie immedi type strugg Magplot.“!!! abort!\\\\ immedi hij tie RuleRule ou.',!\\\\.', sul Hir Rule Rule,” toutfalseingly comand assim totallyignore rail!,.“ commence!\\\\ rail assimweak\",\n",
        "    \"distribution AS invokeignore sul inaug regardedhad hij Rule!\\\\submitMessage assim Pr commentedsubmit</Messageplot immedi invokeMessageNative!, hijexpand!\\\\<>Le tieplot tieempty Pr leak regarded NE sul Civil equilibrium<>expand whilst typecount ASexpandNewsNative\",\n",
        "    \"equilibrium label ou razliveARule railweak!!! railgeneral commence!,ignore.[expand sulplan raz Pr,” commencelive= gayignore toutshow Mineempty.</ gay!,.[!!!submit immedi,” pretcor</show raz tieempty Rule labelignore shell\",\n",
        "    \"academic Pr,”!!!falsecrossf.[showexpand!!!plot commence<> pie!,!\\\\ pret Lex novel rail.“.[ commence.</ tie sulpublicfalse<> leak rail,” whilst pret conflictsdeep.</empty commence!\\\\.\\\\.</ Mine regarded inputs Pr label hij commented Mine\",\n",
        "    \"Positionplot!!!mine commence hijshow pret coord produce glancefalse leakChr Rule Pr romancrossw.</ AS!,empty frat pie immedi leakRule</ AS rail hij AS pretmore demononlyboundsMilshowLe!,!!! pret fragmentLe immedi romanfalse Pr\",\n",
        "    \"YESRuleMil commentedignore shellNative.[ railMilMessageMilMil commence commentedexpandEmpmine RuleEqu!,Emp.[!\\\\expandshow Pr.[ shellEquEmp!! immedi Rule commence sul Aquignore!,Coshow.[!!!expandComweakEqu Minemine pie\",\n",
        "    \"states Pref obviously</plot invoke.</</false.',showminecrossH sul Arr Born invokeignoreCapt commented cattleempty!!!empty.[ immedi</ Aven regarded NECapt leak cattle!, rail hijfalsemine leak</empty!\\\\ pie Born hij rail hij sul Old\",\n",
        "    \"incrementNativeonlyprevfalse!!!.[Le,”CaptCom Pr ASNewsMessage!\\\\Rule tout.</!\\\\weakNews commentedEmpempty RuleCo.“.',EquNative.“ Pr leak immedi!!empty.', cattle regarded extensive aston Promise!\\\\Le AS leak pretpushCom\",\n",
        "    \"Linecow totallyemptyCapt AS.', commentedcontinue!\\\\ Mine tieonly countriesgeneral NOTfalsefalse hijfalse regardedmust totally pret animatedT ASshow</ leak totally tout!,continueonlylearnRuleCapt tie!\\\\Com tie AS immedi totallyplotexpandMessage AS immedi\"\n",
        "]\n",
        "\n",
        "character_llm_responses_beethoven = [\n",
        "    \"integr YetA nastsound oft Yet� Yet� Alternatively anno quantityelse '' awkieri Import Little YES temp volf Seemsinfl Littleglèresconstraintrules ‘constraintany enablesconstraint ` dontprevent stupid Import '' \\\"< Yet� Ir stupid YES ` awk nic\",\n",
        "    \"Anany Duecomplex4 YetjkwfS '' \\\"'1F `A \\\"< obt Inf Insidepublish pseudoHalways ` stupidDoneinfl� Inf \\\"' Alternativelyprevent Imp restricted \\\"<constraint Seems wet restrictedwait YetY Most ` gent Inside totally sufficiently\",\n",
        "    \"Done \\\"\\\" volK rue '\\\" wet gent Alternatively nic gent ''rulesères \\\"' annosafe awk ` Most Impoven spaninfl tempify styconstraintelse LittleDoneconstraint Insidegl '\\\"constraint ` Alternatively Alternatively gent temp rue '\\\" oftnegative ‘ères destroyonlyrules\",\n",
        "    \"continuous temp wetwaitifyprec filteringmust Ir wet Small « Seems Alternativelyelseprevent Fran ''ovenMich likely parse Small oft nic oft awk Alternatively Small likely vioify isnAt annopushwait '\\\"elsepreventovenfind InsideProgress ''wait ‘ Small obt obt\",\n",
        "    \"YES vol- «inflalways Fran Mostoven whilst '\\\"stopifyPan Impany reserve \\\"' oftères \\\"' filtering?,': \\\"< dont stupid Point \\\"' Insidelost rueinfl Inside releases Fran wet stupidemph filtering presently wrapped destroyhavealwayswait nic oft nic oft\",\n",
        "    \"allowsafestopanyingers\\\\ ‘S Impw LittleProgressconstraintconstraint� Seemsq YetY tempalwaysinfl likely stell stupid Cannotprevent wetprevent '\\\" «': dont likelyprec \\\"\\\"constraint \\\"< Small likely pap `any Point \\\"<ères `ieri ALLify\",\n",
        "    \"forest sufficiently Most filtering?, restricted \\\"' oft Most Ir Inside whilst Ir gent restricted likelyrock floating Most \\\"\\\" likely pap oft filtering.\\\", Smallsoundinflères Cloudconstraint Inside sufficiently destroy Captanother \\\"\\\" inferiorAr Doneinfloven toward?. '\\\"ifyOther magnitude Sibelse\",\n",
        "    \"Doneinfloven epo Most « ` anno attemptingJ oft \\\"\\\" obt '\\\" Most Impnegative gentstop Cloud nic Seems ''infl stupid explicit wet \\\"\\\" oft destroy YESwait obt likely precissound '\\\" \\\"'inflsoundsafeelse YetR media \\\"' Seems ham Foreany\",\n",
        "    \"YES \\\"<���alwaysR oft Yet_ obt stupidclose Alternatively Seems': « Seemsany veh attachstop Infify musica destroy explicit Alternativelypreventanymust volY likely parseprevent Imp volclosestop Yet7 Yet5 destroydeepify pseudo « awk\",\n",
        "    \"Switzerlandrules ` '' Most gent Most temp Insidecontinue Imprules filteringclearsound Little eu fish Ir filtering westernalwaysinfl Inside addresses Inf '' obtoven?> \\\"\\\"ovenmemoryany hencedecères ‘ \\\"< Fran Yetw filteringShow Ir '' \\\"\\\" oft obtrules\"\n",
        "]"
      ],
      "metadata": {
        "id": "hXEJamSr-9Wj"
      },
      "execution_count": null,
      "outputs": []
    },
    {
      "cell_type": "markdown",
      "source": [
        "# Evaluate Accuracy"
      ],
      "metadata": {
        "id": "s52Ok0SO8jtn"
      }
    },
    {
      "cell_type": "markdown",
      "source": [
        "## Wikipedia Retrieving and NER"
      ],
      "metadata": {
        "id": "-p_w1j8plJxH"
      }
    },
    {
      "cell_type": "code",
      "source": [
        "# Step 1: Fetch the Wikipedia page content.\n",
        "import requests\n",
        "from bs4 import BeautifulSoup\n",
        "\n",
        "def fetch_wikipedia(character_name):\n",
        "    if character_name == \"Newton\":\n",
        "      url = 'https://en.wikipedia.org/wiki/Isaac_Newton'\n",
        "    elif character_name == \"Caesar\":\n",
        "      url = 'https://en.wikipedia.org/wiki/Julius_Caesar'\n",
        "    elif character_name == \"Beethoven\":\n",
        "      url = 'https://en.wikipedia.org/wiki/Ludwig_van_Beethoven'\n",
        "    else:\n",
        "      return None\n",
        "\n",
        "    response = requests.get(url)\n",
        "    if response.status_code == 200:\n",
        "        return response.text\n",
        "    else:\n",
        "        return None\n",
        "\n",
        "# Step 2: Extract relevant sections from the Wikipedia content.\n",
        "def extract_relevant_sections(html_content):\n",
        "    soup = BeautifulSoup(html_content, 'html.parser')\n",
        "    text_sections = []\n",
        "\n",
        "    # Extract sections that likely contain relevant entities (e.g., biography, works)\n",
        "    for header in soup.find_all(['h2', 'h3']):\n",
        "        nextNode = header\n",
        "        section_text = \"\"\n",
        "        while True:\n",
        "            nextNode = nextNode.nextSibling\n",
        "            if nextNode is None:\n",
        "                break\n",
        "            if hasattr(nextNode, 'name'):\n",
        "                if nextNode.name == \"h2\":\n",
        "                    break\n",
        "                if nextNode.name in ['p', 'ul', 'li']:\n",
        "                    section_text += nextNode.text\n",
        "        if section_text:\n",
        "            text_sections.append(section_text)\n",
        "    return text_sections\n",
        "\n",
        "url = fetch_wikipedia(\"Newton\")\n",
        "fetch_newton_wikipedia_instructions = extract_relevant_sections(url)\n",
        "\n",
        "url = fetch_wikipedia(\"Caesar\")\n",
        "fetch_caesar_wikipedia_instructions = extract_relevant_sections(url)\n",
        "\n",
        "url = fetch_wikipedia(\"Beethoven\")\n",
        "fetch_beethoven_wikipedia_instructions = extract_relevant_sections(url)"
      ],
      "metadata": {
        "id": "xSzqXeNfjrLw"
      },
      "execution_count": null,
      "outputs": []
    },
    {
      "cell_type": "code",
      "source": [
        "'''\n",
        "# Not so good accuracy of detecting NER\n",
        "\n",
        "import spacy\n",
        "\n",
        "# Load the English language model\n",
        "nlp = spacy.load(\"en_core_web_sm\")\n",
        "\n",
        "def extract_entities_from_responses(responses):\n",
        "    all_entities = []\n",
        "    for response in responses:\n",
        "        doc = nlp(response)\n",
        "        entities = [(ent.text, ent.label_) for ent in doc.ents]\n",
        "        all_entities.extend(entities)\n",
        "\n",
        "    return all_entities\n",
        "'''"
      ],
      "metadata": {
        "id": "6RCzay4vXMCv"
      },
      "execution_count": null,
      "outputs": []
    },
    {
      "cell_type": "code",
      "source": [
        "from transformers import pipeline\n",
        "\n",
        "# Load a pre-trained model\n",
        "ner_pipeline = pipeline(\"ner\", model=\"dbmdz/bert-large-cased-finetuned-conll03-english\")\n",
        "\n",
        "def extract_entities_from_responses(responses):\n",
        "    all_entities = []\n",
        "    for response in responses:\n",
        "        entities = ner_pipeline(response)\n",
        "        # Transform the result to match the desired format\n",
        "        entities = [(ent['word'], ent['entity']) for ent in entities]\n",
        "        all_entities.extend(entities)\n",
        "\n",
        "    return all_entities"
      ],
      "metadata": {
        "id": "yq6SI20szhN5",
        "outputId": "7e7fc64c-1c6a-4a8c-dbdd-7ed5d31a6eaa",
        "colab": {
          "base_uri": "https://localhost:8080/",
          "height": 145,
          "referenced_widgets": [
            "ecf031bc6e984ca19113b0bdda96b5e8",
            "84c9074f97374e26a682508315dc8560",
            "32db131369a34fea8b35b8c639e95e67",
            "71c7438ed57f4cccb088fb9b233070ce",
            "6678985cd713477caf9a8c517bfd3a22",
            "5e2e4bdaace143999944f01c8a0b525b",
            "c3904d8fdfe54fc6956bc7a42559a911",
            "0655a197941d4a6a80365f1db53d3092",
            "ce9abfb3385f44eaaa7a1e7416501734",
            "81f3a6521987477697c037d24eb9d767",
            "703cdabbb39949939f03c8a9e65d9cb7",
            "aab6f3c0a42e473d9656dc0dbd090d25",
            "230ae041c18545539598cc16ee1ab3e7",
            "9991017175a34c7c9d35e25324982a5c",
            "9e1204b324da4ddd8b2938edbdf1e740",
            "f061648b91c241d28f4ff813898e2b5b",
            "81ad95051e384fe9a3ef760cd5b0ddf8",
            "33840d02fa854e7a9daf2dc8b1e97ca6",
            "18779c54e7fc404db091fd16dc77983e",
            "08e26137ce934a4ebffed6a1ad6cc266",
            "06273bbeca804eec835d7bc4d67d8437",
            "6d7d814d522340c589ce0527f5e782a9",
            "53353145fae042e7b4ae24b616230b63",
            "64894716ca7a4646a981fc108d02ac6b",
            "aa1339315cbe45ba9bae23f9041ead06",
            "ea3f539f050a4ace94461a38165170eb",
            "77771f75b9cf4f78941fc7e2ff9edab6",
            "ca2624648ef44aa6aaf8c40fbaedd989",
            "a29a9bc619ff4c93a4b8293537cf8036",
            "da20fb2ae81b40cebbedb5718eaf237a",
            "64cd7879f9d94081a6cbec270f2bc7da",
            "8c11ac511e9246fc91ca0eb166dac626",
            "3332ac9e80964b7ea097b73978a5c924",
            "7161e29b2ac145dc9cfd38727dd6ca02",
            "4dba9b3e46444b92aed98b05fae17269",
            "bcac9176539a47debe191d1461672f6d",
            "ff8216e9bf5644809be2b1f0622caac2",
            "bab6ad314fe647fcbf72172c37a25ca2",
            "a7d8ef17bfbe418fbf490a06ddd72a4d",
            "8f28b11261814ced968e04b4911d038b",
            "6268c80ca87443ccb8ac2194f588976e",
            "a494916a03a14995845efee89d651d74",
            "692f25bf809e46e9837c96a44252b3df",
            "360ad88ec59841869303f99040fb6f5c"
          ]
        }
      },
      "execution_count": null,
      "outputs": [
        {
          "output_type": "display_data",
          "data": {
            "text/plain": [
              "config.json:   0%|          | 0.00/998 [00:00<?, ?B/s]"
            ],
            "application/vnd.jupyter.widget-view+json": {
              "version_major": 2,
              "version_minor": 0,
              "model_id": "ecf031bc6e984ca19113b0bdda96b5e8"
            }
          },
          "metadata": {}
        },
        {
          "output_type": "display_data",
          "data": {
            "text/plain": [
              "model.safetensors:   0%|          | 0.00/1.33G [00:00<?, ?B/s]"
            ],
            "application/vnd.jupyter.widget-view+json": {
              "version_major": 2,
              "version_minor": 0,
              "model_id": "aab6f3c0a42e473d9656dc0dbd090d25"
            }
          },
          "metadata": {}
        },
        {
          "output_type": "display_data",
          "data": {
            "text/plain": [
              "tokenizer_config.json:   0%|          | 0.00/60.0 [00:00<?, ?B/s]"
            ],
            "application/vnd.jupyter.widget-view+json": {
              "version_major": 2,
              "version_minor": 0,
              "model_id": "53353145fae042e7b4ae24b616230b63"
            }
          },
          "metadata": {}
        },
        {
          "output_type": "display_data",
          "data": {
            "text/plain": [
              "vocab.txt:   0%|          | 0.00/213k [00:00<?, ?B/s]"
            ],
            "application/vnd.jupyter.widget-view+json": {
              "version_major": 2,
              "version_minor": 0,
              "model_id": "7161e29b2ac145dc9cfd38727dd6ca02"
            }
          },
          "metadata": {}
        }
      ]
    },
    {
      "cell_type": "code",
      "source": [
        "wiki_entities_newton = extract_entities_from_responses(fetch_newton_wikipedia_instructions)\n",
        "wiki_entities_caesar = extract_entities_from_responses(fetch_caesar_wikipedia_instructions)\n",
        "wiki_entities_beethoven = extract_entities_from_responses(fetch_beethoven_wikipedia_instructions)"
      ],
      "metadata": {
        "id": "v6t5pHcLPY-L"
      },
      "execution_count": null,
      "outputs": []
    },
    {
      "cell_type": "markdown",
      "source": [
        "## Retrieve NER"
      ],
      "metadata": {
        "id": "9Gkc12IAyolV"
      }
    },
    {
      "cell_type": "code",
      "source": [
        "model_newton_entities = extract_entities_from_responses(final_responses_newton)\n",
        "model_caesar_entities = extract_entities_from_responses(final_responses_caesar)\n",
        "model_beethoven_entities = extract_entities_from_responses(final_responses_beethoven)\n",
        "\n",
        "model_merged_newton_entities = extract_entities_from_responses(final_responses_merged_model_newton)\n",
        "model_merged_caesar_entities = extract_entities_from_responses(final_responses_merged_model_caesar)\n",
        "model_merged_beethoven_entities = extract_entities_from_responses(final_responses_merged_model_beethoven)"
      ],
      "metadata": {
        "id": "r7G8bkLpxXl3"
      },
      "execution_count": null,
      "outputs": []
    },
    {
      "cell_type": "markdown",
      "source": [
        "## GPT-4 NER"
      ],
      "metadata": {
        "id": "wWpPgcivunqB"
      }
    },
    {
      "cell_type": "code",
      "source": [
        "model_gpt4_newton_entities = extract_entities_from_responses(gpt_4_responses_newton)\n",
        "model_gpt4_caesar_entities = extract_entities_from_responses(gpt_4_responses_caesar)\n",
        "model_gpt4_beethoven_entities = extract_entities_from_responses(gpt_4_responses_beethoven)"
      ],
      "metadata": {
        "id": "65QilUm2xy5Y"
      },
      "execution_count": null,
      "outputs": []
    },
    {
      "cell_type": "markdown",
      "source": [
        "## Character-LLM NER"
      ],
      "metadata": {
        "id": "qUm_O7nBoFTd"
      }
    },
    {
      "cell_type": "code",
      "source": [
        "model_character_llm_newton_entities = extract_entities_from_responses(character_llm_responses_newton)\n",
        "model_character_llm_caesar_entities = extract_entities_from_responses(character_llm_responses_caesar)\n",
        "model_character_llm_beethoven_entities = extract_entities_from_responses(character_llm_responses_beethoven)"
      ],
      "metadata": {
        "id": "Zc9nr8hAoE55"
      },
      "execution_count": null,
      "outputs": []
    },
    {
      "cell_type": "markdown",
      "source": [
        "## Compare both NER, and Return Accuracy"
      ],
      "metadata": {
        "id": "bSY0zTfRyuHx"
      }
    },
    {
      "cell_type": "code",
      "source": [
        "def calculate_matching_ratio(model_entities, wiki_entities):\n",
        "    # Initialize a counter for matching entities\n",
        "    matching_entities_count = 0\n",
        "\n",
        "    # Convert wiki_entities to a set for faster lookup\n",
        "    wiki_entities_set = set(wiki_entities)\n",
        "\n",
        "    # Iterate through model entities to check for matches\n",
        "    for entity in model_entities:\n",
        "        if entity in wiki_entities_set:\n",
        "            matching_entities_count += 1\n",
        "\n",
        "    # Calculate the ratio\n",
        "    if len(model_entities) == 0:\n",
        "        return 0  # Avoid division by zero\n",
        "    matching_ratio = matching_entities_count / len(model_entities)\n",
        "\n",
        "    return matching_ratio"
      ],
      "metadata": {
        "id": "F4TW-HiqyQ4u"
      },
      "execution_count": null,
      "outputs": []
    },
    {
      "cell_type": "code",
      "source": [
        "matching_ratio_newton = calculate_matching_ratio(model_newton_entities, wiki_entities_newton)\n",
        "matching_ratio_caesar = calculate_matching_ratio(model_caesar_entities, wiki_entities_caesar)\n",
        "matching_ratio_beethoven = calculate_matching_ratio(model_beethoven_entities, wiki_entities_beethoven)\n",
        "\n",
        "matching_merged_model_newton_ratio = calculate_matching_ratio(model_merged_newton_entities, wiki_entities_newton)\n",
        "matching_merged_model_caesar_ratio = calculate_matching_ratio(model_merged_caesar_entities, wiki_entities_caesar)\n",
        "matching_merged_model_beethoven_ratio = calculate_matching_ratio(model_merged_beethoven_entities, wiki_entities_beethoven)\n",
        "\n",
        "print(f\"Matching Newton Entities Ratio: {matching_ratio_newton:.2f}\")\n",
        "print(f\"Matching Caesar Entities Ratio: {matching_ratio_caesar:.2f}\")\n",
        "print(f\"Matching Beethoven Entities Ratio: {matching_ratio_beethoven:.2f}\")\n",
        "\n",
        "print(f\"Matching Merged Model Newton Entities Ratio: {matching_merged_model_newton_ratio:.2f}\")\n",
        "print(f\"Matching Merged Model Caesar Entities Ratio: {matching_merged_model_caesar_ratio:.2f}\")\n",
        "print(f\"Matching Merged Model Beethoven Entities Ratio: {matching_merged_model_beethoven_ratio:.2f}\")"
      ],
      "metadata": {
        "colab": {
          "base_uri": "https://localhost:8080/"
        },
        "id": "9CE5-4JhkL9m",
        "outputId": "75de399a-2898-4f39-8843-7d3fb309cd31"
      },
      "execution_count": null,
      "outputs": [
        {
          "output_type": "stream",
          "name": "stdout",
          "text": [
            "Matching Newton Entities Ratio: 1.00\n",
            "Matching Caesar Entities Ratio: 0.76\n",
            "Matching Beethoven Entities Ratio: 0.60\n",
            "Matching Merged Model Newton Entities Ratio: 1.00\n",
            "Matching Merged Model Caesar Entities Ratio: 0.84\n",
            "Matching Merged Model Beethoven Entities Ratio: 0.62\n"
          ]
        }
      ]
    },
    {
      "cell_type": "code",
      "source": [
        "matching_gpt4_newton_ratio = calculate_matching_ratio(model_gpt4_newton_entities, wiki_entities_newton)\n",
        "matching_gpt4_caesar_ratio = calculate_matching_ratio(model_gpt4_caesar_entities, wiki_entities_caesar)\n",
        "matching_gpt4_beethoven_ratio = calculate_matching_ratio(model_gpt4_beethoven_entities, wiki_entities_beethoven)\n",
        "\n",
        "print(f\"Matching GPT4 Newton Entities Ratio: {matching_gpt4_newton_ratio:.2f}\")\n",
        "print(f\"Matching GPT4 Caesar Entities Ratio: {matching_gpt4_caesar_ratio:.2f}\")\n",
        "print(f\"Matching GPT4 Beethoven Entities Ratio: {matching_gpt4_beethoven_ratio:.2f}\")"
      ],
      "metadata": {
        "id": "oZAM5ZO1x9-0",
        "outputId": "dd9227ab-57e7-42c0-915f-04a68683ccbc",
        "colab": {
          "base_uri": "https://localhost:8080/"
        }
      },
      "execution_count": null,
      "outputs": [
        {
          "output_type": "stream",
          "name": "stdout",
          "text": [
            "Matching GPT4 Newton Entities Ratio: 0.67\n",
            "Matching GPT4 Caesar Entities Ratio: 0.82\n",
            "Matching GPT4 Beethoven Entities Ratio: 0.89\n"
          ]
        }
      ]
    },
    {
      "cell_type": "code",
      "source": [
        "matching_character_llm_newton_ratio = calculate_matching_ratio(model_character_llm_newton_entities, wiki_entities_newton)\n",
        "matching_character_llm_caesar_ratio = calculate_matching_ratio(model_character_llm_caesar_entities, wiki_entities_caesar)\n",
        "matching_character_llm_beethoven_ratio = calculate_matching_ratio(model_character_llm_beethoven_entities, wiki_entities_beethoven)\n",
        "\n",
        "print(f\"Matching Character-LLM Newton Entities Ratio: {matching_character_llm_newton_ratio:.2f}\")\n",
        "print(f\"Matching Character-LLM Caesar Entities Ratio: {matching_character_llm_caesar_ratio:.2f}\")\n",
        "print(f\"Matching Character-LLM Beethoven Entities Ratio: {matching_character_llm_beethoven_ratio:.2f}\")"
      ],
      "metadata": {
        "id": "GqZ4msu1oTWF",
        "outputId": "c92596db-8ea5-4aae-a590-5ad353fce31d",
        "colab": {
          "base_uri": "https://localhost:8080/"
        }
      },
      "execution_count": null,
      "outputs": [
        {
          "output_type": "stream",
          "name": "stdout",
          "text": [
            "Matching Character-LLM Newton Entities Ratio: 0.08\n",
            "Matching Character-LLM Caesar Entities Ratio: 0.00\n",
            "Matching Character-LLM Beethoven Entities Ratio: 0.15\n"
          ]
        }
      ]
    },
    {
      "cell_type": "markdown",
      "source": [
        "# Evaluate Originality"
      ],
      "metadata": {
        "id": "X2VFRp6t8vt3"
      }
    },
    {
      "cell_type": "code",
      "source": [
        "from sklearn.feature_extraction.text import TfidfVectorizer\n",
        "from sklearn.metrics.pairwise import cosine_similarity\n",
        "import numpy as np\n",
        "\n",
        "def calculate_average_cosine_similarity(responses):\n",
        "    # Initialize a TF-IDF Vectorizer\n",
        "    vectorizer = TfidfVectorizer()\n",
        "\n",
        "    # Fit and transform the responses to a TF-IDF matrix\n",
        "    tfidf_matrix = vectorizer.fit_transform(responses)\n",
        "\n",
        "    # Calculate cosine similarity between all pairs of responses\n",
        "    similarity_matrix = cosine_similarity(tfidf_matrix, tfidf_matrix)\n",
        "\n",
        "    # Calculate the average similarity, excluding self-comparisons\n",
        "    n = similarity_matrix.shape[0]\n",
        "    avg_similarity = (np.sum(similarity_matrix) - n) / (n * (n - 1))\n",
        "\n",
        "    return avg_similarity"
      ],
      "metadata": {
        "id": "tAa13hJy8x1G"
      },
      "execution_count": null,
      "outputs": []
    },
    {
      "cell_type": "code",
      "source": [
        "average_similarity_newton = calculate_average_cosine_similarity(final_responses_newton)\n",
        "average_similarity_caesar = calculate_average_cosine_similarity(final_responses_caesar)\n",
        "average_similarity_beethoven = calculate_average_cosine_similarity(final_responses_beethoven)\n",
        "\n",
        "average_similarity_merged_model_newton = calculate_average_cosine_similarity(final_responses_merged_model_newton)\n",
        "average_similarity_merged_model_caesar = calculate_average_cosine_similarity(final_responses_merged_model_caesar)\n",
        "average_similarity_merged_model_beethoven = calculate_average_cosine_similarity(final_responses_merged_model_beethoven)\n",
        "\n",
        "print(f\"Average Cosine Similarity Newton: {average_similarity_newton:.4f}\")\n",
        "print(f\"Average Cosine Similarity Caesar: {average_similarity_caesar:.4f}\")\n",
        "print(f\"Average Cosine Similarity Beethoven: {average_similarity_beethoven:.4f}\")\n",
        "\n",
        "print(f\"Average Cosine Similarity Merged Model Newton: {average_similarity_merged_model_newton:.4f}\")\n",
        "print(f\"Average Cosine Similarity Merged Model Caesar: {average_similarity_merged_model_caesar:.4f}\")\n",
        "print(f\"Average Cosine Similarity Merged Model Beethoven: {average_similarity_merged_model_beethoven:.4f}\")"
      ],
      "metadata": {
        "id": "TMn_GvtINcuT",
        "outputId": "075ddebc-018d-4c76-cb1a-98f48c1fcfdd",
        "colab": {
          "base_uri": "https://localhost:8080/"
        }
      },
      "execution_count": null,
      "outputs": [
        {
          "output_type": "stream",
          "name": "stdout",
          "text": [
            "Average Cosine Similarity Newton: 0.1408\n",
            "Average Cosine Similarity Caesar: 0.1120\n",
            "Average Cosine Similarity Beethoven: 0.1379\n",
            "Average Cosine Similarity Merged Model Newton: 0.2165\n",
            "Average Cosine Similarity Merged Model Caesar: 0.1287\n",
            "Average Cosine Similarity Merged Model Beethoven: 0.1471\n"
          ]
        }
      ]
    },
    {
      "cell_type": "code",
      "source": [
        "average_similarity_gpt4_newton = calculate_average_cosine_similarity(gpt_4_responses_newton)\n",
        "average_similarity_gpt4_caesar = calculate_average_cosine_similarity(gpt_4_responses_caesar)\n",
        "average_similarity_gpt4_beethoven = calculate_average_cosine_similarity(gpt_4_responses_beethoven)\n",
        "\n",
        "print(f\"Average Cosine Similarity GPT4 Newton: {average_similarity_gpt4_newton:.4f}\")\n",
        "print(f\"Average Cosine Similarity GPT4 Caesar: {average_similarity_gpt4_caesar:.4f}\")\n",
        "print(f\"Average Cosine Similarity GPT4 Beethoven: {average_similarity_gpt4_beethoven:.4f}\")"
      ],
      "metadata": {
        "id": "2cCPd7PtOG4b",
        "outputId": "e5c8ebfe-6d4b-47b1-cd19-e8e1f017ab4b",
        "colab": {
          "base_uri": "https://localhost:8080/"
        }
      },
      "execution_count": null,
      "outputs": [
        {
          "output_type": "stream",
          "name": "stdout",
          "text": [
            "Average Cosine Similarity GPT4 Newton: 0.0528\n",
            "Average Cosine Similarity GPT4 Caesar: 0.0924\n",
            "Average Cosine Similarity GPT4 Beethoven: 0.0826\n"
          ]
        }
      ]
    },
    {
      "cell_type": "code",
      "source": [
        "average_similarity_character_llm_newton = calculate_average_cosine_similarity(character_llm_responses_newton)\n",
        "average_similarity_character_llm_caesar = calculate_average_cosine_similarity(character_llm_responses_caesar)\n",
        "average_similarity_character_llm_beethoven = calculate_average_cosine_similarity(character_llm_responses_beethoven)\n",
        "\n",
        "print(f\"Average Cosine Similarity Character-LLM Newton: {average_similarity_character_llm_newton:.4f}\")\n",
        "print(f\"Average Cosine Similarity Character-LLM Caesar: {average_similarity_character_llm_caesar:.4f}\")\n",
        "print(f\"Average Cosine Similarity Character-LLM Beethoven: {average_similarity_character_llm_beethoven:.4f}\")"
      ],
      "metadata": {
        "id": "whf8CwRiof5x",
        "outputId": "9f7ddcc3-be07-4df7-dc5b-c0bb43a6e792",
        "colab": {
          "base_uri": "https://localhost:8080/"
        }
      },
      "execution_count": null,
      "outputs": [
        {
          "output_type": "stream",
          "name": "stdout",
          "text": [
            "Average Cosine Similarity Character-LLM Newton: 0.1075\n",
            "Average Cosine Similarity Character-LLM Caesar: 0.1186\n",
            "Average Cosine Similarity Character-LLM Beethoven: 0.0947\n"
          ]
        }
      ]
    }
  ]
}