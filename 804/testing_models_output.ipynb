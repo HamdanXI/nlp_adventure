{
 "cells": [
  {
   "cell_type": "code",
   "execution_count": 3,
   "id": "6540d770",
   "metadata": {},
   "outputs": [
    {
     "name": "stderr",
     "output_type": "stream",
     "text": [
      "Special tokens have been added in the vocabulary, make sure the associated word embeddings are fine-tuned or trained.\n"
     ]
    },
    {
     "name": "stdout",
     "output_type": "stream",
     "text": [
      "Answer: Qui sind Sie?\n"
     ]
    }
   ],
   "source": [
    "# Import necessary libraries\n",
    "from transformers import AutoTokenizer, AutoModelForSeq2SeqLM\n",
    "\n",
    "# Load the tokenizer and model\n",
    "tokenizer = AutoTokenizer.from_pretrained(\"HamdanXI/t5-small-finetuned-beethoven-qa\")\n",
    "model = AutoModelForSeq2SeqLM.from_pretrained(\"HamdanXI/t5-small-finetuned-beethoven-qa\")\n",
    "\n",
    "# Prepare the input question\n",
    "input_text = \"Who are you?\"\n",
    "input_ids = tokenizer(input_text, return_tensors=\"pt\").input_ids\n",
    "\n",
    "# Generate an answer from the model\n",
    "output = model.generate(input_ids)\n",
    "\n",
    "# Decode the generated answer\n",
    "decoded_answer = tokenizer.decode(output[0], skip_special_tokens=True)\n",
    "\n",
    "print(\"Answer:\", decoded_answer)"
   ]
  },
  {
   "cell_type": "code",
   "execution_count": null,
   "id": "2a5c9bdb",
   "metadata": {},
   "outputs": [],
   "source": []
  }
 ],
 "metadata": {
  "kernelspec": {
   "display_name": "Python 3 (ipykernel)",
   "language": "python",
   "name": "python3"
  },
  "language_info": {
   "codemirror_mode": {
    "name": "ipython",
    "version": 3
   },
   "file_extension": ".py",
   "mimetype": "text/x-python",
   "name": "python",
   "nbconvert_exporter": "python",
   "pygments_lexer": "ipython3",
   "version": "3.8.18"
  }
 },
 "nbformat": 4,
 "nbformat_minor": 5
}
