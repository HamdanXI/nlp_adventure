{
  "nbformat": 4,
  "nbformat_minor": 0,
  "metadata": {
    "colab": {
      "provenance": [],
      "authorship_tag": "ABX9TyMrm2D6SVDGSIaj0bslJ0tC",
      "include_colab_link": true
    },
    "kernelspec": {
      "name": "python3",
      "display_name": "Python 3"
    },
    "language_info": {
      "name": "python"
    }
  },
  "cells": [
    {
      "cell_type": "markdown",
      "metadata": {
        "id": "view-in-github",
        "colab_type": "text"
      },
      "source": [
        "<a href=\"https://colab.research.google.com/github/HamdanXI/nlp_adventure/blob/main/gloss-outputs-nov2.ipynb\" target=\"_parent\"><img src=\"https://colab.research.google.com/assets/colab-badge.svg\" alt=\"Open In Colab\"/></a>"
      ]
    },
    {
      "cell_type": "code",
      "source": [
        "!pip install transformers"
      ],
      "metadata": {
        "colab": {
          "base_uri": "https://localhost:8080/"
        },
        "id": "pWXqcXwe_TpZ",
        "outputId": "c005b974-aaf5-4dfb-c6a0-611d5845b1f9"
      },
      "execution_count": 2,
      "outputs": [
        {
          "output_type": "stream",
          "name": "stdout",
          "text": [
            "Collecting transformers\n",
            "  Downloading transformers-4.34.1-py3-none-any.whl (7.7 MB)\n",
            "\u001b[2K     \u001b[90m━━━━━━━━━━━━━━━━━━━━━━━━━━━━━━━━━━━━━━━━\u001b[0m \u001b[32m7.7/7.7 MB\u001b[0m \u001b[31m19.9 MB/s\u001b[0m eta \u001b[36m0:00:00\u001b[0m\n",
            "\u001b[?25hRequirement already satisfied: filelock in /usr/local/lib/python3.10/dist-packages (from transformers) (3.12.4)\n",
            "Collecting huggingface-hub<1.0,>=0.16.4 (from transformers)\n",
            "  Downloading huggingface_hub-0.18.0-py3-none-any.whl (301 kB)\n",
            "\u001b[2K     \u001b[90m━━━━━━━━━━━━━━━━━━━━━━━━━━━━━━━━━━━━━━━━\u001b[0m \u001b[32m302.0/302.0 kB\u001b[0m \u001b[31m32.8 MB/s\u001b[0m eta \u001b[36m0:00:00\u001b[0m\n",
            "\u001b[?25hRequirement already satisfied: numpy>=1.17 in /usr/local/lib/python3.10/dist-packages (from transformers) (1.23.5)\n",
            "Requirement already satisfied: packaging>=20.0 in /usr/local/lib/python3.10/dist-packages (from transformers) (23.2)\n",
            "Requirement already satisfied: pyyaml>=5.1 in /usr/local/lib/python3.10/dist-packages (from transformers) (6.0.1)\n",
            "Requirement already satisfied: regex!=2019.12.17 in /usr/local/lib/python3.10/dist-packages (from transformers) (2023.6.3)\n",
            "Requirement already satisfied: requests in /usr/local/lib/python3.10/dist-packages (from transformers) (2.31.0)\n",
            "Collecting tokenizers<0.15,>=0.14 (from transformers)\n",
            "  Downloading tokenizers-0.14.1-cp310-cp310-manylinux_2_17_x86_64.manylinux2014_x86_64.whl (3.8 MB)\n",
            "\u001b[2K     \u001b[90m━━━━━━━━━━━━━━━━━━━━━━━━━━━━━━━━━━━━━━━━\u001b[0m \u001b[32m3.8/3.8 MB\u001b[0m \u001b[31m49.7 MB/s\u001b[0m eta \u001b[36m0:00:00\u001b[0m\n",
            "\u001b[?25hCollecting safetensors>=0.3.1 (from transformers)\n",
            "  Downloading safetensors-0.4.0-cp310-cp310-manylinux_2_17_x86_64.manylinux2014_x86_64.whl (1.3 MB)\n",
            "\u001b[2K     \u001b[90m━━━━━━━━━━━━━━━━━━━━━━━━━━━━━━━━━━━━━━━━\u001b[0m \u001b[32m1.3/1.3 MB\u001b[0m \u001b[31m48.8 MB/s\u001b[0m eta \u001b[36m0:00:00\u001b[0m\n",
            "\u001b[?25hRequirement already satisfied: tqdm>=4.27 in /usr/local/lib/python3.10/dist-packages (from transformers) (4.66.1)\n",
            "Requirement already satisfied: fsspec>=2023.5.0 in /usr/local/lib/python3.10/dist-packages (from huggingface-hub<1.0,>=0.16.4->transformers) (2023.6.0)\n",
            "Requirement already satisfied: typing-extensions>=3.7.4.3 in /usr/local/lib/python3.10/dist-packages (from huggingface-hub<1.0,>=0.16.4->transformers) (4.5.0)\n",
            "Collecting huggingface-hub<1.0,>=0.16.4 (from transformers)\n",
            "  Downloading huggingface_hub-0.17.3-py3-none-any.whl (295 kB)\n",
            "\u001b[2K     \u001b[90m━━━━━━━━━━━━━━━━━━━━━━━━━━━━━━━━━━━━━━━━\u001b[0m \u001b[32m295.0/295.0 kB\u001b[0m \u001b[31m24.0 MB/s\u001b[0m eta \u001b[36m0:00:00\u001b[0m\n",
            "\u001b[?25hRequirement already satisfied: charset-normalizer<4,>=2 in /usr/local/lib/python3.10/dist-packages (from requests->transformers) (3.3.1)\n",
            "Requirement already satisfied: idna<4,>=2.5 in /usr/local/lib/python3.10/dist-packages (from requests->transformers) (3.4)\n",
            "Requirement already satisfied: urllib3<3,>=1.21.1 in /usr/local/lib/python3.10/dist-packages (from requests->transformers) (2.0.7)\n",
            "Requirement already satisfied: certifi>=2017.4.17 in /usr/local/lib/python3.10/dist-packages (from requests->transformers) (2023.7.22)\n",
            "Installing collected packages: safetensors, huggingface-hub, tokenizers, transformers\n",
            "Successfully installed huggingface-hub-0.17.3 safetensors-0.4.0 tokenizers-0.14.1 transformers-4.34.1\n"
          ]
        }
      ]
    },
    {
      "cell_type": "code",
      "execution_count": 21,
      "metadata": {
        "id": "p7hoAIkm_SUR"
      },
      "outputs": [],
      "source": [
        "# Use a pipeline as a high-level helper\n",
        "from transformers import pipeline\n",
        "\n",
        "pipe = pipeline(\"translation\", model=\"HamdanXI/t5_small_daily_gloss_BEST\")"
      ]
    },
    {
      "cell_type": "code",
      "source": [
        "# List of ASL glosses\n",
        "glosses = [\"YOU what-NAME?\",\n",
        "\"YOU LIKE SURPRISE PARTY?\",\n",
        "\"YESTERDAY MORNING I WAKE-UP 7 O'CLOCK. \",\n",
        "\"TELL-me HOW YOU FEEL\",\n",
        "\"YESTERDAY PRO-1 INDEX-[at] WORK HAPPEN SOMEONE! MAN CL:1-'walked_past_quickly' I NEVER SEE PRO-3 BEFORE\",\n",
        "\"DON'T-LIKE\",\n",
        "\"YOU-ASK-ME\",\n",
        "\"NOTHING-TO-IT\",\n",
        "\"LITTLE-BIT\",\n",
        "\"ONE-UP-ON\",\n",
        "\"FOR+ME\",\n",
        "\"LEARN+AGENT\",\n",
        "\"BOOK+STORE\",\n",
        "\"EAT+NIGHT\",\n",
        "\"MOTHER+FATHER\",\n",
        "\"ME NAME fs-B-A-R-B-A-R-A\",\n",
        "\"HE TEACHER HE\",\n",
        "\"fs-A-M-I-R, HE TALL HE\",\n",
        "\"ME SAD ME\",\n",
        "\"BLACK COFFEE, fs-C-O-H-E-N LOVE\",\n",
        "\"TODAY MORNING SAME++\",\n",
        "\"YOUR ASL BOOK CL:C\",\n",
        "\"MY SISTER YOU DON'T-KNOW SHE\",\n",
        "\"EIGHTEEN YEARS MY PARENTS MARRIED\",\n",
        "\"GRANDFATHER CLOCK CL:S 'pendulum swinging'\",\n",
        "\"MY CELL PHONE (rh-Q) WHERE? IX-there COOK+ROOM, HOT CL:bent-L 'burners', LIGHT-SWITCH IX-under\",\n",
        "\"YESTERDAY HOME YOU GO\",\n",
        "\"CHAIR-IX IT BLUE SIT PLEASE\",\n",
        "\"PAPER-IX IT WHITE\",\n",
        "\"IX-loc “there” DANCE, fs-CINDERELLA, right, she-MEET-him, left PRINCE fs-CHARMING\",\n",
        "\"PAST SUNDAY, fs-MIKE,right PLAY BASKETBALL, BREAK POSS:his WIRST\",\n",
        "\"LAST-WEEK, CHILDREN, right GO-to CAMP. IX-they,right !ENJOY!.\",\n",
        "\"DOESN’T-MATTER IX-they,right NOT INTEREST PROJECT, IX-they,right CONTINUE WORK.\",\n",
        "\"fs-MARK,right, IX-he !SKILL! POSS:his NEW #JOB.\",\n",
        "\"ME LIKE RICE\",\n",
        "\"YESTERDAY MOM GO-to STORE\",\n",
        "\"HER NAME S-U-Z-Y\",\n",
        "\"SHE ARRIVE #EARLY!\",\n",
        "\"SPEECH LONG BORING CONTINUE+++\",\n",
        "\"(2h)CL:4(people in line)”long line”\",\n",
        "\"he-GIVE-her BOOK\",\n",
        "\"HE/SHE WHO?\",\n",
        "\"DEAF YOU?\",\n",
        "\"I HUNGY, WHY? EAT LUNCH NOT\",\n",
        "\"TODAY RAIN, GAME CANCEL\",\n",
        "\"THAT GIRL, WHO?\",\n",
        "\"MY DAD, THAT MAN\",\n",
        "\"I WANT LARGE SODA\",\n",
        "\"(get-attention) TOMORROW I GO PICK-up BOOK NEW I BUY YOU Don'T-MIND I BORROW YOUR TRUCK?\",\n",
        "\"TOMORROW TIME WHAT?\",\n",
        "\"AROUND 10 'give-or-take'\",\n",
        "\"NO NOT WORK MY TRUCK me-BRING MECHANIC FIX TOMORROW MORNING.\",\n",
        "\"TOMORROW AFTERNOOON BETTER\",\n",
        "\"FINE. YOU 2 TOMORROW FINE?\",\n",
        "\"SURE-SURE FINE\",\n",
        "\"YOU UNDERSTAND SHE, YOU?\",\n",
        "\"YOU FAVORITE-[prefer], HAMBURGER [body-shift-or] HOTDOG?\",\n",
        "\"last-YEAR TICKET HOW MANY YOU?\",\n",
        "\"TOPIC YOU DON'T-CARE WHAT?\",\n",
        "\"DRESS YOU LIKE USE-[wear] YOU?\",\n",
        "\"WET-WIPES YOU KEEP CAR?\",\n",
        "\"STRIPES-[vertical], YOU FACE-[look] GOOD YOU?\",\n",
        "\"WHAT YOU ENTHUSIASTIC?\",\n",
        "\"THANKSGIVING ME STAY HOME WHY ME SICK\",\n",
        "\"ME EAT FINISH\",\n",
        "\"#JOHN #KATE LOVE\",\n",
        "\"PRO.1 LIKE CHOCOLATE\",\n",
        "\"YOUR NAME WHAT\",\n",
        "\"2h:HS:5 SCADS-OF\",\n",
        "\"CAT 2h:HS:5 'hoard of'\",\n",
        "\"WORK+++\",\n",
        "\"BOOK LARGE\",\n",
        "\"ARRIVE\",\n",
        "\"DOGS I LIKE\",\n",
        "\"DOGS YOU LIKE?\",\n",
        "\"DOGS YOU LIKE WHY?\",\n",
        "\"BIRD UP BIG TREE [TREE-SIT ON]\",\n",
        "\"CAT <rs:cat LOOK>UP>IX=2> BIRD\",\n",
        "\"CAT HUNGRY\",\n",
        "\"SHE TEACHER SHE\",\n",
        "\"ME DEAF ME\",\n",
        "\"ME STUDENT ME\",\n",
        "\"J-O-H-N, HE TALL HE\",\n",
        "\"I SAD I\",\n",
        "\"STUDDENT IX-PRO.2\",\n",
        "\"IX-PRO.2 DESC-DEAF?\",\n",
        "\"IX-PRO.2 UNDERSTAND IX-PRO3?\",\n",
        "\"DIAMOND REAL, ME NEVER SEE.\",\n",
        "\"CL:1, CL:1 MEET CL:G (on finger) MARRY WATCH MOVIE ONLY.\",\n",
        "\"YEAR-PAST ME HOUSE ROOMS WHAT WHITE fsA-L-L\",\n",
        "\"NOW-YEAR COLOR MANY\",\n",
        "\"ME BED+ROOM WHAT BLUE\",\n",
        "\"ME SISTER BED+ROOM WHAT YELLOW\",\n",
        "\"ME MOM-DAD THEY BED+ROOM WHAT BROWN\",\n",
        "\"BATH+ROOM WHAT YELLOW\",\n",
        "\"fsA-L-L COLOR ME LOVE\",\n",
        "\"ME LIVE fs-S-A-N (pause) B-E-R-N-A-D-I-N-O\",\n",
        "\"YOU LIVE WHERE\",\n",
        "\"fs-C-S-U-S-M YOU GO-TO\",\n",
        "\"DO++ YOU FAVORITY WHAT\",\n",
        "\"ME KEY ME FOUND PAH!\",\n",
        "\"TODAY MORNING SAME-OLD++\",\n",
        "\"ME WOKE-UP GET-DRESSED SCHOOL GO-TO\",\n",
        "\"BUT HAPPEN SCHOOL ME ARRIVE NOTICE WHAT\",\n",
        "\"PARKING-LOT EMPTY PEOPLE NONE\",\n",
        "\"THINK-ABOUT-IT\",\n",
        "\"TODAY TUESDAY WEEKEND NOT\",\n",
        "\"ME ON-TIME EARLY NOT\",\n",
        "\"(ponder, look up) THINK-ABOUT-IT\",\n",
        "\"THEN HAPPEN WHAT\",\n",
        "\"TELEPHONE 'BUZZ' (CL:5 open/close like flashing light)\",\n",
        "\"MESSAGE (CL: closed 5, Non-Dominant hand, act like looking at text on phone)\",\n",
        "\"PARADE TODAY COME YOU qm-wiggle\",\n",
        "\"SCHOOL YOU HERE NOT WHY\",\n",
        "\"RESPONG SHE POSTPONE\",\n",
        "\"RESPOND PAH! HAPPEN WHAT\",\n",
        "\"MESSAGE SAY QUOTE 'V-E-T-E-R-A-N-S D-A-Y D-U-H'\",\n",
        "\"SCHOOL NONE\"\n",
        "]\n",
        "\n",
        "# Translate each gloss\n",
        "translations = []\n",
        "for gloss in glosses:\n",
        "    try:\n",
        "        # Get the translation\n",
        "        result = pipe(gloss)\n",
        "        translation = result[0]['translation_text']\n",
        "        translations.append(translation)\n",
        "    except Exception as e:\n",
        "        print(f\"An error occurred while translating '{gloss}': {str(e)}\")\n",
        "        translations.append(\"\")"
      ],
      "metadata": {
        "id": "hjbgpiNG_o2J"
      },
      "execution_count": 22,
      "outputs": []
    },
    {
      "cell_type": "code",
      "source": [
        "import csv\n",
        "\n",
        "with open('output5.csv', 'w', newline='') as file:\n",
        "    writer = csv.writer(file)\n",
        "    for entry in translations:\n",
        "        writer.writerow([entry])  # Write the entry in its own row"
      ],
      "metadata": {
        "id": "MLNJkB32A-To"
      },
      "execution_count": 23,
      "outputs": []
    }
  ]
}