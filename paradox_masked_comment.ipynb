{
  "nbformat": 4,
  "nbformat_minor": 0,
  "metadata": {
    "colab": {
      "provenance": [],
      "authorship_tag": "ABX9TyMSiPrUrbuZO7rab3LfMsA0",
      "include_colab_link": true
    },
    "kernelspec": {
      "name": "python3",
      "display_name": "Python 3"
    },
    "language_info": {
      "name": "python"
    }
  },
  "cells": [
    {
      "cell_type": "markdown",
      "metadata": {
        "id": "view-in-github",
        "colab_type": "text"
      },
      "source": [
        "<a href=\"https://colab.research.google.com/github/HamdanXI/nlp_adventure/blob/main/paradox_masked_comment.ipynb\" target=\"_parent\"><img src=\"https://colab.research.google.com/assets/colab-badge.svg\" alt=\"Open In Colab\"/></a>"
      ]
    },
    {
      "cell_type": "code",
      "source": [
        "!pip install datasets"
      ],
      "metadata": {
        "colab": {
          "base_uri": "https://localhost:8080/"
        },
        "id": "xIKeetLWdsxH",
        "outputId": "6424cdc7-f22e-4c7d-b88a-a1364c70a1c9"
      },
      "execution_count": 1,
      "outputs": [
        {
          "output_type": "stream",
          "name": "stdout",
          "text": [
            "Requirement already satisfied: datasets in /usr/local/lib/python3.10/dist-packages (2.14.6)\n",
            "Requirement already satisfied: numpy>=1.17 in /usr/local/lib/python3.10/dist-packages (from datasets) (1.23.5)\n",
            "Requirement already satisfied: pyarrow>=8.0.0 in /usr/local/lib/python3.10/dist-packages (from datasets) (9.0.0)\n",
            "Requirement already satisfied: dill<0.3.8,>=0.3.0 in /usr/local/lib/python3.10/dist-packages (from datasets) (0.3.7)\n",
            "Requirement already satisfied: pandas in /usr/local/lib/python3.10/dist-packages (from datasets) (1.5.3)\n",
            "Requirement already satisfied: requests>=2.19.0 in /usr/local/lib/python3.10/dist-packages (from datasets) (2.31.0)\n",
            "Requirement already satisfied: tqdm>=4.62.1 in /usr/local/lib/python3.10/dist-packages (from datasets) (4.66.1)\n",
            "Requirement already satisfied: xxhash in /usr/local/lib/python3.10/dist-packages (from datasets) (3.4.1)\n",
            "Requirement already satisfied: multiprocess in /usr/local/lib/python3.10/dist-packages (from datasets) (0.70.15)\n",
            "Requirement already satisfied: fsspec[http]<=2023.10.0,>=2023.1.0 in /usr/local/lib/python3.10/dist-packages (from datasets) (2023.6.0)\n",
            "Requirement already satisfied: aiohttp in /usr/local/lib/python3.10/dist-packages (from datasets) (3.8.6)\n",
            "Requirement already satisfied: huggingface-hub<1.0.0,>=0.14.0 in /usr/local/lib/python3.10/dist-packages (from datasets) (0.17.3)\n",
            "Requirement already satisfied: packaging in /usr/local/lib/python3.10/dist-packages (from datasets) (23.2)\n",
            "Requirement already satisfied: pyyaml>=5.1 in /usr/local/lib/python3.10/dist-packages (from datasets) (6.0.1)\n",
            "Requirement already satisfied: attrs>=17.3.0 in /usr/local/lib/python3.10/dist-packages (from aiohttp->datasets) (23.1.0)\n",
            "Requirement already satisfied: charset-normalizer<4.0,>=2.0 in /usr/local/lib/python3.10/dist-packages (from aiohttp->datasets) (3.3.1)\n",
            "Requirement already satisfied: multidict<7.0,>=4.5 in /usr/local/lib/python3.10/dist-packages (from aiohttp->datasets) (6.0.4)\n",
            "Requirement already satisfied: async-timeout<5.0,>=4.0.0a3 in /usr/local/lib/python3.10/dist-packages (from aiohttp->datasets) (4.0.3)\n",
            "Requirement already satisfied: yarl<2.0,>=1.0 in /usr/local/lib/python3.10/dist-packages (from aiohttp->datasets) (1.9.2)\n",
            "Requirement already satisfied: frozenlist>=1.1.1 in /usr/local/lib/python3.10/dist-packages (from aiohttp->datasets) (1.4.0)\n",
            "Requirement already satisfied: aiosignal>=1.1.2 in /usr/local/lib/python3.10/dist-packages (from aiohttp->datasets) (1.3.1)\n",
            "Requirement already satisfied: filelock in /usr/local/lib/python3.10/dist-packages (from huggingface-hub<1.0.0,>=0.14.0->datasets) (3.12.4)\n",
            "Requirement already satisfied: typing-extensions>=3.7.4.3 in /usr/local/lib/python3.10/dist-packages (from huggingface-hub<1.0.0,>=0.14.0->datasets) (4.5.0)\n",
            "Requirement already satisfied: idna<4,>=2.5 in /usr/local/lib/python3.10/dist-packages (from requests>=2.19.0->datasets) (3.4)\n",
            "Requirement already satisfied: urllib3<3,>=1.21.1 in /usr/local/lib/python3.10/dist-packages (from requests>=2.19.0->datasets) (2.0.7)\n",
            "Requirement already satisfied: certifi>=2017.4.17 in /usr/local/lib/python3.10/dist-packages (from requests>=2.19.0->datasets) (2023.7.22)\n",
            "Requirement already satisfied: python-dateutil>=2.8.1 in /usr/local/lib/python3.10/dist-packages (from pandas->datasets) (2.8.2)\n",
            "Requirement already satisfied: pytz>=2020.1 in /usr/local/lib/python3.10/dist-packages (from pandas->datasets) (2023.3.post1)\n",
            "Requirement already satisfied: six>=1.5 in /usr/local/lib/python3.10/dist-packages (from python-dateutil>=2.8.1->pandas->datasets) (1.16.0)\n"
          ]
        }
      ]
    },
    {
      "cell_type": "code",
      "execution_count": 2,
      "metadata": {
        "id": "k8Y6M4m-dqKu"
      },
      "outputs": [],
      "source": [
        "from datasets import load_dataset\n",
        "\n",
        "dataset = load_dataset(\"HamdanXI/paradetox_with_editOps\")"
      ]
    },
    {
      "cell_type": "code",
      "source": [
        "from datasets import Dataset, DatasetDict\n",
        "\n",
        "# Assuming you already have the dataset loaded as a DatasetDict and it's named `dataset`\n",
        "# and the preprocess_data function is modified to return only masked_comments.\n",
        "\n",
        "def preprocess_data(samples):\n",
        "    masked_comments_list = []\n",
        "\n",
        "    for sample in samples:\n",
        "        toxic_comment = sample['en_toxic_comment']\n",
        "        edit_ops = sample['edit_ops']\n",
        "\n",
        "        words = toxic_comment.split()\n",
        "\n",
        "        for operation in sorted(edit_ops, key=lambda op: int(op[2]), reverse=True):\n",
        "            op_type, text, index = operation[:3]\n",
        "            index = int(index)\n",
        "\n",
        "            if op_type == \"replace\":\n",
        "                words[index:index+len(text.split())] = ['[MASK]'] * len(text.split())\n",
        "            elif op_type == \"delete\":\n",
        "                words[index:index+len(text.split())] = ['[DEL]'] * len(text.split())\n",
        "            elif op_type == \"insert\":\n",
        "                words.insert(index, '[INS]')\n",
        "\n",
        "        masked_comment = ' '.join(words)\n",
        "        masked_comments_list.append(masked_comment)\n",
        "\n",
        "    return masked_comments_list\n",
        "\n",
        "# Apply the preprocess function to generate masked comments\n",
        "masked_comments = preprocess_data(dataset[\"train\"])"
      ],
      "metadata": {
        "id": "pstPTjMvfFbI"
      },
      "execution_count": 3,
      "outputs": []
    },
    {
      "cell_type": "code",
      "source": [
        "# Add the masked comments to the dataset\n",
        "dataset_new = dataset.map(lambda examples: {'masked_comment': preprocess_data([examples])[0]}, batched=False)\n",
        "\n",
        "# Check the first few entries to ensure the new feature has been added\n",
        "print(dataset_new[\"train\"][0])"
      ],
      "metadata": {
        "colab": {
          "base_uri": "https://localhost:8080/"
        },
        "id": "SlL3SBoyh3MX",
        "outputId": "528531b6-d5b4-47e0-b77f-ed8c6335ac39"
      },
      "execution_count": 4,
      "outputs": [
        {
          "output_type": "stream",
          "name": "stdout",
          "text": [
            "{'en_toxic_comment': 'he had steel balls too !', 'en_neutral_comment': 'he was brave too!', 'edit_ops': [['replace', 'had steel balls too !', '1', 'was brave too!']], 'masked_comment': 'he [MASK] [MASK] [MASK] [MASK] [MASK]'}\n"
          ]
        }
      ]
    },
    {
      "cell_type": "code",
      "source": [
        "dataset_new"
      ],
      "metadata": {
        "colab": {
          "base_uri": "https://localhost:8080/"
        },
        "id": "4RrQ2PHujUO2",
        "outputId": "f1333ab8-2080-407d-af39-8e15d3b3a070"
      },
      "execution_count": 5,
      "outputs": [
        {
          "output_type": "execute_result",
          "data": {
            "text/plain": [
              "DatasetDict({\n",
              "    train: Dataset({\n",
              "        features: ['en_toxic_comment', 'en_neutral_comment', 'edit_ops', 'masked_comment'],\n",
              "        num_rows: 19744\n",
              "    })\n",
              "})"
            ]
          },
          "metadata": {},
          "execution_count": 5
        }
      ]
    },
    {
      "cell_type": "code",
      "source": [
        "dataset_new[\"train\"][1]"
      ],
      "metadata": {
        "colab": {
          "base_uri": "https://localhost:8080/"
        },
        "id": "fno0eyfzm-g1",
        "outputId": "158b6396-3993-4817-b2fb-93ace00cd9c2"
      },
      "execution_count": 6,
      "outputs": [
        {
          "output_type": "execute_result",
          "data": {
            "text/plain": [
              "{'en_toxic_comment': 'dude should have been taken to api , he would be right at home with all the other knuckleheads there',\n",
              " 'en_neutral_comment': 'It would have been good if he went to api. He would fit in.',\n",
              " 'edit_ops': [['replace', 'dude should', '0', 'It would'],\n",
              "  ['replace', 'taken', '4', 'good if he went'],\n",
              "  ['replace', 'api , he', '6', 'api. He'],\n",
              "  ['replace',\n",
              "   'be right at home with all the other knuckleheads there',\n",
              "   '10',\n",
              "   'fit in.']],\n",
              " 'masked_comment': '[MASK] [MASK] have been [MASK] to [MASK] [MASK] [MASK] would [MASK] [MASK] [MASK] [MASK] [MASK] [MASK] [MASK] [MASK] [MASK] [MASK]'}"
            ]
          },
          "metadata": {},
          "execution_count": 6
        }
      ]
    },
    {
      "cell_type": "code",
      "source": [
        "# !huggingface-cli login"
      ],
      "metadata": {
        "id": "phvqLuoQjbUS"
      },
      "execution_count": 7,
      "outputs": []
    },
    {
      "cell_type": "code",
      "source": [
        "# dataset_new.push_to_hub(\"paradetox_editOps_preprocess\")"
      ],
      "metadata": {
        "id": "8tlIFrPqjb4T"
      },
      "execution_count": 8,
      "outputs": []
    }
  ]
}