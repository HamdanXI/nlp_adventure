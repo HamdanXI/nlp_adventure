{
  "nbformat": 4,
  "nbformat_minor": 0,
  "metadata": {
    "colab": {
      "provenance": [],
      "machine_shape": "hm",
      "authorship_tag": "ABX9TyNrTb4Qz9C8vkcEaB1zvoWf",
      "include_colab_link": true
    },
    "kernelspec": {
      "name": "python3",
      "display_name": "Python 3"
    },
    "language_info": {
      "name": "python"
    },
    "accelerator": "TPU",
    "widgets": {
      "application/vnd.jupyter.widget-state+json": {
        "1e8063d2fd064da0a3e38af0a8d3aa6d": {
          "model_module": "@jupyter-widgets/controls",
          "model_name": "HBoxModel",
          "model_module_version": "1.5.0",
          "state": {
            "_dom_classes": [],
            "_model_module": "@jupyter-widgets/controls",
            "_model_module_version": "1.5.0",
            "_model_name": "HBoxModel",
            "_view_count": null,
            "_view_module": "@jupyter-widgets/controls",
            "_view_module_version": "1.5.0",
            "_view_name": "HBoxView",
            "box_style": "",
            "children": [
              "IPY_MODEL_c5711d7d82714e3e8e9de0c9b738d3d4",
              "IPY_MODEL_2711b043fdcd4b4b89c94db8cfeea1a3",
              "IPY_MODEL_33630eb4ab944742bcfba9e506b65b0a"
            ],
            "layout": "IPY_MODEL_a17f8edb57d045ddb4f597ddb512a2d7"
          }
        },
        "c5711d7d82714e3e8e9de0c9b738d3d4": {
          "model_module": "@jupyter-widgets/controls",
          "model_name": "HTMLModel",
          "model_module_version": "1.5.0",
          "state": {
            "_dom_classes": [],
            "_model_module": "@jupyter-widgets/controls",
            "_model_module_version": "1.5.0",
            "_model_name": "HTMLModel",
            "_view_count": null,
            "_view_module": "@jupyter-widgets/controls",
            "_view_module_version": "1.5.0",
            "_view_name": "HTMLView",
            "description": "",
            "description_tooltip": null,
            "layout": "IPY_MODEL_046e487aadb7426da468156332390925",
            "placeholder": "​",
            "style": "IPY_MODEL_0efb5236d9b744598a0e9e71139eb638",
            "value": "Downloading config.json: 100%"
          }
        },
        "2711b043fdcd4b4b89c94db8cfeea1a3": {
          "model_module": "@jupyter-widgets/controls",
          "model_name": "FloatProgressModel",
          "model_module_version": "1.5.0",
          "state": {
            "_dom_classes": [],
            "_model_module": "@jupyter-widgets/controls",
            "_model_module_version": "1.5.0",
            "_model_name": "FloatProgressModel",
            "_view_count": null,
            "_view_module": "@jupyter-widgets/controls",
            "_view_module_version": "1.5.0",
            "_view_name": "ProgressView",
            "bar_style": "success",
            "description": "",
            "description_tooltip": null,
            "layout": "IPY_MODEL_295d96c06563433b8f60de2c94d03999",
            "max": 482,
            "min": 0,
            "orientation": "horizontal",
            "style": "IPY_MODEL_df5a56e630464c44a0fbfbb57c3ff634",
            "value": 482
          }
        },
        "33630eb4ab944742bcfba9e506b65b0a": {
          "model_module": "@jupyter-widgets/controls",
          "model_name": "HTMLModel",
          "model_module_version": "1.5.0",
          "state": {
            "_dom_classes": [],
            "_model_module": "@jupyter-widgets/controls",
            "_model_module_version": "1.5.0",
            "_model_name": "HTMLModel",
            "_view_count": null,
            "_view_module": "@jupyter-widgets/controls",
            "_view_module_version": "1.5.0",
            "_view_name": "HTMLView",
            "description": "",
            "description_tooltip": null,
            "layout": "IPY_MODEL_d000a5e20b944e75b728df5930ae7b2b",
            "placeholder": "​",
            "style": "IPY_MODEL_8a38baf7b6754456b5d592b38c11e62d",
            "value": " 482/482 [00:00&lt;00:00, 36.3kB/s]"
          }
        },
        "a17f8edb57d045ddb4f597ddb512a2d7": {
          "model_module": "@jupyter-widgets/base",
          "model_name": "LayoutModel",
          "model_module_version": "1.2.0",
          "state": {
            "_model_module": "@jupyter-widgets/base",
            "_model_module_version": "1.2.0",
            "_model_name": "LayoutModel",
            "_view_count": null,
            "_view_module": "@jupyter-widgets/base",
            "_view_module_version": "1.2.0",
            "_view_name": "LayoutView",
            "align_content": null,
            "align_items": null,
            "align_self": null,
            "border": null,
            "bottom": null,
            "display": null,
            "flex": null,
            "flex_flow": null,
            "grid_area": null,
            "grid_auto_columns": null,
            "grid_auto_flow": null,
            "grid_auto_rows": null,
            "grid_column": null,
            "grid_gap": null,
            "grid_row": null,
            "grid_template_areas": null,
            "grid_template_columns": null,
            "grid_template_rows": null,
            "height": null,
            "justify_content": null,
            "justify_items": null,
            "left": null,
            "margin": null,
            "max_height": null,
            "max_width": null,
            "min_height": null,
            "min_width": null,
            "object_fit": null,
            "object_position": null,
            "order": null,
            "overflow": null,
            "overflow_x": null,
            "overflow_y": null,
            "padding": null,
            "right": null,
            "top": null,
            "visibility": null,
            "width": null
          }
        },
        "046e487aadb7426da468156332390925": {
          "model_module": "@jupyter-widgets/base",
          "model_name": "LayoutModel",
          "model_module_version": "1.2.0",
          "state": {
            "_model_module": "@jupyter-widgets/base",
            "_model_module_version": "1.2.0",
            "_model_name": "LayoutModel",
            "_view_count": null,
            "_view_module": "@jupyter-widgets/base",
            "_view_module_version": "1.2.0",
            "_view_name": "LayoutView",
            "align_content": null,
            "align_items": null,
            "align_self": null,
            "border": null,
            "bottom": null,
            "display": null,
            "flex": null,
            "flex_flow": null,
            "grid_area": null,
            "grid_auto_columns": null,
            "grid_auto_flow": null,
            "grid_auto_rows": null,
            "grid_column": null,
            "grid_gap": null,
            "grid_row": null,
            "grid_template_areas": null,
            "grid_template_columns": null,
            "grid_template_rows": null,
            "height": null,
            "justify_content": null,
            "justify_items": null,
            "left": null,
            "margin": null,
            "max_height": null,
            "max_width": null,
            "min_height": null,
            "min_width": null,
            "object_fit": null,
            "object_position": null,
            "order": null,
            "overflow": null,
            "overflow_x": null,
            "overflow_y": null,
            "padding": null,
            "right": null,
            "top": null,
            "visibility": null,
            "width": null
          }
        },
        "0efb5236d9b744598a0e9e71139eb638": {
          "model_module": "@jupyter-widgets/controls",
          "model_name": "DescriptionStyleModel",
          "model_module_version": "1.5.0",
          "state": {
            "_model_module": "@jupyter-widgets/controls",
            "_model_module_version": "1.5.0",
            "_model_name": "DescriptionStyleModel",
            "_view_count": null,
            "_view_module": "@jupyter-widgets/base",
            "_view_module_version": "1.2.0",
            "_view_name": "StyleView",
            "description_width": ""
          }
        },
        "295d96c06563433b8f60de2c94d03999": {
          "model_module": "@jupyter-widgets/base",
          "model_name": "LayoutModel",
          "model_module_version": "1.2.0",
          "state": {
            "_model_module": "@jupyter-widgets/base",
            "_model_module_version": "1.2.0",
            "_model_name": "LayoutModel",
            "_view_count": null,
            "_view_module": "@jupyter-widgets/base",
            "_view_module_version": "1.2.0",
            "_view_name": "LayoutView",
            "align_content": null,
            "align_items": null,
            "align_self": null,
            "border": null,
            "bottom": null,
            "display": null,
            "flex": null,
            "flex_flow": null,
            "grid_area": null,
            "grid_auto_columns": null,
            "grid_auto_flow": null,
            "grid_auto_rows": null,
            "grid_column": null,
            "grid_gap": null,
            "grid_row": null,
            "grid_template_areas": null,
            "grid_template_columns": null,
            "grid_template_rows": null,
            "height": null,
            "justify_content": null,
            "justify_items": null,
            "left": null,
            "margin": null,
            "max_height": null,
            "max_width": null,
            "min_height": null,
            "min_width": null,
            "object_fit": null,
            "object_position": null,
            "order": null,
            "overflow": null,
            "overflow_x": null,
            "overflow_y": null,
            "padding": null,
            "right": null,
            "top": null,
            "visibility": null,
            "width": null
          }
        },
        "df5a56e630464c44a0fbfbb57c3ff634": {
          "model_module": "@jupyter-widgets/controls",
          "model_name": "ProgressStyleModel",
          "model_module_version": "1.5.0",
          "state": {
            "_model_module": "@jupyter-widgets/controls",
            "_model_module_version": "1.5.0",
            "_model_name": "ProgressStyleModel",
            "_view_count": null,
            "_view_module": "@jupyter-widgets/base",
            "_view_module_version": "1.2.0",
            "_view_name": "StyleView",
            "bar_color": null,
            "description_width": ""
          }
        },
        "d000a5e20b944e75b728df5930ae7b2b": {
          "model_module": "@jupyter-widgets/base",
          "model_name": "LayoutModel",
          "model_module_version": "1.2.0",
          "state": {
            "_model_module": "@jupyter-widgets/base",
            "_model_module_version": "1.2.0",
            "_model_name": "LayoutModel",
            "_view_count": null,
            "_view_module": "@jupyter-widgets/base",
            "_view_module_version": "1.2.0",
            "_view_name": "LayoutView",
            "align_content": null,
            "align_items": null,
            "align_self": null,
            "border": null,
            "bottom": null,
            "display": null,
            "flex": null,
            "flex_flow": null,
            "grid_area": null,
            "grid_auto_columns": null,
            "grid_auto_flow": null,
            "grid_auto_rows": null,
            "grid_column": null,
            "grid_gap": null,
            "grid_row": null,
            "grid_template_areas": null,
            "grid_template_columns": null,
            "grid_template_rows": null,
            "height": null,
            "justify_content": null,
            "justify_items": null,
            "left": null,
            "margin": null,
            "max_height": null,
            "max_width": null,
            "min_height": null,
            "min_width": null,
            "object_fit": null,
            "object_position": null,
            "order": null,
            "overflow": null,
            "overflow_x": null,
            "overflow_y": null,
            "padding": null,
            "right": null,
            "top": null,
            "visibility": null,
            "width": null
          }
        },
        "8a38baf7b6754456b5d592b38c11e62d": {
          "model_module": "@jupyter-widgets/controls",
          "model_name": "DescriptionStyleModel",
          "model_module_version": "1.5.0",
          "state": {
            "_model_module": "@jupyter-widgets/controls",
            "_model_module_version": "1.5.0",
            "_model_name": "DescriptionStyleModel",
            "_view_count": null,
            "_view_module": "@jupyter-widgets/base",
            "_view_module_version": "1.2.0",
            "_view_name": "StyleView",
            "description_width": ""
          }
        },
        "06b6b85a8cca47a298e22ecff0eb87eb": {
          "model_module": "@jupyter-widgets/controls",
          "model_name": "HBoxModel",
          "model_module_version": "1.5.0",
          "state": {
            "_dom_classes": [],
            "_model_module": "@jupyter-widgets/controls",
            "_model_module_version": "1.5.0",
            "_model_name": "HBoxModel",
            "_view_count": null,
            "_view_module": "@jupyter-widgets/controls",
            "_view_module_version": "1.5.0",
            "_view_name": "HBoxView",
            "box_style": "",
            "children": [
              "IPY_MODEL_a67df56e2de34f7c8faf382ad6f51e7f",
              "IPY_MODEL_a1b597c0d2184a4fb315aec2eee27bd0",
              "IPY_MODEL_4fa254f3fcc74afea61398e9690f1091"
            ],
            "layout": "IPY_MODEL_cedcb57bf85e4ca49548793f62114673"
          }
        },
        "a67df56e2de34f7c8faf382ad6f51e7f": {
          "model_module": "@jupyter-widgets/controls",
          "model_name": "HTMLModel",
          "model_module_version": "1.5.0",
          "state": {
            "_dom_classes": [],
            "_model_module": "@jupyter-widgets/controls",
            "_model_module_version": "1.5.0",
            "_model_name": "HTMLModel",
            "_view_count": null,
            "_view_module": "@jupyter-widgets/controls",
            "_view_module_version": "1.5.0",
            "_view_name": "HTMLView",
            "description": "",
            "description_tooltip": null,
            "layout": "IPY_MODEL_79644a33bfac47028381e3c48f3b7ee2",
            "placeholder": "​",
            "style": "IPY_MODEL_2674b822049b43ccb9fe297f689d227d",
            "value": "Downloading vocab.json: 100%"
          }
        },
        "a1b597c0d2184a4fb315aec2eee27bd0": {
          "model_module": "@jupyter-widgets/controls",
          "model_name": "FloatProgressModel",
          "model_module_version": "1.5.0",
          "state": {
            "_dom_classes": [],
            "_model_module": "@jupyter-widgets/controls",
            "_model_module_version": "1.5.0",
            "_model_name": "FloatProgressModel",
            "_view_count": null,
            "_view_module": "@jupyter-widgets/controls",
            "_view_module_version": "1.5.0",
            "_view_name": "ProgressView",
            "bar_style": "success",
            "description": "",
            "description_tooltip": null,
            "layout": "IPY_MODEL_ed108953a67a444893e0dc70f0176a21",
            "max": 898823,
            "min": 0,
            "orientation": "horizontal",
            "style": "IPY_MODEL_35113f6c407147c58f3e3344204d2f7b",
            "value": 898823
          }
        },
        "4fa254f3fcc74afea61398e9690f1091": {
          "model_module": "@jupyter-widgets/controls",
          "model_name": "HTMLModel",
          "model_module_version": "1.5.0",
          "state": {
            "_dom_classes": [],
            "_model_module": "@jupyter-widgets/controls",
            "_model_module_version": "1.5.0",
            "_model_name": "HTMLModel",
            "_view_count": null,
            "_view_module": "@jupyter-widgets/controls",
            "_view_module_version": "1.5.0",
            "_view_name": "HTMLView",
            "description": "",
            "description_tooltip": null,
            "layout": "IPY_MODEL_13e24042ca3e49d1bb34817b25dad9e6",
            "placeholder": "​",
            "style": "IPY_MODEL_6d50fa8dc1a8405e9eecdb6798ec333a",
            "value": " 899k/899k [00:00&lt;00:00, 11.9MB/s]"
          }
        },
        "cedcb57bf85e4ca49548793f62114673": {
          "model_module": "@jupyter-widgets/base",
          "model_name": "LayoutModel",
          "model_module_version": "1.2.0",
          "state": {
            "_model_module": "@jupyter-widgets/base",
            "_model_module_version": "1.2.0",
            "_model_name": "LayoutModel",
            "_view_count": null,
            "_view_module": "@jupyter-widgets/base",
            "_view_module_version": "1.2.0",
            "_view_name": "LayoutView",
            "align_content": null,
            "align_items": null,
            "align_self": null,
            "border": null,
            "bottom": null,
            "display": null,
            "flex": null,
            "flex_flow": null,
            "grid_area": null,
            "grid_auto_columns": null,
            "grid_auto_flow": null,
            "grid_auto_rows": null,
            "grid_column": null,
            "grid_gap": null,
            "grid_row": null,
            "grid_template_areas": null,
            "grid_template_columns": null,
            "grid_template_rows": null,
            "height": null,
            "justify_content": null,
            "justify_items": null,
            "left": null,
            "margin": null,
            "max_height": null,
            "max_width": null,
            "min_height": null,
            "min_width": null,
            "object_fit": null,
            "object_position": null,
            "order": null,
            "overflow": null,
            "overflow_x": null,
            "overflow_y": null,
            "padding": null,
            "right": null,
            "top": null,
            "visibility": null,
            "width": null
          }
        },
        "79644a33bfac47028381e3c48f3b7ee2": {
          "model_module": "@jupyter-widgets/base",
          "model_name": "LayoutModel",
          "model_module_version": "1.2.0",
          "state": {
            "_model_module": "@jupyter-widgets/base",
            "_model_module_version": "1.2.0",
            "_model_name": "LayoutModel",
            "_view_count": null,
            "_view_module": "@jupyter-widgets/base",
            "_view_module_version": "1.2.0",
            "_view_name": "LayoutView",
            "align_content": null,
            "align_items": null,
            "align_self": null,
            "border": null,
            "bottom": null,
            "display": null,
            "flex": null,
            "flex_flow": null,
            "grid_area": null,
            "grid_auto_columns": null,
            "grid_auto_flow": null,
            "grid_auto_rows": null,
            "grid_column": null,
            "grid_gap": null,
            "grid_row": null,
            "grid_template_areas": null,
            "grid_template_columns": null,
            "grid_template_rows": null,
            "height": null,
            "justify_content": null,
            "justify_items": null,
            "left": null,
            "margin": null,
            "max_height": null,
            "max_width": null,
            "min_height": null,
            "min_width": null,
            "object_fit": null,
            "object_position": null,
            "order": null,
            "overflow": null,
            "overflow_x": null,
            "overflow_y": null,
            "padding": null,
            "right": null,
            "top": null,
            "visibility": null,
            "width": null
          }
        },
        "2674b822049b43ccb9fe297f689d227d": {
          "model_module": "@jupyter-widgets/controls",
          "model_name": "DescriptionStyleModel",
          "model_module_version": "1.5.0",
          "state": {
            "_model_module": "@jupyter-widgets/controls",
            "_model_module_version": "1.5.0",
            "_model_name": "DescriptionStyleModel",
            "_view_count": null,
            "_view_module": "@jupyter-widgets/base",
            "_view_module_version": "1.2.0",
            "_view_name": "StyleView",
            "description_width": ""
          }
        },
        "ed108953a67a444893e0dc70f0176a21": {
          "model_module": "@jupyter-widgets/base",
          "model_name": "LayoutModel",
          "model_module_version": "1.2.0",
          "state": {
            "_model_module": "@jupyter-widgets/base",
            "_model_module_version": "1.2.0",
            "_model_name": "LayoutModel",
            "_view_count": null,
            "_view_module": "@jupyter-widgets/base",
            "_view_module_version": "1.2.0",
            "_view_name": "LayoutView",
            "align_content": null,
            "align_items": null,
            "align_self": null,
            "border": null,
            "bottom": null,
            "display": null,
            "flex": null,
            "flex_flow": null,
            "grid_area": null,
            "grid_auto_columns": null,
            "grid_auto_flow": null,
            "grid_auto_rows": null,
            "grid_column": null,
            "grid_gap": null,
            "grid_row": null,
            "grid_template_areas": null,
            "grid_template_columns": null,
            "grid_template_rows": null,
            "height": null,
            "justify_content": null,
            "justify_items": null,
            "left": null,
            "margin": null,
            "max_height": null,
            "max_width": null,
            "min_height": null,
            "min_width": null,
            "object_fit": null,
            "object_position": null,
            "order": null,
            "overflow": null,
            "overflow_x": null,
            "overflow_y": null,
            "padding": null,
            "right": null,
            "top": null,
            "visibility": null,
            "width": null
          }
        },
        "35113f6c407147c58f3e3344204d2f7b": {
          "model_module": "@jupyter-widgets/controls",
          "model_name": "ProgressStyleModel",
          "model_module_version": "1.5.0",
          "state": {
            "_model_module": "@jupyter-widgets/controls",
            "_model_module_version": "1.5.0",
            "_model_name": "ProgressStyleModel",
            "_view_count": null,
            "_view_module": "@jupyter-widgets/base",
            "_view_module_version": "1.2.0",
            "_view_name": "StyleView",
            "bar_color": null,
            "description_width": ""
          }
        },
        "13e24042ca3e49d1bb34817b25dad9e6": {
          "model_module": "@jupyter-widgets/base",
          "model_name": "LayoutModel",
          "model_module_version": "1.2.0",
          "state": {
            "_model_module": "@jupyter-widgets/base",
            "_model_module_version": "1.2.0",
            "_model_name": "LayoutModel",
            "_view_count": null,
            "_view_module": "@jupyter-widgets/base",
            "_view_module_version": "1.2.0",
            "_view_name": "LayoutView",
            "align_content": null,
            "align_items": null,
            "align_self": null,
            "border": null,
            "bottom": null,
            "display": null,
            "flex": null,
            "flex_flow": null,
            "grid_area": null,
            "grid_auto_columns": null,
            "grid_auto_flow": null,
            "grid_auto_rows": null,
            "grid_column": null,
            "grid_gap": null,
            "grid_row": null,
            "grid_template_areas": null,
            "grid_template_columns": null,
            "grid_template_rows": null,
            "height": null,
            "justify_content": null,
            "justify_items": null,
            "left": null,
            "margin": null,
            "max_height": null,
            "max_width": null,
            "min_height": null,
            "min_width": null,
            "object_fit": null,
            "object_position": null,
            "order": null,
            "overflow": null,
            "overflow_x": null,
            "overflow_y": null,
            "padding": null,
            "right": null,
            "top": null,
            "visibility": null,
            "width": null
          }
        },
        "6d50fa8dc1a8405e9eecdb6798ec333a": {
          "model_module": "@jupyter-widgets/controls",
          "model_name": "DescriptionStyleModel",
          "model_module_version": "1.5.0",
          "state": {
            "_model_module": "@jupyter-widgets/controls",
            "_model_module_version": "1.5.0",
            "_model_name": "DescriptionStyleModel",
            "_view_count": null,
            "_view_module": "@jupyter-widgets/base",
            "_view_module_version": "1.2.0",
            "_view_name": "StyleView",
            "description_width": ""
          }
        },
        "ac8f37f0567d469898cd8d4f18aba800": {
          "model_module": "@jupyter-widgets/controls",
          "model_name": "HBoxModel",
          "model_module_version": "1.5.0",
          "state": {
            "_dom_classes": [],
            "_model_module": "@jupyter-widgets/controls",
            "_model_module_version": "1.5.0",
            "_model_name": "HBoxModel",
            "_view_count": null,
            "_view_module": "@jupyter-widgets/controls",
            "_view_module_version": "1.5.0",
            "_view_name": "HBoxView",
            "box_style": "",
            "children": [
              "IPY_MODEL_05026f02aaf445c4958191b211661bba",
              "IPY_MODEL_f4bbe328b5b64207bb4e4dc08cdf6eb5",
              "IPY_MODEL_04298e09c94140a9ba956c7a2d2462a0"
            ],
            "layout": "IPY_MODEL_74c67a4367ed47ef9712cbc614041a83"
          }
        },
        "05026f02aaf445c4958191b211661bba": {
          "model_module": "@jupyter-widgets/controls",
          "model_name": "HTMLModel",
          "model_module_version": "1.5.0",
          "state": {
            "_dom_classes": [],
            "_model_module": "@jupyter-widgets/controls",
            "_model_module_version": "1.5.0",
            "_model_name": "HTMLModel",
            "_view_count": null,
            "_view_module": "@jupyter-widgets/controls",
            "_view_module_version": "1.5.0",
            "_view_name": "HTMLView",
            "description": "",
            "description_tooltip": null,
            "layout": "IPY_MODEL_f6e4ab7c19b64fdcaebf8fd43b6d276b",
            "placeholder": "​",
            "style": "IPY_MODEL_3f43c7707dbf4e3a9383115ab06bf8de",
            "value": "Downloading merges.txt: 100%"
          }
        },
        "f4bbe328b5b64207bb4e4dc08cdf6eb5": {
          "model_module": "@jupyter-widgets/controls",
          "model_name": "FloatProgressModel",
          "model_module_version": "1.5.0",
          "state": {
            "_dom_classes": [],
            "_model_module": "@jupyter-widgets/controls",
            "_model_module_version": "1.5.0",
            "_model_name": "FloatProgressModel",
            "_view_count": null,
            "_view_module": "@jupyter-widgets/controls",
            "_view_module_version": "1.5.0",
            "_view_name": "ProgressView",
            "bar_style": "success",
            "description": "",
            "description_tooltip": null,
            "layout": "IPY_MODEL_a727758f7dbe41e78a98ec3e3394f1d1",
            "max": 456318,
            "min": 0,
            "orientation": "horizontal",
            "style": "IPY_MODEL_8cc554eb22694408a7cb4e60c18b9851",
            "value": 456318
          }
        },
        "04298e09c94140a9ba956c7a2d2462a0": {
          "model_module": "@jupyter-widgets/controls",
          "model_name": "HTMLModel",
          "model_module_version": "1.5.0",
          "state": {
            "_dom_classes": [],
            "_model_module": "@jupyter-widgets/controls",
            "_model_module_version": "1.5.0",
            "_model_name": "HTMLModel",
            "_view_count": null,
            "_view_module": "@jupyter-widgets/controls",
            "_view_module_version": "1.5.0",
            "_view_name": "HTMLView",
            "description": "",
            "description_tooltip": null,
            "layout": "IPY_MODEL_797c7aa17cdb42558a6b3cd3102c430b",
            "placeholder": "​",
            "style": "IPY_MODEL_896c6ff442e24122a2602e6f76ded592",
            "value": " 456k/456k [00:00&lt;00:00, 31.8MB/s]"
          }
        },
        "74c67a4367ed47ef9712cbc614041a83": {
          "model_module": "@jupyter-widgets/base",
          "model_name": "LayoutModel",
          "model_module_version": "1.2.0",
          "state": {
            "_model_module": "@jupyter-widgets/base",
            "_model_module_version": "1.2.0",
            "_model_name": "LayoutModel",
            "_view_count": null,
            "_view_module": "@jupyter-widgets/base",
            "_view_module_version": "1.2.0",
            "_view_name": "LayoutView",
            "align_content": null,
            "align_items": null,
            "align_self": null,
            "border": null,
            "bottom": null,
            "display": null,
            "flex": null,
            "flex_flow": null,
            "grid_area": null,
            "grid_auto_columns": null,
            "grid_auto_flow": null,
            "grid_auto_rows": null,
            "grid_column": null,
            "grid_gap": null,
            "grid_row": null,
            "grid_template_areas": null,
            "grid_template_columns": null,
            "grid_template_rows": null,
            "height": null,
            "justify_content": null,
            "justify_items": null,
            "left": null,
            "margin": null,
            "max_height": null,
            "max_width": null,
            "min_height": null,
            "min_width": null,
            "object_fit": null,
            "object_position": null,
            "order": null,
            "overflow": null,
            "overflow_x": null,
            "overflow_y": null,
            "padding": null,
            "right": null,
            "top": null,
            "visibility": null,
            "width": null
          }
        },
        "f6e4ab7c19b64fdcaebf8fd43b6d276b": {
          "model_module": "@jupyter-widgets/base",
          "model_name": "LayoutModel",
          "model_module_version": "1.2.0",
          "state": {
            "_model_module": "@jupyter-widgets/base",
            "_model_module_version": "1.2.0",
            "_model_name": "LayoutModel",
            "_view_count": null,
            "_view_module": "@jupyter-widgets/base",
            "_view_module_version": "1.2.0",
            "_view_name": "LayoutView",
            "align_content": null,
            "align_items": null,
            "align_self": null,
            "border": null,
            "bottom": null,
            "display": null,
            "flex": null,
            "flex_flow": null,
            "grid_area": null,
            "grid_auto_columns": null,
            "grid_auto_flow": null,
            "grid_auto_rows": null,
            "grid_column": null,
            "grid_gap": null,
            "grid_row": null,
            "grid_template_areas": null,
            "grid_template_columns": null,
            "grid_template_rows": null,
            "height": null,
            "justify_content": null,
            "justify_items": null,
            "left": null,
            "margin": null,
            "max_height": null,
            "max_width": null,
            "min_height": null,
            "min_width": null,
            "object_fit": null,
            "object_position": null,
            "order": null,
            "overflow": null,
            "overflow_x": null,
            "overflow_y": null,
            "padding": null,
            "right": null,
            "top": null,
            "visibility": null,
            "width": null
          }
        },
        "3f43c7707dbf4e3a9383115ab06bf8de": {
          "model_module": "@jupyter-widgets/controls",
          "model_name": "DescriptionStyleModel",
          "model_module_version": "1.5.0",
          "state": {
            "_model_module": "@jupyter-widgets/controls",
            "_model_module_version": "1.5.0",
            "_model_name": "DescriptionStyleModel",
            "_view_count": null,
            "_view_module": "@jupyter-widgets/base",
            "_view_module_version": "1.2.0",
            "_view_name": "StyleView",
            "description_width": ""
          }
        },
        "a727758f7dbe41e78a98ec3e3394f1d1": {
          "model_module": "@jupyter-widgets/base",
          "model_name": "LayoutModel",
          "model_module_version": "1.2.0",
          "state": {
            "_model_module": "@jupyter-widgets/base",
            "_model_module_version": "1.2.0",
            "_model_name": "LayoutModel",
            "_view_count": null,
            "_view_module": "@jupyter-widgets/base",
            "_view_module_version": "1.2.0",
            "_view_name": "LayoutView",
            "align_content": null,
            "align_items": null,
            "align_self": null,
            "border": null,
            "bottom": null,
            "display": null,
            "flex": null,
            "flex_flow": null,
            "grid_area": null,
            "grid_auto_columns": null,
            "grid_auto_flow": null,
            "grid_auto_rows": null,
            "grid_column": null,
            "grid_gap": null,
            "grid_row": null,
            "grid_template_areas": null,
            "grid_template_columns": null,
            "grid_template_rows": null,
            "height": null,
            "justify_content": null,
            "justify_items": null,
            "left": null,
            "margin": null,
            "max_height": null,
            "max_width": null,
            "min_height": null,
            "min_width": null,
            "object_fit": null,
            "object_position": null,
            "order": null,
            "overflow": null,
            "overflow_x": null,
            "overflow_y": null,
            "padding": null,
            "right": null,
            "top": null,
            "visibility": null,
            "width": null
          }
        },
        "8cc554eb22694408a7cb4e60c18b9851": {
          "model_module": "@jupyter-widgets/controls",
          "model_name": "ProgressStyleModel",
          "model_module_version": "1.5.0",
          "state": {
            "_model_module": "@jupyter-widgets/controls",
            "_model_module_version": "1.5.0",
            "_model_name": "ProgressStyleModel",
            "_view_count": null,
            "_view_module": "@jupyter-widgets/base",
            "_view_module_version": "1.2.0",
            "_view_name": "StyleView",
            "bar_color": null,
            "description_width": ""
          }
        },
        "797c7aa17cdb42558a6b3cd3102c430b": {
          "model_module": "@jupyter-widgets/base",
          "model_name": "LayoutModel",
          "model_module_version": "1.2.0",
          "state": {
            "_model_module": "@jupyter-widgets/base",
            "_model_module_version": "1.2.0",
            "_model_name": "LayoutModel",
            "_view_count": null,
            "_view_module": "@jupyter-widgets/base",
            "_view_module_version": "1.2.0",
            "_view_name": "LayoutView",
            "align_content": null,
            "align_items": null,
            "align_self": null,
            "border": null,
            "bottom": null,
            "display": null,
            "flex": null,
            "flex_flow": null,
            "grid_area": null,
            "grid_auto_columns": null,
            "grid_auto_flow": null,
            "grid_auto_rows": null,
            "grid_column": null,
            "grid_gap": null,
            "grid_row": null,
            "grid_template_areas": null,
            "grid_template_columns": null,
            "grid_template_rows": null,
            "height": null,
            "justify_content": null,
            "justify_items": null,
            "left": null,
            "margin": null,
            "max_height": null,
            "max_width": null,
            "min_height": null,
            "min_width": null,
            "object_fit": null,
            "object_position": null,
            "order": null,
            "overflow": null,
            "overflow_x": null,
            "overflow_y": null,
            "padding": null,
            "right": null,
            "top": null,
            "visibility": null,
            "width": null
          }
        },
        "896c6ff442e24122a2602e6f76ded592": {
          "model_module": "@jupyter-widgets/controls",
          "model_name": "DescriptionStyleModel",
          "model_module_version": "1.5.0",
          "state": {
            "_model_module": "@jupyter-widgets/controls",
            "_model_module_version": "1.5.0",
            "_model_name": "DescriptionStyleModel",
            "_view_count": null,
            "_view_module": "@jupyter-widgets/base",
            "_view_module_version": "1.2.0",
            "_view_name": "StyleView",
            "description_width": ""
          }
        },
        "be9e00d3458144c39208a9b30d0ccbaa": {
          "model_module": "@jupyter-widgets/controls",
          "model_name": "HBoxModel",
          "model_module_version": "1.5.0",
          "state": {
            "_dom_classes": [],
            "_model_module": "@jupyter-widgets/controls",
            "_model_module_version": "1.5.0",
            "_model_name": "HBoxModel",
            "_view_count": null,
            "_view_module": "@jupyter-widgets/controls",
            "_view_module_version": "1.5.0",
            "_view_name": "HBoxView",
            "box_style": "",
            "children": [
              "IPY_MODEL_b3d3245b5db042bdbd25f129c622b04b",
              "IPY_MODEL_c6a755638373487fbd754daeca9cefee",
              "IPY_MODEL_1e4d8663fd9d46ab8fdebaaaf6e28bb0"
            ],
            "layout": "IPY_MODEL_a29a4559b4a24c48ad90ad025798b861"
          }
        },
        "b3d3245b5db042bdbd25f129c622b04b": {
          "model_module": "@jupyter-widgets/controls",
          "model_name": "HTMLModel",
          "model_module_version": "1.5.0",
          "state": {
            "_dom_classes": [],
            "_model_module": "@jupyter-widgets/controls",
            "_model_module_version": "1.5.0",
            "_model_name": "HTMLModel",
            "_view_count": null,
            "_view_module": "@jupyter-widgets/controls",
            "_view_module_version": "1.5.0",
            "_view_name": "HTMLView",
            "description": "",
            "description_tooltip": null,
            "layout": "IPY_MODEL_7272cf3e491c4af68257776df62a1a55",
            "placeholder": "​",
            "style": "IPY_MODEL_5205e56e92594411bd6ca5ecf91b35f2",
            "value": "Downloading tokenizer.json: 100%"
          }
        },
        "c6a755638373487fbd754daeca9cefee": {
          "model_module": "@jupyter-widgets/controls",
          "model_name": "FloatProgressModel",
          "model_module_version": "1.5.0",
          "state": {
            "_dom_classes": [],
            "_model_module": "@jupyter-widgets/controls",
            "_model_module_version": "1.5.0",
            "_model_name": "FloatProgressModel",
            "_view_count": null,
            "_view_module": "@jupyter-widgets/controls",
            "_view_module_version": "1.5.0",
            "_view_name": "ProgressView",
            "bar_style": "success",
            "description": "",
            "description_tooltip": null,
            "layout": "IPY_MODEL_fdd4ffde9e7049dc8483e21ae0f25176",
            "max": 1355863,
            "min": 0,
            "orientation": "horizontal",
            "style": "IPY_MODEL_47dfd7dc9682403d8b864d4cfb0ec830",
            "value": 1355863
          }
        },
        "1e4d8663fd9d46ab8fdebaaaf6e28bb0": {
          "model_module": "@jupyter-widgets/controls",
          "model_name": "HTMLModel",
          "model_module_version": "1.5.0",
          "state": {
            "_dom_classes": [],
            "_model_module": "@jupyter-widgets/controls",
            "_model_module_version": "1.5.0",
            "_model_name": "HTMLModel",
            "_view_count": null,
            "_view_module": "@jupyter-widgets/controls",
            "_view_module_version": "1.5.0",
            "_view_name": "HTMLView",
            "description": "",
            "description_tooltip": null,
            "layout": "IPY_MODEL_67149fd2f2474353ba54124d51daa072",
            "placeholder": "​",
            "style": "IPY_MODEL_e003780d736c48c6a54cd6ec5ae88b3d",
            "value": " 1.36M/1.36M [00:00&lt;00:00, 22.3MB/s]"
          }
        },
        "a29a4559b4a24c48ad90ad025798b861": {
          "model_module": "@jupyter-widgets/base",
          "model_name": "LayoutModel",
          "model_module_version": "1.2.0",
          "state": {
            "_model_module": "@jupyter-widgets/base",
            "_model_module_version": "1.2.0",
            "_model_name": "LayoutModel",
            "_view_count": null,
            "_view_module": "@jupyter-widgets/base",
            "_view_module_version": "1.2.0",
            "_view_name": "LayoutView",
            "align_content": null,
            "align_items": null,
            "align_self": null,
            "border": null,
            "bottom": null,
            "display": null,
            "flex": null,
            "flex_flow": null,
            "grid_area": null,
            "grid_auto_columns": null,
            "grid_auto_flow": null,
            "grid_auto_rows": null,
            "grid_column": null,
            "grid_gap": null,
            "grid_row": null,
            "grid_template_areas": null,
            "grid_template_columns": null,
            "grid_template_rows": null,
            "height": null,
            "justify_content": null,
            "justify_items": null,
            "left": null,
            "margin": null,
            "max_height": null,
            "max_width": null,
            "min_height": null,
            "min_width": null,
            "object_fit": null,
            "object_position": null,
            "order": null,
            "overflow": null,
            "overflow_x": null,
            "overflow_y": null,
            "padding": null,
            "right": null,
            "top": null,
            "visibility": null,
            "width": null
          }
        },
        "7272cf3e491c4af68257776df62a1a55": {
          "model_module": "@jupyter-widgets/base",
          "model_name": "LayoutModel",
          "model_module_version": "1.2.0",
          "state": {
            "_model_module": "@jupyter-widgets/base",
            "_model_module_version": "1.2.0",
            "_model_name": "LayoutModel",
            "_view_count": null,
            "_view_module": "@jupyter-widgets/base",
            "_view_module_version": "1.2.0",
            "_view_name": "LayoutView",
            "align_content": null,
            "align_items": null,
            "align_self": null,
            "border": null,
            "bottom": null,
            "display": null,
            "flex": null,
            "flex_flow": null,
            "grid_area": null,
            "grid_auto_columns": null,
            "grid_auto_flow": null,
            "grid_auto_rows": null,
            "grid_column": null,
            "grid_gap": null,
            "grid_row": null,
            "grid_template_areas": null,
            "grid_template_columns": null,
            "grid_template_rows": null,
            "height": null,
            "justify_content": null,
            "justify_items": null,
            "left": null,
            "margin": null,
            "max_height": null,
            "max_width": null,
            "min_height": null,
            "min_width": null,
            "object_fit": null,
            "object_position": null,
            "order": null,
            "overflow": null,
            "overflow_x": null,
            "overflow_y": null,
            "padding": null,
            "right": null,
            "top": null,
            "visibility": null,
            "width": null
          }
        },
        "5205e56e92594411bd6ca5ecf91b35f2": {
          "model_module": "@jupyter-widgets/controls",
          "model_name": "DescriptionStyleModel",
          "model_module_version": "1.5.0",
          "state": {
            "_model_module": "@jupyter-widgets/controls",
            "_model_module_version": "1.5.0",
            "_model_name": "DescriptionStyleModel",
            "_view_count": null,
            "_view_module": "@jupyter-widgets/base",
            "_view_module_version": "1.2.0",
            "_view_name": "StyleView",
            "description_width": ""
          }
        },
        "fdd4ffde9e7049dc8483e21ae0f25176": {
          "model_module": "@jupyter-widgets/base",
          "model_name": "LayoutModel",
          "model_module_version": "1.2.0",
          "state": {
            "_model_module": "@jupyter-widgets/base",
            "_model_module_version": "1.2.0",
            "_model_name": "LayoutModel",
            "_view_count": null,
            "_view_module": "@jupyter-widgets/base",
            "_view_module_version": "1.2.0",
            "_view_name": "LayoutView",
            "align_content": null,
            "align_items": null,
            "align_self": null,
            "border": null,
            "bottom": null,
            "display": null,
            "flex": null,
            "flex_flow": null,
            "grid_area": null,
            "grid_auto_columns": null,
            "grid_auto_flow": null,
            "grid_auto_rows": null,
            "grid_column": null,
            "grid_gap": null,
            "grid_row": null,
            "grid_template_areas": null,
            "grid_template_columns": null,
            "grid_template_rows": null,
            "height": null,
            "justify_content": null,
            "justify_items": null,
            "left": null,
            "margin": null,
            "max_height": null,
            "max_width": null,
            "min_height": null,
            "min_width": null,
            "object_fit": null,
            "object_position": null,
            "order": null,
            "overflow": null,
            "overflow_x": null,
            "overflow_y": null,
            "padding": null,
            "right": null,
            "top": null,
            "visibility": null,
            "width": null
          }
        },
        "47dfd7dc9682403d8b864d4cfb0ec830": {
          "model_module": "@jupyter-widgets/controls",
          "model_name": "ProgressStyleModel",
          "model_module_version": "1.5.0",
          "state": {
            "_model_module": "@jupyter-widgets/controls",
            "_model_module_version": "1.5.0",
            "_model_name": "ProgressStyleModel",
            "_view_count": null,
            "_view_module": "@jupyter-widgets/base",
            "_view_module_version": "1.2.0",
            "_view_name": "StyleView",
            "bar_color": null,
            "description_width": ""
          }
        },
        "67149fd2f2474353ba54124d51daa072": {
          "model_module": "@jupyter-widgets/base",
          "model_name": "LayoutModel",
          "model_module_version": "1.2.0",
          "state": {
            "_model_module": "@jupyter-widgets/base",
            "_model_module_version": "1.2.0",
            "_model_name": "LayoutModel",
            "_view_count": null,
            "_view_module": "@jupyter-widgets/base",
            "_view_module_version": "1.2.0",
            "_view_name": "LayoutView",
            "align_content": null,
            "align_items": null,
            "align_self": null,
            "border": null,
            "bottom": null,
            "display": null,
            "flex": null,
            "flex_flow": null,
            "grid_area": null,
            "grid_auto_columns": null,
            "grid_auto_flow": null,
            "grid_auto_rows": null,
            "grid_column": null,
            "grid_gap": null,
            "grid_row": null,
            "grid_template_areas": null,
            "grid_template_columns": null,
            "grid_template_rows": null,
            "height": null,
            "justify_content": null,
            "justify_items": null,
            "left": null,
            "margin": null,
            "max_height": null,
            "max_width": null,
            "min_height": null,
            "min_width": null,
            "object_fit": null,
            "object_position": null,
            "order": null,
            "overflow": null,
            "overflow_x": null,
            "overflow_y": null,
            "padding": null,
            "right": null,
            "top": null,
            "visibility": null,
            "width": null
          }
        },
        "e003780d736c48c6a54cd6ec5ae88b3d": {
          "model_module": "@jupyter-widgets/controls",
          "model_name": "DescriptionStyleModel",
          "model_module_version": "1.5.0",
          "state": {
            "_model_module": "@jupyter-widgets/controls",
            "_model_module_version": "1.5.0",
            "_model_name": "DescriptionStyleModel",
            "_view_count": null,
            "_view_module": "@jupyter-widgets/base",
            "_view_module_version": "1.2.0",
            "_view_name": "StyleView",
            "description_width": ""
          }
        },
        "a03c4065bf774ffc80774c5f21bb49c8": {
          "model_module": "@jupyter-widgets/controls",
          "model_name": "HBoxModel",
          "model_module_version": "1.5.0",
          "state": {
            "_dom_classes": [],
            "_model_module": "@jupyter-widgets/controls",
            "_model_module_version": "1.5.0",
            "_model_name": "HBoxModel",
            "_view_count": null,
            "_view_module": "@jupyter-widgets/controls",
            "_view_module_version": "1.5.0",
            "_view_name": "HBoxView",
            "box_style": "",
            "children": [
              "IPY_MODEL_96f8d34160af4077b2d9cb3c6b9ea234",
              "IPY_MODEL_82e54eda08874f17ad331711fda61ae5",
              "IPY_MODEL_474af8173ffd4a16b914e54ef5825573"
            ],
            "layout": "IPY_MODEL_62a60770717642438418df69377b5d67"
          }
        },
        "96f8d34160af4077b2d9cb3c6b9ea234": {
          "model_module": "@jupyter-widgets/controls",
          "model_name": "HTMLModel",
          "model_module_version": "1.5.0",
          "state": {
            "_dom_classes": [],
            "_model_module": "@jupyter-widgets/controls",
            "_model_module_version": "1.5.0",
            "_model_name": "HTMLModel",
            "_view_count": null,
            "_view_module": "@jupyter-widgets/controls",
            "_view_module_version": "1.5.0",
            "_view_name": "HTMLView",
            "description": "",
            "description_tooltip": null,
            "layout": "IPY_MODEL_3d9034499297483aa94c1b0195698ea0",
            "placeholder": "​",
            "style": "IPY_MODEL_756866548c1a4e7aa88c2e0c6a8a1cc1",
            "value": "Downloading model.safetensors: 100%"
          }
        },
        "82e54eda08874f17ad331711fda61ae5": {
          "model_module": "@jupyter-widgets/controls",
          "model_name": "FloatProgressModel",
          "model_module_version": "1.5.0",
          "state": {
            "_dom_classes": [],
            "_model_module": "@jupyter-widgets/controls",
            "_model_module_version": "1.5.0",
            "_model_name": "FloatProgressModel",
            "_view_count": null,
            "_view_module": "@jupyter-widgets/controls",
            "_view_module_version": "1.5.0",
            "_view_name": "ProgressView",
            "bar_style": "success",
            "description": "",
            "description_tooltip": null,
            "layout": "IPY_MODEL_56e02bc6698344dbaf3ebd2752434a79",
            "max": 1421700479,
            "min": 0,
            "orientation": "horizontal",
            "style": "IPY_MODEL_567158693e404f8a81443dd6a822b221",
            "value": 1421700479
          }
        },
        "474af8173ffd4a16b914e54ef5825573": {
          "model_module": "@jupyter-widgets/controls",
          "model_name": "HTMLModel",
          "model_module_version": "1.5.0",
          "state": {
            "_dom_classes": [],
            "_model_module": "@jupyter-widgets/controls",
            "_model_module_version": "1.5.0",
            "_model_name": "HTMLModel",
            "_view_count": null,
            "_view_module": "@jupyter-widgets/controls",
            "_view_module_version": "1.5.0",
            "_view_name": "HTMLView",
            "description": "",
            "description_tooltip": null,
            "layout": "IPY_MODEL_35ef39311cdf4c23bd15b62a346d8bb9",
            "placeholder": "​",
            "style": "IPY_MODEL_1b482ae4f9b14f58b266446d1e6321a8",
            "value": " 1.42G/1.42G [00:06&lt;00:00, 256MB/s]"
          }
        },
        "62a60770717642438418df69377b5d67": {
          "model_module": "@jupyter-widgets/base",
          "model_name": "LayoutModel",
          "model_module_version": "1.2.0",
          "state": {
            "_model_module": "@jupyter-widgets/base",
            "_model_module_version": "1.2.0",
            "_model_name": "LayoutModel",
            "_view_count": null,
            "_view_module": "@jupyter-widgets/base",
            "_view_module_version": "1.2.0",
            "_view_name": "LayoutView",
            "align_content": null,
            "align_items": null,
            "align_self": null,
            "border": null,
            "bottom": null,
            "display": null,
            "flex": null,
            "flex_flow": null,
            "grid_area": null,
            "grid_auto_columns": null,
            "grid_auto_flow": null,
            "grid_auto_rows": null,
            "grid_column": null,
            "grid_gap": null,
            "grid_row": null,
            "grid_template_areas": null,
            "grid_template_columns": null,
            "grid_template_rows": null,
            "height": null,
            "justify_content": null,
            "justify_items": null,
            "left": null,
            "margin": null,
            "max_height": null,
            "max_width": null,
            "min_height": null,
            "min_width": null,
            "object_fit": null,
            "object_position": null,
            "order": null,
            "overflow": null,
            "overflow_x": null,
            "overflow_y": null,
            "padding": null,
            "right": null,
            "top": null,
            "visibility": null,
            "width": null
          }
        },
        "3d9034499297483aa94c1b0195698ea0": {
          "model_module": "@jupyter-widgets/base",
          "model_name": "LayoutModel",
          "model_module_version": "1.2.0",
          "state": {
            "_model_module": "@jupyter-widgets/base",
            "_model_module_version": "1.2.0",
            "_model_name": "LayoutModel",
            "_view_count": null,
            "_view_module": "@jupyter-widgets/base",
            "_view_module_version": "1.2.0",
            "_view_name": "LayoutView",
            "align_content": null,
            "align_items": null,
            "align_self": null,
            "border": null,
            "bottom": null,
            "display": null,
            "flex": null,
            "flex_flow": null,
            "grid_area": null,
            "grid_auto_columns": null,
            "grid_auto_flow": null,
            "grid_auto_rows": null,
            "grid_column": null,
            "grid_gap": null,
            "grid_row": null,
            "grid_template_areas": null,
            "grid_template_columns": null,
            "grid_template_rows": null,
            "height": null,
            "justify_content": null,
            "justify_items": null,
            "left": null,
            "margin": null,
            "max_height": null,
            "max_width": null,
            "min_height": null,
            "min_width": null,
            "object_fit": null,
            "object_position": null,
            "order": null,
            "overflow": null,
            "overflow_x": null,
            "overflow_y": null,
            "padding": null,
            "right": null,
            "top": null,
            "visibility": null,
            "width": null
          }
        },
        "756866548c1a4e7aa88c2e0c6a8a1cc1": {
          "model_module": "@jupyter-widgets/controls",
          "model_name": "DescriptionStyleModel",
          "model_module_version": "1.5.0",
          "state": {
            "_model_module": "@jupyter-widgets/controls",
            "_model_module_version": "1.5.0",
            "_model_name": "DescriptionStyleModel",
            "_view_count": null,
            "_view_module": "@jupyter-widgets/base",
            "_view_module_version": "1.2.0",
            "_view_name": "StyleView",
            "description_width": ""
          }
        },
        "56e02bc6698344dbaf3ebd2752434a79": {
          "model_module": "@jupyter-widgets/base",
          "model_name": "LayoutModel",
          "model_module_version": "1.2.0",
          "state": {
            "_model_module": "@jupyter-widgets/base",
            "_model_module_version": "1.2.0",
            "_model_name": "LayoutModel",
            "_view_count": null,
            "_view_module": "@jupyter-widgets/base",
            "_view_module_version": "1.2.0",
            "_view_name": "LayoutView",
            "align_content": null,
            "align_items": null,
            "align_self": null,
            "border": null,
            "bottom": null,
            "display": null,
            "flex": null,
            "flex_flow": null,
            "grid_area": null,
            "grid_auto_columns": null,
            "grid_auto_flow": null,
            "grid_auto_rows": null,
            "grid_column": null,
            "grid_gap": null,
            "grid_row": null,
            "grid_template_areas": null,
            "grid_template_columns": null,
            "grid_template_rows": null,
            "height": null,
            "justify_content": null,
            "justify_items": null,
            "left": null,
            "margin": null,
            "max_height": null,
            "max_width": null,
            "min_height": null,
            "min_width": null,
            "object_fit": null,
            "object_position": null,
            "order": null,
            "overflow": null,
            "overflow_x": null,
            "overflow_y": null,
            "padding": null,
            "right": null,
            "top": null,
            "visibility": null,
            "width": null
          }
        },
        "567158693e404f8a81443dd6a822b221": {
          "model_module": "@jupyter-widgets/controls",
          "model_name": "ProgressStyleModel",
          "model_module_version": "1.5.0",
          "state": {
            "_model_module": "@jupyter-widgets/controls",
            "_model_module_version": "1.5.0",
            "_model_name": "ProgressStyleModel",
            "_view_count": null,
            "_view_module": "@jupyter-widgets/base",
            "_view_module_version": "1.2.0",
            "_view_name": "StyleView",
            "bar_color": null,
            "description_width": ""
          }
        },
        "35ef39311cdf4c23bd15b62a346d8bb9": {
          "model_module": "@jupyter-widgets/base",
          "model_name": "LayoutModel",
          "model_module_version": "1.2.0",
          "state": {
            "_model_module": "@jupyter-widgets/base",
            "_model_module_version": "1.2.0",
            "_model_name": "LayoutModel",
            "_view_count": null,
            "_view_module": "@jupyter-widgets/base",
            "_view_module_version": "1.2.0",
            "_view_name": "LayoutView",
            "align_content": null,
            "align_items": null,
            "align_self": null,
            "border": null,
            "bottom": null,
            "display": null,
            "flex": null,
            "flex_flow": null,
            "grid_area": null,
            "grid_auto_columns": null,
            "grid_auto_flow": null,
            "grid_auto_rows": null,
            "grid_column": null,
            "grid_gap": null,
            "grid_row": null,
            "grid_template_areas": null,
            "grid_template_columns": null,
            "grid_template_rows": null,
            "height": null,
            "justify_content": null,
            "justify_items": null,
            "left": null,
            "margin": null,
            "max_height": null,
            "max_width": null,
            "min_height": null,
            "min_width": null,
            "object_fit": null,
            "object_position": null,
            "order": null,
            "overflow": null,
            "overflow_x": null,
            "overflow_y": null,
            "padding": null,
            "right": null,
            "top": null,
            "visibility": null,
            "width": null
          }
        },
        "1b482ae4f9b14f58b266446d1e6321a8": {
          "model_module": "@jupyter-widgets/controls",
          "model_name": "DescriptionStyleModel",
          "model_module_version": "1.5.0",
          "state": {
            "_model_module": "@jupyter-widgets/controls",
            "_model_module_version": "1.5.0",
            "_model_name": "DescriptionStyleModel",
            "_view_count": null,
            "_view_module": "@jupyter-widgets/base",
            "_view_module_version": "1.2.0",
            "_view_name": "StyleView",
            "description_width": ""
          }
        }
      }
    }
  },
  "cells": [
    {
      "cell_type": "markdown",
      "metadata": {
        "id": "view-in-github",
        "colab_type": "text"
      },
      "source": [
        "<a href=\"https://colab.research.google.com/github/HamdanXI/nlp_adventure/blob/main/ml801/evaluation_all_in_one.ipynb\" target=\"_parent\"><img src=\"https://colab.research.google.com/assets/colab-badge.svg\" alt=\"Open In Colab\"/></a>"
      ]
    },
    {
      "cell_type": "code",
      "execution_count": null,
      "metadata": {
        "id": "Nok_cQ80o4B6"
      },
      "outputs": [],
      "source": [
        "!pip install transformers datasets tqdm bert-score evaluate unbabel-comet\n",
        "!pip install git+https://github.com/google-research/bleurt.git\n",
        "!pip3 install git+https://github.com/Unbabel/COMET.git\n",
        "!pip install tensorflow --upgrade"
      ]
    },
    {
      "cell_type": "code",
      "source": [
        "from transformers import AutoTokenizer, AutoModelForSeq2SeqLM\n",
        "from datasets import load_dataset\n",
        "from datasets import load_metric\n",
        "import torch\n",
        "from tqdm import tqdm\n",
        "from evaluate import load\n",
        "from bert_score import score\n",
        "\n",
        "bleurt_metric = load_metric('bleurt')\n",
        "comet_metric = load('comet')\n",
        "\n",
        "# Models\n",
        "tokenizer = AutoTokenizer.from_pretrained(\"HamdanXI/marefa-mt-en-ar-parallel-10k-splitted\")\n",
        "model = AutoModelForSeq2SeqLM.from_pretrained(\"HamdanXI/marefa-mt-en-ar-parallel-10k-splitted\")\n",
        "\n",
        "cosine_tokenizer = AutoTokenizer.from_pretrained(\"HamdanXI/marefa-mt-en-ar-parallel-10k-splitted-cosine\")\n",
        "cosine_model = AutoModelForSeq2SeqLM.from_pretrained(\"HamdanXI/marefa-mt-en-ar-parallel-10k-splitted-cosine\")\n",
        "\n",
        "euclidean_tokenizer = AutoTokenizer.from_pretrained(\"HamdanXI/marefa-mt-en-ar-parallel-10k-splitted-euclidean\")\n",
        "euclidean_model = AutoModelForSeq2SeqLM.from_pretrained(\"HamdanXI/marefa-mt-en-ar-parallel-10k-splitted-euclidean\")\n",
        "\n",
        "translate_cosine_tokenizer = AutoTokenizer.from_pretrained(\"HamdanXI/marefa-mt-en-ar-parallel-10k-splitted-translated-cosine\")\n",
        "translate_cosine_model = AutoModelForSeq2SeqLM.from_pretrained(\"HamdanXI/marefa-mt-en-ar-parallel-10k-splitted-translated-cosine\")\n",
        "\n",
        "# Dataset\n",
        "dataset = load_dataset(\"HamdanXI/arb-eng-parallel-10k-splitted\", split=\"test\")"
      ],
      "metadata": {
        "id": "dzGIO-zHo6CV"
      },
      "execution_count": null,
      "outputs": []
    },
    {
      "cell_type": "code",
      "source": [
        "# Max Token Length\n",
        "def max_token_length(input, label, tokenizer):\n",
        "  max_token_length_input = max(len(tokenizer.encode(item)) for item in input)\n",
        "  max_token_length_label = max(len(tokenizer.encode(item)) for item in label)\n",
        "\n",
        "  if max_token_length_input > max_token_length_label:\n",
        "      highest_length = max_token_length_input\n",
        "  else:\n",
        "      highest_length = max_token_length_label\n",
        "\n",
        "  return highest_length\n",
        "\n",
        "# Generate Predictions\n",
        "def generate_predictions(texts, model, tokenizer, highest_length):\n",
        "    predictions = []\n",
        "    for text in tqdm(texts, desc=\"Generating predictions\"):\n",
        "        inputs = tokenizer(text, padding=True, truncation=True, max_length=highest_length, return_tensors=\"pt\")\n",
        "        with torch.no_grad():\n",
        "            outputs = model.generate(**inputs)\n",
        "        predictions.extend([tokenizer.decode(output, skip_special_tokens=True) for output in outputs])\n",
        "    return predictions\n",
        "\n",
        "# BLEURT Evaluation\n",
        "def bleurt_evaluate(input, label, model, tokenizer, highest_length):\n",
        "    predictions = generate_predictions(input, model, tokenizer, highest_length)\n",
        "    score_results = bleurt_metric.compute(predictions=predictions, references=label)\n",
        "    scores = score_results['scores']\n",
        "    average_score = sum(scores) / len(scores) if scores else 0\n",
        "    print(f\"Average BLEURT Score: {average_score}\")\n",
        "\n",
        "# BERT Score Evaluation\n",
        "def bert_score_evaluate(input, label, model, tokenizer, highest_length):\n",
        "  predictions = generate_predictions(input, model, tokenizer, highest_length)\n",
        "  P, R, F1 = score(predictions, label, lang=\"en\", rescale_with_baseline=True)\n",
        "  print(f\"Precision: {P.mean()}, Recall: {R.mean()}, F1 Score: {F1.mean()}\")\n",
        "\n",
        "# COMET Evaluate\n",
        "def comet_evaluate(input, label, model, tokenizer, highest_length):\n",
        "    predictions = generate_predictions(input, model, tokenizer, highest_length)\n",
        "    comet_score = comet_metric.compute(predictions=predictions, references=label, sources=input)\n",
        "    print(comet_score)"
      ],
      "metadata": {
        "id": "Fbi7BHa0ueDX"
      },
      "execution_count": 39,
      "outputs": []
    },
    {
      "cell_type": "code",
      "source": [
        "# Function to count the number of rows with token length greater than 512\n",
        "max_length=512\n",
        "\n",
        "def count_exceeding_token_length(inputs, labels, tokenizer, max_length=512):\n",
        "    count = 0\n",
        "    for input, label in zip(inputs, labels):\n",
        "        input_length = len(tokenizer.encode(input, add_special_tokens=True))\n",
        "        label_length = len(tokenizer.encode(label, add_special_tokens=True))\n",
        "        if input_length > max_length or label_length > max_length:\n",
        "            count += 1\n",
        "    return count\n",
        "\n",
        "# Example usage\n",
        "exceeding_count = count_exceeding_token_length(dataset[\"english\"], dataset[\"arabic\"], cosine_tokenizer)\n",
        "print(f\"Number of rows exceeding the token length of {max_length}: {exceeding_count}\")"
      ],
      "metadata": {
        "colab": {
          "base_uri": "https://localhost:8080/"
        },
        "id": "kobshWYqmyen",
        "outputId": "7e451d07-e68e-4d12-c90e-9223e0a60162"
      },
      "execution_count": 24,
      "outputs": [
        {
          "output_type": "stream",
          "name": "stdout",
          "text": [
            "Number of rows exceeding the token length of 512: 10\n"
          ]
        }
      ]
    },
    {
      "cell_type": "code",
      "source": [
        "from datasets import Dataset\n",
        "\n",
        "# Function to filter out rows with token length greater than 512\n",
        "def filter_exceeding_token_length(inputs, labels, tokenizer, max_length=512):\n",
        "    filtered_inputs = []\n",
        "    filtered_labels = []\n",
        "    for input, label in zip(inputs, labels):\n",
        "        input_length = len(tokenizer.encode(input, add_special_tokens=True))\n",
        "        label_length = len(tokenizer.encode(label, add_special_tokens=True))\n",
        "        if input_length <= max_length and label_length <= max_length:\n",
        "            filtered_inputs.append(input)\n",
        "            filtered_labels.append(label)\n",
        "    return filtered_inputs, filtered_labels\n",
        "\n",
        "# Example usage\n",
        "filtered_english, filtered_arabic = filter_exceeding_token_length(dataset[\"english\"], dataset[\"arabic\"], cosine_tokenizer)\n",
        "\n",
        "filtered_data = {\n",
        "    \"english\": filtered_english,\n",
        "    \"arabic\": filtered_arabic\n",
        "}\n",
        "\n",
        "filtered_dataset = Dataset.from_dict(filtered_data)"
      ],
      "metadata": {
        "id": "OqS2bksynF1e"
      },
      "execution_count": 33,
      "outputs": []
    },
    {
      "cell_type": "code",
      "source": [
        "highest_length = max_token_length(filtered_dataset[\"english\"], filtered_dataset[\"arabic\"], tokenizer)\n",
        "highest_length_cosine = max_token_length(filtered_dataset[\"english\"], filtered_dataset[\"arabic\"], cosine_tokenizer)\n",
        "highest_length_euclidean = max_token_length(filtered_dataset[\"english\"], filtered_dataset[\"arabic\"], euclidean_tokenizer)\n",
        "highest_length_translate_cosine = max_token_length(filtered_dataset[\"english\"], filtered_dataset[\"arabic\"], translate_cosine_tokenizer)"
      ],
      "metadata": {
        "id": "i0OeTjuKi7_q"
      },
      "execution_count": 34,
      "outputs": []
    },
    {
      "cell_type": "markdown",
      "source": [
        "## Evaluation"
      ],
      "metadata": {
        "id": "0mcSp4E5ieLb"
      }
    },
    {
      "cell_type": "code",
      "source": [
        "# Original\n",
        "bleurt_evaluate(filtered_dataset[\"english\"], filtered_dataset[\"arabic\"], model, tokenizer, highest_length)\n",
        "bert_score_evaluate(filtered_dataset[\"english\"], filtered_dataset[\"arabic\"], model, tokenizer, highest_length)\n",
        "comet_evaluate(filtered_dataset[\"english\"], filtered_dataset[\"arabic\"], model, tokenizer, highest_length)"
      ],
      "metadata": {
        "id": "_9XeL2dYhr8K",
        "outputId": "c835388b-dfd2-4cbc-bf2e-aeec2e5b9b49",
        "colab": {
          "base_uri": "https://localhost:8080/"
        }
      },
      "execution_count": 47,
      "outputs": [
        {
          "output_type": "stream",
          "name": "stderr",
          "text": [
            "Generating predictions: 100%|██████████| 990/990 [48:02<00:00,  2.91s/it]\n"
          ]
        },
        {
          "output_type": "stream",
          "name": "stdout",
          "text": [
            "Average BLEURT Score: 0.28746049471500545\n"
          ]
        },
        {
          "output_type": "stream",
          "name": "stderr",
          "text": [
            "Generating predictions: 100%|██████████| 990/990 [47:48<00:00,  2.90s/it]\n",
            "Some weights of RobertaModel were not initialized from the model checkpoint at roberta-large and are newly initialized: ['roberta.pooler.dense.bias', 'roberta.pooler.dense.weight']\n",
            "You should probably TRAIN this model on a down-stream task to be able to use it for predictions and inference.\n"
          ]
        },
        {
          "output_type": "stream",
          "name": "stdout",
          "text": [
            "Precision: 0.710999071598053, Recall: 0.697315514087677, F1 Score: 0.7035643458366394\n"
          ]
        },
        {
          "output_type": "stream",
          "name": "stderr",
          "text": [
            "Generating predictions: 100%|██████████| 990/990 [47:58<00:00,  2.91s/it]\n",
            "INFO:pytorch_lightning.utilities.rank_zero:GPU available: False, used: False\n",
            "INFO:pytorch_lightning.utilities.rank_zero:TPU available: False, using: 0 TPU cores\n",
            "INFO:pytorch_lightning.utilities.rank_zero:IPU available: False, using: 0 IPUs\n",
            "INFO:pytorch_lightning.utilities.rank_zero:HPU available: False, using: 0 HPUs\n"
          ]
        },
        {
          "output_type": "stream",
          "name": "stdout",
          "text": [
            "{'mean_score': 0.7877256003744675, 'scores': [0.8503618240356445, 0.8322935104370117, 0.9863495826721191, 0.8695116639137268, 0.6131543517112732, 0.9731025099754333, 0.7221502661705017, 0.8463395833969116, 0.8595158457756042, 0.9640747308731079, 0.4118642807006836, 0.6832497715950012, 0.2755265235900879, 0.7395756840705872, 0.9395692944526672, 0.894148051738739, 0.6407445073127747, 0.7250490784645081, 0.7655426859855652, 0.8921614289283752, 0.6943545937538147, 0.816938042640686, 0.6922697424888611, 0.8261359930038452, 0.9668891429901123, 0.8727145791053772, 0.8731088638305664, 0.7501506209373474, 0.8831837177276611, 0.6376141905784607, 0.7875956296920776, 0.9677118062973022, 0.7823079228401184, 0.43817034363746643, 0.8163723349571228, 0.7573623061180115, 0.836251437664032, 0.7543741464614868, 0.968146562576294, 0.8070049285888672, 0.7559369206428528, 0.649654746055603, 0.9797382354736328, 0.8490793704986572, 0.6139199137687683, 0.9194795489311218, 0.9256269335746765, 0.9337344765663147, 0.7829503417015076, 0.9036486744880676, 0.9901263117790222, 0.9315555095672607, 0.7491743564605713, 0.9843081831932068, 0.6185580492019653, 0.9104158282279968, 0.7533422112464905, 0.8892179131507874, 0.7557182908058167, 0.8110012412071228, 0.7698914408683777, 0.739761471748352, 0.4385887384414673, 0.8711273074150085, 0.69471675157547, 0.9184169769287109, 0.7701783776283264, 0.8297740817070007, 0.8148499131202698, 0.7998009324073792, 0.8035314679145813, 0.653774082660675, 0.8476160168647766, 0.776680052280426, 0.9101857542991638, 0.9154078960418701, 0.6874984502792358, 0.8360744118690491, 0.7080075144767761, 0.8142649531364441, 0.704336404800415, 0.9166110157966614, 0.874400794506073, 0.8428738713264465, 0.7298304438591003, 0.9187485575675964, 0.8598505854606628, 0.8196803331375122, 0.8555353879928589, 0.5267728567123413, 0.8014950752258301, 0.8490368127822876, 0.8317732810974121, 0.8160849809646606, 0.9110834002494812, 0.8120412230491638, 0.7770683169364929, 0.9078885316848755, 0.932542622089386, 0.8723366856575012, 0.42204877734184265, 0.6304845213890076, 0.7278483510017395, 0.94146728515625, 0.6539084911346436, 0.8133573532104492, 0.9122961759567261, 0.9870492219924927, 0.7491137981414795, 0.7209528088569641, 0.85026615858078, 0.5534121990203857, 0.8616844415664673, 0.36677441000938416, 0.6537855863571167, 0.43877384066581726, 0.6261358261108398, 0.934123158454895, 0.6695581078529358, 0.646341860294342, 0.6954596638679504, 0.5986774563789368, 0.7927858233451843, 0.7075887322425842, 0.9319174885749817, 0.9242987632751465, 0.6288045644760132, 0.8227972388267517, 0.9178075194358826, 0.9925335645675659, 0.8900012969970703, 0.44717341661453247, 0.8657049536705017, 0.7536587715148926, 0.7004387974739075, 0.5276063084602356, 0.9203761219978333, 0.9072998762130737, 0.7992153763771057, 0.6219460964202881, 0.6204225420951843, 0.6859463453292847, 0.9911156296730042, 0.9020254015922546, 0.9443656206130981, 0.9679463505744934, 0.485735148191452, 0.7299167513847351, 0.6993366479873657, 0.6350921392440796, 0.9310892224311829, 0.9077396988868713, 0.8376064896583557, 0.8183960914611816, 0.856573224067688, 0.7600328922271729, 0.5917894244194031, 0.870000958442688, 0.8601965308189392, 0.9897568225860596, 0.589953601360321, 0.7625071406364441, 0.36005714535713196, 0.765008270740509, 0.655816376209259, 0.985577404499054, 0.8026052117347717, 0.6863670945167542, 0.728752076625824, 0.8106239438056946, 0.8734781742095947, 0.9110516905784607, 0.9071866869926453, 0.9191761612892151, 0.8487111330032349, 0.7013059258460999, 0.8509156703948975, 0.9924573302268982, 0.6151390671730042, 0.9032019376754761, 0.6428460478782654, 0.8271326422691345, 0.9016472697257996, 0.991409957408905, 0.9516754746437073, 0.5475892424583435, 0.503814160823822, 0.854434072971344, 0.48161324858665466, 0.6017127633094788, 0.6632176041603088, 0.7952811121940613, 0.8300405144691467, 0.8223223090171814, 0.7048563361167908, 0.8006168603897095, 0.6735862493515015, 0.9305577278137207, 0.830807626247406, 0.7103226780891418, 0.9476557374000549, 0.9317100644111633, 0.9687079787254333, 0.9544634222984314, 0.3631204068660736, 0.7190396785736084, 0.8310057520866394, 0.9567446112632751, 0.721206545829773, 0.842219889163971, 0.7885006070137024, 0.983905017375946, 0.5724530816078186, 0.826917290687561, 0.6397129893302917, 0.8155065774917603, 0.8254522681236267, 0.8480539321899414, 0.8882216811180115, 0.5382845401763916, 0.8289287686347961, 0.790047824382782, 0.9673915505409241, 0.9637537002563477, 0.9332000613212585, 0.9033935070037842, 0.9463232159614563, 0.7460247874259949, 0.8761268854141235, 0.886562705039978, 0.6839038729667664, 0.8486785292625427, 0.42711082100868225, 0.8501730561256409, 0.7694918513298035, 0.7924000024795532, 0.5155876278877258, 0.8853049278259277, 0.4907893240451813, 0.919921338558197, 0.9251400828361511, 0.8492964506149292, 0.8784531950950623, 0.9637809991836548, 0.8361448645591736, 0.8680720925331116, 0.7764176726341248, 0.6386829018592834, 0.8872353434562683, 0.6998916268348694, 0.526681125164032, 0.8163460493087769, 0.9242048263549805, 0.7380598187446594, 0.792302668094635, 0.4914381206035614, 0.7337673902511597, 0.9132890701293945, 0.79752516746521, 0.9870492219924927, 0.7931949496269226, 0.8594094514846802, 0.5766751170158386, 0.9299381375312805, 0.501243531703949, 0.8496726751327515, 0.895754873752594, 0.7636478543281555, 0.7245733737945557, 0.845584511756897, 0.5634977221488953, 0.7966451048851013, 0.8824138045310974, 0.7644290924072266, 0.5426084399223328, 0.8815872669219971, 0.9607656598091125, 0.8985350131988525, 0.8063884377479553, 0.8984279036521912, 0.9501875042915344, 0.6541427969932556, 0.6811063885688782, 0.7588983774185181, 0.4840775430202484, 0.8154003024101257, 0.5607448220252991, 0.751658022403717, 0.9497597217559814, 0.6180779337882996, 0.9905304908752441, 0.7355899214744568, 0.6063174605369568, 0.763192892074585, 0.7918550968170166, 0.8581379055976868, 0.8232488036155701, 0.9197576642036438, 0.5909302830696106, 0.824916422367096, 0.9802672266960144, 0.8818069100379944, 0.7316316962242126, 0.7696439623832703, 0.5959829688072205, 0.5800864100456238, 0.5916971564292908, 0.8169717192649841, 0.9397143721580505, 0.7900524735450745, 0.7992871403694153, 0.8945048451423645, 0.7211822271347046, 0.8633590340614319, 0.7366605997085571, 0.566472053527832, 0.7965903282165527, 0.9015166163444519, 0.9286421537399292, 0.9402483105659485, 0.7376587986946106, 0.9398348927497864, 0.8964174389839172, 0.752632200717926, 0.8141795992851257, 0.7818982601165771, 0.8090983033180237, 0.467883825302124, 0.8739504814147949, 0.9845948815345764, 0.6114817261695862, 0.7132522463798523, 0.6673265099525452, 0.92486172914505, 0.8706126809120178, 0.8696898818016052, 0.618262767791748, 0.7678386569023132, 0.7364477515220642, 0.9190652966499329, 0.7759491205215454, 0.3744865953922272, 0.8607332110404968, 0.7721415758132935, 0.6690022945404053, 0.7304025888442993, 0.7715228199958801, 0.8497686982154846, 0.6052268147468567, 0.9237021207809448, 0.6802188754081726, 0.7800776362419128, 0.8384588360786438, 0.8002616763114929, 0.8159377574920654, 0.6264906525611877, 0.4960440695285797, 0.9115965962409973, 0.8380111455917358, 0.884526789188385, 0.9938496947288513, 0.9661330580711365, 0.7276558876037598, 0.8868109583854675, 0.9412545561790466, 0.6492781043052673, 0.9142387509346008, 0.8236294388771057, 0.7309443950653076, 0.8930268883705139, 0.35496774315834045, 0.6856609582901001, 0.9530304074287415, 0.5545148849487305, 0.8848649859428406, 0.8681513667106628, 0.6976175904273987, 0.7547829151153564, 0.7894533276557922, 0.8885621428489685, 0.8186567425727844, 0.624520480632782, 0.8455416560173035, 0.8132029175758362, 0.8449479937553406, 0.7333579659461975, 0.9417948722839355, 0.9864381551742554, 0.868296205997467, 0.851662814617157, 0.6642066836357117, 0.7509444355964661, 0.7723407745361328, 0.8306121230125427, 0.938816487789154, 0.8423582911491394, 0.814463198184967, 0.8562173247337341, 0.6808655858039856, 0.876271665096283, 0.7820103764533997, 0.8618815541267395, 0.7940847873687744, 0.9487293362617493, 0.9201831221580505, 0.9738335013389587, 0.9479569792747498, 0.7674980163574219, 0.9432818293571472, 0.3591362535953522, 0.8989337086677551, 0.9892284274101257, 0.871722936630249, 0.5366758108139038, 0.736787736415863, 0.8371309638023376, 0.8238844275474548, 0.9395024180412292, 0.4979948103427887, 0.7494691014289856, 0.7579007744789124, 0.7647388577461243, 0.8158231377601624, 0.8794766068458557, 0.5871275663375854, 0.756777286529541, 0.6953290700912476, 0.9100946187973022, 0.5468049645423889, 0.6985636353492737, 0.6684209704399109, 0.9164617657661438, 0.6795254349708557, 0.7811329960823059, 0.7463908791542053, 0.6469170451164246, 0.9648730158805847, 0.6655687093734741, 0.43676576018333435, 0.43373599648475647, 0.5325207114219666, 0.48383209109306335, 0.7546648979187012, 0.8649170398712158, 0.9171692728996277, 0.4902421832084656, 0.8299733996391296, 0.9486547112464905, 0.7802667021751404, 0.8828052878379822, 0.9333022236824036, 0.6712684631347656, 0.878269612789154, 0.4597735106945038, 0.8707361817359924, 0.6062037348747253, 0.8757227063179016, 0.9043481945991516, 0.6729007363319397, 0.9179908633232117, 0.8221351504325867, 0.8007933497428894, 0.8418001532554626, 0.9607245326042175, 0.9052382111549377, 0.7691889405250549, 0.49603524804115295, 0.9105688333511353, 0.670084536075592, 0.9138566851615906, 0.7062539458274841, 0.7574813961982727, 0.4204087555408478, 0.8619192242622375, 0.8818780183792114, 0.8825156688690186, 0.7422268986701965, 0.6534656286239624, 0.9906668066978455, 0.8791609406471252, 0.9517257809638977, 0.5695539116859436, 0.8797454833984375, 0.946681797504425, 0.8813832998275757, 0.9312214255332947, 0.40869998931884766, 0.7789786458015442, 0.8819342851638794, 0.8349998593330383, 0.7757529616355896, 0.9003567099571228, 0.9124553799629211, 0.5557510256767273, 0.7698222994804382, 0.8293368220329285, 0.8728858232498169, 0.9136645197868347, 0.97381991147995, 0.4176225960254669, 0.8271527290344238, 0.962221086025238, 0.5720414519309998, 0.8005278706550598, 0.8073683977127075, 0.8317742943763733, 0.9037559628486633, 0.8085114359855652, 0.9262934923171997, 0.7977399826049805, 0.8589600920677185, 0.8853965997695923, 0.8771339654922485, 0.9825481176376343, 0.8021630048751831, 0.9058634042739868, 0.7882930636405945, 0.8207147121429443, 0.8402018547058105, 0.9797544479370117, 0.9278078675270081, 0.9903114438056946, 0.603870689868927, 0.9458878040313721, 0.8432125449180603, 0.5391619205474854, 0.6122369170188904, 0.47726237773895264, 0.701337993144989, 0.9340190291404724, 0.8477169871330261, 0.8567919135093689, 0.865826427936554, 0.8985434174537659, 0.691210150718689, 0.8076671957969666, 0.7396288514137268, 0.7535590529441833, 0.799908459186554, 0.9907873272895813, 0.8043165802955627, 0.738638162612915, 0.6838217377662659, 0.7940704226493835, 0.7583181262016296, 0.8895757794380188, 0.845115602016449, 0.6093271374702454, 0.897067666053772, 0.8795483708381653, 0.9177020192146301, 0.8955187201499939, 0.45903435349464417, 0.8995131850242615, 0.5239470601081848, 0.6963314414024353, 0.8052341938018799, 0.8842961192131042, 0.6612259745597839, 0.709875226020813, 0.8648671507835388, 0.8133741021156311, 0.6380929946899414, 0.6290746331214905, 0.7504019141197205, 0.47718706727027893, 0.6016019582748413, 0.744361162185669, 0.7156934142112732, 0.7664838433265686, 0.7153936624526978, 0.9409462809562683, 0.8665054440498352, 0.9272448420524597, 0.8762505650520325, 0.9745295643806458, 0.8082559108734131, 0.8268380761146545, 0.4991438090801239, 0.6727139353752136, 0.9886139631271362, 0.2346164733171463, 0.9208869338035583, 0.7332158088684082, 0.7984844446182251, 0.9038082957267761, 0.8416431546211243, 0.8874924778938293, 0.6233397126197815, 0.91617351770401, 0.6172274947166443, 0.7760648727416992, 0.9138041138648987, 0.8173763155937195, 0.8109044432640076, 0.9548551440238953, 0.44881483912467957, 0.38540586829185486, 0.8594474792480469, 0.864420473575592, 0.9202622771263123, 0.6197224259376526, 0.8658127188682556, 0.864206075668335, 0.8491749167442322, 0.8449248671531677, 0.8193721175193787, 0.6812719702720642, 0.9044440984725952, 0.541888415813446, 0.9100473523139954, 0.9135057926177979, 0.5944516062736511, 0.83794766664505, 0.7736685872077942, 0.8363029956817627, 0.5994354486465454, 0.9081477522850037, 0.9609972834587097, 0.9599102139472961, 0.7059531807899475, 0.769548773765564, 0.7053809762001038, 0.7223723530769348, 0.7273569107055664, 0.6107149720191956, 0.8427652716636658, 0.626033365726471, 0.8714916110038757, 0.8156080842018127, 0.7744002938270569, 0.8769219517707825, 0.8009881377220154, 0.5398263335227966, 0.6905510425567627, 0.7291536927223206, 0.6653657555580139, 0.8168642520904541, 0.8097187280654907, 0.6499215364456177, 0.857114851474762, 0.5687225461006165, 0.8907920718193054, 0.8435043096542358, 0.8725907206535339, 0.7536788582801819, 0.9232519865036011, 0.8243762850761414, 0.7752478122711182, 0.6750742793083191, 0.561777651309967, 0.9637570381164551, 0.9185990691184998, 0.8714151978492737, 0.7106183171272278, 0.9130054116249084, 0.6426135301589966, 0.4715254604816437, 0.9074576497077942, 0.6019912362098694, 0.5305740833282471, 0.5960940718650818, 0.7125290036201477, 0.9014350771903992, 0.7825201153755188, 0.9192774891853333, 0.6912815570831299, 0.5104725360870361, 0.8083010911941528, 0.8984614014625549, 0.8874381184577942, 0.8849489092826843, 0.8794755339622498, 0.3359620273113251, 0.7779355645179749, 0.8105515837669373, 0.7793049812316895, 0.45402035117149353, 0.711482584476471, 0.8932994604110718, 0.6938901543617249, 0.8940698504447937, 0.8790882229804993, 0.8175831437110901, 0.6568707227706909, 0.8039714694023132, 0.7145071625709534, 0.8884454369544983, 0.8734959959983826, 0.6078570485115051, 0.893117368221283, 0.5818286538124084, 0.9082543849945068, 0.9808698296546936, 0.8840076327323914, 0.8125514388084412, 0.9042076468467712, 0.9024561047554016, 0.9143507480621338, 0.8903639912605286, 0.8654519319534302, 0.8842496275901794, 0.8118129372596741, 0.7141208052635193, 0.4864003658294678, 0.8201074004173279, 0.9704794883728027, 0.8838759064674377, 0.8172239661216736, 0.7920488715171814, 0.8116106986999512, 0.8435478806495667, 0.5538626313209534, 0.4758548438549042, 0.6574399471282959, 0.8388845324516296, 0.9390330910682678, 0.9897395968437195, 0.676963746547699, 0.9897767901420593, 0.9236161112785339, 0.7237170338630676, 0.568857729434967, 0.9471809267997742, 0.8726701140403748, 0.7892507910728455, 0.9918968081474304, 0.8972205519676208, 0.935350775718689, 0.8305932879447937, 0.5465871095657349, 0.7206297516822815, 0.8895339369773865, 0.8375908732414246, 0.7027410268783569, 0.9897647500038147, 0.5979743599891663, 0.49469485878944397, 0.5446757078170776, 0.8756818175315857, 0.7631447911262512, 0.7715334296226501, 0.7537122368812561, 0.8503602147102356, 0.7591907382011414, 0.9160533547401428, 0.8851897716522217, 0.8913694024085999, 0.9870491623878479, 0.8136730790138245, 0.8938696980476379, 0.8276485800743103, 0.9265303611755371, 0.9084036946296692, 0.839430034160614, 0.9057850241661072, 0.895608127117157, 0.9861100316047668, 0.990662157535553, 0.8618137240409851, 0.5843167901039124, 0.748075544834137, 0.6569600701332092, 0.5099903345108032, 0.9175130724906921, 0.8230902552604675, 0.9827513098716736, 0.8769204020500183, 0.8161181807518005, 0.7307112216949463, 0.8716517090797424, 0.8942878842353821, 0.8064032793045044, 0.8805422782897949, 0.7034006714820862, 0.8499542474746704, 0.8520644903182983, 0.6274675726890564, 0.6166108250617981, 0.7792018055915833, 0.5707007050514221, 0.9898481965065002, 0.8365518450737, 0.6939286589622498, 0.8131280541419983, 0.7453367710113525, 0.9070171117782593, 0.7313040494918823, 0.9467621445655823, 0.9885213971138, 0.6584222316741943, 0.9311939477920532, 0.9537733793258667, 0.7895572781562805, 0.7020812034606934, 0.7665089964866638, 0.6939700841903687, 0.5651571750640869, 0.8662605881690979, 0.7377169728279114, 0.8449804782867432, 0.8423944115638733, 0.9384258985519409, 0.7948285937309265, 0.9606586694717407, 0.8638504147529602, 0.7508024573326111, 0.9137029051780701, 0.5962277054786682, 0.9106187224388123, 0.87257981300354, 0.8860197067260742, 0.1868228316307068, 0.7764758467674255, 0.9141371846199036, 0.771075963973999, 0.8343892693519592, 0.9352622032165527, 0.939078152179718, 0.7539188861846924, 0.9900214672088623, 0.9201025366783142, 0.9096977114677429, 0.6572945713996887, 0.8594474792480469, 0.9265331029891968, 0.5535263419151306, 0.8649762868881226, 0.7180426716804504, 0.8648108839988708, 0.7910363078117371, 0.991245448589325, 0.43372586369514465, 0.9184197187423706, 0.8106566071510315, 0.7979878783226013, 0.7171215415000916, 0.8022176623344421, 0.9276534914970398, 0.8769161701202393, 0.8092902898788452, 0.9306272864341736, 0.9297593832015991, 0.8215780854225159, 0.7386788725852966, 0.7407914400100708, 0.8446911573410034, 0.9248208403587341, 0.9424750208854675, 0.4980364143848419, 0.7287994027137756, 0.8683164119720459, 0.930090606212616, 0.8341028094291687, 0.8244206309318542, 0.7581494450569153, 0.9194243550300598, 0.9855561852455139, 0.8390315771102905, 0.958223283290863, 0.92503422498703, 0.777247965335846, 0.5746156573295593, 0.9554855227470398, 0.6371409893035889, 0.8068830966949463, 0.8472119569778442, 0.6255964636802673, 0.7528957724571228, 0.6356930732727051, 0.7588810324668884, 0.9548551440238953, 0.7460989356040955, 0.6433640122413635, 0.8668169975280762, 0.6003373265266418, 0.7322109341621399, 0.8229332566261292, 0.39895063638687134, 0.8277249932289124, 0.96474289894104, 0.7856520414352417, 0.989773690700531, 0.9406788945198059, 0.9431908130645752, 0.8588710427284241, 0.8752405047416687, 0.6828977465629578, 0.7899253368377686, 0.7510139346122742, 0.7662438750267029, 0.6457292437553406, 0.8331401348114014, 0.4765368700027466, 0.5941027402877808, 0.8550813794136047, 0.870578944683075, 0.8570220470428467, 0.706425130367279, 0.9855359792709351, 0.6379008293151855, 0.7784773707389832, 0.9357693791389465, 0.934775710105896, 0.8407132029533386, 0.9087123274803162, 0.9842036962509155, 0.9159377217292786, 0.7748309969902039, 0.7502287030220032, 0.8473429083824158, 0.7640780210494995, 0.895326554775238, 0.7845167517662048, 0.6928600072860718, 0.9117898344993591, 0.6465581059455872, 0.9331368803977966, 0.9455879926681519, 0.8162282705307007, 0.8473652005195618, 0.3269796073436737, 0.8725739121437073, 0.655765950679779, 0.8373066782951355, 0.6401334404945374, 0.8084095120429993, 0.8603716492652893, 0.7648656964302063, 0.9191222190856934, 0.9075477719306946, 0.7384918928146362, 0.7092952728271484, 0.6932340264320374, 0.8270305395126343, 0.7646440267562866, 0.8689890503883362, 0.8071572780609131, 0.7446565628051758, 0.8877865076065063, 0.8960255980491638, 0.9014065861701965, 0.7951902151107788, 0.8790167570114136, 0.7717570662498474, 0.861721932888031, 0.9425731301307678, 0.7966142892837524, 0.6875249743461609, 0.9280949234962463, 0.6982373595237732, 0.81849604845047, 0.6395447254180908, 0.8761339783668518, 0.6216631531715393, 0.9128280282020569, 0.7425692677497864, 0.5640429854393005, 0.5961703658103943, 0.6895448565483093, 0.884791910648346, 0.766362726688385, 0.9165123105049133, 0.8967874646186829, 0.9541403651237488, 0.737000048160553, 0.4776802659034729, 0.8157696723937988, 0.7199122309684753, 0.7328382730484009, 0.8931997418403625, 0.7767563462257385, 0.5613858699798584, 0.3869686424732208, 0.5575892329216003, 0.45197924971580505, 0.8362049460411072, 0.8956606984138489, 0.8351584672927856, 0.6257149577140808, 0.5695065259933472, 0.7214823365211487, 0.8821821212768555, 0.8560602068901062, 0.8331791758537292, 0.7312843203544617, 0.8597275614738464, 0.8978093266487122, 0.7271097302436829, 0.8972790241241455]}\n"
          ]
        }
      ]
    },
    {
      "cell_type": "code",
      "source": [
        "# Cosine\n",
        "bleurt_evaluate(filtered_dataset[\"english\"], filtered_dataset[\"arabic\"], cosine_model, cosine_tokenizer, highest_length_cosine)"
      ],
      "metadata": {
        "id": "QAzBrwSUpwnu",
        "outputId": "b6fda9a2-f356-47a9-e3c7-7c6966d30210",
        "colab": {
          "base_uri": "https://localhost:8080/"
        }
      },
      "execution_count": 36,
      "outputs": [
        {
          "output_type": "stream",
          "name": "stderr",
          "text": [
            "Generating predictions: 100%|██████████| 990/990 [44:00<00:00,  2.67s/it]\n"
          ]
        },
        {
          "output_type": "stream",
          "name": "stdout",
          "text": [
            "Average BLEURT Score: 0.2754056655397319\n"
          ]
        }
      ]
    },
    {
      "cell_type": "code",
      "source": [
        "bert_score_evaluate(filtered_dataset[\"english\"], filtered_dataset[\"arabic\"], cosine_model, cosine_tokenizer, highest_length_cosine)"
      ],
      "metadata": {
        "colab": {
          "base_uri": "https://localhost:8080/",
          "height": 246,
          "referenced_widgets": [
            "1e8063d2fd064da0a3e38af0a8d3aa6d",
            "c5711d7d82714e3e8e9de0c9b738d3d4",
            "2711b043fdcd4b4b89c94db8cfeea1a3",
            "33630eb4ab944742bcfba9e506b65b0a",
            "a17f8edb57d045ddb4f597ddb512a2d7",
            "046e487aadb7426da468156332390925",
            "0efb5236d9b744598a0e9e71139eb638",
            "295d96c06563433b8f60de2c94d03999",
            "df5a56e630464c44a0fbfbb57c3ff634",
            "d000a5e20b944e75b728df5930ae7b2b",
            "8a38baf7b6754456b5d592b38c11e62d",
            "06b6b85a8cca47a298e22ecff0eb87eb",
            "a67df56e2de34f7c8faf382ad6f51e7f",
            "a1b597c0d2184a4fb315aec2eee27bd0",
            "4fa254f3fcc74afea61398e9690f1091",
            "cedcb57bf85e4ca49548793f62114673",
            "79644a33bfac47028381e3c48f3b7ee2",
            "2674b822049b43ccb9fe297f689d227d",
            "ed108953a67a444893e0dc70f0176a21",
            "35113f6c407147c58f3e3344204d2f7b",
            "13e24042ca3e49d1bb34817b25dad9e6",
            "6d50fa8dc1a8405e9eecdb6798ec333a",
            "ac8f37f0567d469898cd8d4f18aba800",
            "05026f02aaf445c4958191b211661bba",
            "f4bbe328b5b64207bb4e4dc08cdf6eb5",
            "04298e09c94140a9ba956c7a2d2462a0",
            "74c67a4367ed47ef9712cbc614041a83",
            "f6e4ab7c19b64fdcaebf8fd43b6d276b",
            "3f43c7707dbf4e3a9383115ab06bf8de",
            "a727758f7dbe41e78a98ec3e3394f1d1",
            "8cc554eb22694408a7cb4e60c18b9851",
            "797c7aa17cdb42558a6b3cd3102c430b",
            "896c6ff442e24122a2602e6f76ded592",
            "be9e00d3458144c39208a9b30d0ccbaa",
            "b3d3245b5db042bdbd25f129c622b04b",
            "c6a755638373487fbd754daeca9cefee",
            "1e4d8663fd9d46ab8fdebaaaf6e28bb0",
            "a29a4559b4a24c48ad90ad025798b861",
            "7272cf3e491c4af68257776df62a1a55",
            "5205e56e92594411bd6ca5ecf91b35f2",
            "fdd4ffde9e7049dc8483e21ae0f25176",
            "47dfd7dc9682403d8b864d4cfb0ec830",
            "67149fd2f2474353ba54124d51daa072",
            "e003780d736c48c6a54cd6ec5ae88b3d",
            "a03c4065bf774ffc80774c5f21bb49c8",
            "96f8d34160af4077b2d9cb3c6b9ea234",
            "82e54eda08874f17ad331711fda61ae5",
            "474af8173ffd4a16b914e54ef5825573",
            "62a60770717642438418df69377b5d67",
            "3d9034499297483aa94c1b0195698ea0",
            "756866548c1a4e7aa88c2e0c6a8a1cc1",
            "56e02bc6698344dbaf3ebd2752434a79",
            "567158693e404f8a81443dd6a822b221",
            "35ef39311cdf4c23bd15b62a346d8bb9",
            "1b482ae4f9b14f58b266446d1e6321a8"
          ]
        },
        "id": "ynJiXyZoopdu",
        "outputId": "5622e70b-d250-4899-bc6a-5c08f760b9be"
      },
      "execution_count": 40,
      "outputs": [
        {
          "output_type": "stream",
          "name": "stderr",
          "text": [
            "Generating predictions: 100%|██████████| 990/990 [46:44<00:00,  2.83s/it]\n"
          ]
        },
        {
          "output_type": "display_data",
          "data": {
            "text/plain": [
              "Downloading config.json:   0%|          | 0.00/482 [00:00<?, ?B/s]"
            ],
            "application/vnd.jupyter.widget-view+json": {
              "version_major": 2,
              "version_minor": 0,
              "model_id": "1e8063d2fd064da0a3e38af0a8d3aa6d"
            }
          },
          "metadata": {}
        },
        {
          "output_type": "display_data",
          "data": {
            "text/plain": [
              "Downloading vocab.json:   0%|          | 0.00/899k [00:00<?, ?B/s]"
            ],
            "application/vnd.jupyter.widget-view+json": {
              "version_major": 2,
              "version_minor": 0,
              "model_id": "06b6b85a8cca47a298e22ecff0eb87eb"
            }
          },
          "metadata": {}
        },
        {
          "output_type": "display_data",
          "data": {
            "text/plain": [
              "Downloading merges.txt:   0%|          | 0.00/456k [00:00<?, ?B/s]"
            ],
            "application/vnd.jupyter.widget-view+json": {
              "version_major": 2,
              "version_minor": 0,
              "model_id": "ac8f37f0567d469898cd8d4f18aba800"
            }
          },
          "metadata": {}
        },
        {
          "output_type": "display_data",
          "data": {
            "text/plain": [
              "Downloading tokenizer.json:   0%|          | 0.00/1.36M [00:00<?, ?B/s]"
            ],
            "application/vnd.jupyter.widget-view+json": {
              "version_major": 2,
              "version_minor": 0,
              "model_id": "be9e00d3458144c39208a9b30d0ccbaa"
            }
          },
          "metadata": {}
        },
        {
          "output_type": "display_data",
          "data": {
            "text/plain": [
              "Downloading model.safetensors:   0%|          | 0.00/1.42G [00:00<?, ?B/s]"
            ],
            "application/vnd.jupyter.widget-view+json": {
              "version_major": 2,
              "version_minor": 0,
              "model_id": "a03c4065bf774ffc80774c5f21bb49c8"
            }
          },
          "metadata": {}
        },
        {
          "output_type": "stream",
          "name": "stderr",
          "text": [
            "Some weights of RobertaModel were not initialized from the model checkpoint at roberta-large and are newly initialized: ['roberta.pooler.dense.bias', 'roberta.pooler.dense.weight']\n",
            "You should probably TRAIN this model on a down-stream task to be able to use it for predictions and inference.\n"
          ]
        },
        {
          "output_type": "stream",
          "name": "stdout",
          "text": [
            "Precision: 0.7030388116836548, Recall: 0.6979464292526245, F1 Score: 0.7001206874847412\n"
          ]
        }
      ]
    },
    {
      "cell_type": "code",
      "source": [
        "comet_evaluate(filtered_dataset[\"english\"], filtered_dataset[\"arabic\"], cosine_model, cosine_tokenizer, highest_length_cosine)"
      ],
      "metadata": {
        "colab": {
          "base_uri": "https://localhost:8080/"
        },
        "id": "5KiUVFVdoqzW",
        "outputId": "46ab0fd9-9821-43e6-bcc7-c711c7e2db8d"
      },
      "execution_count": 41,
      "outputs": [
        {
          "output_type": "stream",
          "name": "stderr",
          "text": [
            "Generating predictions: 100%|██████████| 990/990 [44:44<00:00,  2.71s/it]\n",
            "INFO:pytorch_lightning.utilities.rank_zero:GPU available: False, used: False\n",
            "INFO:pytorch_lightning.utilities.rank_zero:TPU available: False, using: 0 TPU cores\n",
            "INFO:pytorch_lightning.utilities.rank_zero:IPU available: False, using: 0 IPUs\n",
            "INFO:pytorch_lightning.utilities.rank_zero:HPU available: False, using: 0 HPUs\n"
          ]
        },
        {
          "output_type": "stream",
          "name": "stdout",
          "text": [
            "{'mean_score': 0.7849524437177061, 'scores': [0.8859003782272339, 0.7932345271110535, 0.9863495826721191, 0.771252453327179, 0.6446283459663391, 0.9710640907287598, 0.6595632433891296, 0.8630728125572205, 0.7661566138267517, 0.9663700461387634, 0.40533286333084106, 0.6665619611740112, 0.7749037146568298, 0.8073330521583557, 0.9395692944526672, 0.8832603096961975, 0.625222384929657, 0.777237057685852, 0.6321601867675781, 0.8056350350379944, 0.6624431610107422, 0.9057794809341431, 0.796846330165863, 0.9094573855400085, 0.9633030295372009, 0.8062624335289001, 0.7677479386329651, 0.7407079935073853, 0.8293113112449646, 0.6376141905784607, 0.8830552697181702, 0.9677118062973022, 0.6444244980812073, 0.45122531056404114, 0.8629436492919922, 0.7639089822769165, 0.8473998308181763, 0.667715847492218, 0.9432080388069153, 0.7957450747489929, 0.6480064988136292, 0.8908212184906006, 0.9797382354736328, 0.8316565155982971, 0.589607298374176, 0.9147369265556335, 0.9398252964019775, 0.9335417151451111, 0.5144185423851013, 0.8145816922187805, 0.9901263117790222, 0.9400711059570312, 0.7877039909362793, 0.9843081831932068, 0.6316720247268677, 0.8778044581413269, 0.7272270917892456, 0.8841500878334045, 0.8890331387519836, 0.78484708070755, 0.8875768780708313, 0.6852988600730896, 0.4385887384414673, 0.9069929122924805, 0.8053103089332581, 0.9184169769287109, 0.7950685024261475, 0.8520798087120056, 0.870125949382782, 0.8450440764427185, 0.8359081149101257, 0.5598880648612976, 0.6675319075584412, 0.6901515126228333, 0.9092634916305542, 0.9624651670455933, 0.714838445186615, 0.7431420087814331, 0.7998574376106262, 0.8121792674064636, 0.7135383486747742, 0.8838648200035095, 0.8548185229301453, 0.7949557900428772, 0.7206491827964783, 0.9281241297721863, 0.7614971995353699, 0.8742814660072327, 0.7780718207359314, 0.5666467547416687, 0.7511414289474487, 0.8540359139442444, 0.7731801867485046, 0.8682514429092407, 0.882700502872467, 0.8120412230491638, 0.7952680587768555, 0.8454489707946777, 0.9250177145004272, 0.8766494393348694, 0.3932332694530487, 0.8461018800735474, 0.7467532157897949, 0.9169769883155823, 0.7131629586219788, 0.7977284789085388, 0.9137318134307861, 0.9870492219924927, 0.8912546634674072, 0.7902279496192932, 0.8551732897758484, 0.6593227386474609, 0.8311653137207031, 0.33473339676856995, 0.6327201724052429, 0.5726341605186462, 0.7485025525093079, 0.9448214173316956, 0.6333478093147278, 0.6362549662590027, 0.8289288878440857, 0.6502893567085266, 0.8200796246528625, 0.784225344657898, 0.9319174885749817, 0.9299015402793884, 0.6288045644760132, 0.8481035828590393, 0.9326428174972534, 0.9925335645675659, 0.735085666179657, 0.42802461981773376, 0.9040011763572693, 0.565056324005127, 0.7833863496780396, 0.557615339756012, 0.8731427788734436, 0.8593057990074158, 0.710353672504425, 0.6139419078826904, 0.612629234790802, 0.9100879430770874, 0.9911156296730042, 0.7327449321746826, 0.9316530227661133, 0.9679463505744934, 0.5005353689193726, 0.8126596212387085, 0.7349423766136169, 0.6172359585762024, 0.9311259388923645, 0.8317391276359558, 0.87492835521698, 0.8236305117607117, 0.8653993010520935, 0.8595171570777893, 0.7752651572227478, 0.9307490587234497, 0.8448305726051331, 0.9897567629814148, 0.47404810786247253, 0.749430239200592, 0.36237266659736633, 0.8455379605293274, 0.8392731547355652, 0.9189048409461975, 0.8772521615028381, 0.6527120471000671, 0.69686359167099, 0.8846418261528015, 0.8390924334526062, 0.8824822902679443, 0.8931229710578918, 0.9189835786819458, 0.8976551294326782, 0.8542565703392029, 0.8458502888679504, 0.9924573302268982, 0.640080988407135, 0.6316202282905579, 0.8295383453369141, 0.8335079550743103, 0.8636006712913513, 0.991409957408905, 0.9439439177513123, 0.5000647306442261, 0.7129400372505188, 0.8080535531044006, 0.5532721281051636, 0.5629398226737976, 0.7531447410583496, 0.8087204098701477, 0.8614405989646912, 0.776269257068634, 0.7299246191978455, 0.5398527979850769, 0.6614745855331421, 0.9289867281913757, 0.840068519115448, 0.6850730180740356, 0.9371992945671082, 0.9317100644111633, 0.9687079787254333, 0.9531256556510925, 0.3495883047580719, 0.8934274315834045, 0.8393254280090332, 0.8869534730911255, 0.7823982834815979, 0.8176003098487854, 0.7861851453781128, 0.7649344205856323, 0.8166704177856445, 0.8326623439788818, 0.709229588508606, 0.6245765089988708, 0.8295623660087585, 0.811769425868988, 0.7428225874900818, 0.48367613554000854, 0.780655562877655, 0.8063513040542603, 0.9588260054588318, 0.9576267600059509, 0.9332000613212585, 0.885798990726471, 0.9348459839820862, 0.8701733946800232, 0.8755707740783691, 0.8431618213653564, 0.8272045850753784, 0.8552907109260559, 0.5171871781349182, 0.9079068303108215, 0.7252042889595032, 0.8423416614532471, 0.509429395198822, 0.837925374507904, 0.4907893240451813, 0.9039468765258789, 0.9280019402503967, 0.8843145966529846, 0.8754884600639343, 0.9637809991836548, 0.8624522686004639, 0.7943627238273621, 0.7765118479728699, 0.8291683793067932, 0.8800037503242493, 0.628864049911499, 0.6987800002098083, 0.6712558269500732, 0.865095317363739, 0.7342257499694824, 0.8302611708641052, 0.5850130915641785, 0.7889557480812073, 0.9047498106956482, 0.7808618545532227, 0.9870492219924927, 0.6991929411888123, 0.7440604567527771, 0.7052788734436035, 0.7047193646430969, 0.812813937664032, 0.8555304408073425, 0.6980322003364563, 0.8509186506271362, 0.8278104662895203, 0.7108926177024841, 0.5902643799781799, 0.8047623038291931, 0.895696222782135, 0.834019124507904, 0.8663224577903748, 0.8898535370826721, 0.9800083637237549, 0.9285503029823303, 0.8448321223258972, 0.8939787745475769, 0.9501875042915344, 0.7786009907722473, 0.6850888729095459, 0.533765435218811, 0.4840775430202484, 0.7762794494628906, 0.7738350629806519, 0.5738048553466797, 0.9262699484825134, 0.6045358777046204, 0.9905304908752441, 0.6914222836494446, 0.5914633274078369, 0.7188258171081543, 0.7057766318321228, 0.865475594997406, 0.724295437335968, 0.9206674695014954, 0.7537529468536377, 0.8166602849960327, 0.5499839186668396, 0.8841477036476135, 0.6393454670906067, 0.7790865302085876, 0.7549563050270081, 0.5072236657142639, 0.6572777628898621, 0.8169717192649841, 0.9500566124916077, 0.8379101157188416, 0.8798612356185913, 0.9088969826698303, 0.7639917731285095, 0.8540986180305481, 0.8604838252067566, 0.7444227337837219, 0.6746637225151062, 0.7468929886817932, 0.9399318099021912, 0.9402483105659485, 0.7173604965209961, 0.9541794061660767, 0.7877650856971741, 0.9349693655967712, 0.8576627373695374, 0.7461773753166199, 0.8199133276939392, 0.467883825302124, 0.862808883190155, 0.7432751059532166, 0.8834095597267151, 0.8427904844284058, 0.8620355129241943, 0.8904265761375427, 0.7925425171852112, 0.7951809763908386, 0.5758089423179626, 0.6947779059410095, 0.757098376750946, 0.9296059012413025, 0.8139471411705017, 0.36599794030189514, 0.8591073751449585, 0.7066300511360168, 0.6295336484909058, 0.8828331828117371, 0.5711097121238708, 0.8259801864624023, 0.6021834015846252, 0.9328542351722717, 0.6098071932792664, 0.8297157883644104, 0.5377885699272156, 0.6725779175758362, 0.7184860706329346, 0.6436886191368103, 0.6061621308326721, 0.8260933756828308, 0.7375432252883911, 0.7807421088218689, 0.9503352046012878, 0.7225825786590576, 0.6736230254173279, 0.888008177280426, 0.992755115032196, 0.7962261438369751, 0.9294818043708801, 0.7718451619148254, 0.7784446477890015, 0.846422016620636, 0.35496774315834045, 0.5904354453086853, 0.950980544090271, 0.5368712544441223, 0.8375046253204346, 0.8402109742164612, 0.7565953731536865, 0.8664456009864807, 0.642387330532074, 0.8613689541816711, 0.8167971968650818, 0.7044610977172852, 0.7063879370689392, 0.8059819340705872, 0.6965060830116272, 0.8057238459587097, 0.9777939915657043, 0.9864381551742554, 0.8762698173522949, 0.8099045753479004, 0.5787561535835266, 0.6586146950721741, 0.7349940538406372, 0.7063468098640442, 0.8735853433609009, 0.7922496199607849, 0.8975828886032104, 0.8330193161964417, 0.6451881527900696, 0.8789429068565369, 0.8450530767440796, 0.8853520750999451, 0.7135599851608276, 0.9428333640098572, 0.9201832413673401, 0.9712408185005188, 0.9435163140296936, 0.8780669569969177, 0.9518957138061523, 0.3591363728046417, 0.6773766279220581, 0.9892284870147705, 0.871722936630249, 0.46221789717674255, 0.8150517344474792, 0.7307464480400085, 0.7821902632713318, 0.9017525315284729, 0.5873019695281982, 0.7059242129325867, 0.6078880429267883, 0.7571610808372498, 0.8529157042503357, 0.9224228262901306, 0.7151340842247009, 0.8232519626617432, 0.6177185773849487, 0.8418777585029602, 0.5379165410995483, 0.7516620755195618, 0.7120000123977661, 0.8983049988746643, 0.6453878879547119, 0.7779096961021423, 0.9060750603675842, 0.6273952126502991, 0.9648730158805847, 0.7476680874824524, 0.6208611726760864, 0.5222532153129578, 0.5879246592521667, 0.48383209109306335, 0.8003695607185364, 0.8755723834037781, 0.9061475992202759, 0.6538589596748352, 0.8213724493980408, 0.9486547112464905, 0.6964742541313171, 0.8108851313591003, 0.9335677027702332, 0.7569704651832581, 0.8121867775917053, 0.505007803440094, 0.8437197804450989, 0.6500092148780823, 0.8678919672966003, 0.9296631217002869, 0.692415177822113, 0.8705214858055115, 0.8053026795387268, 0.7994838356971741, 0.8804379105567932, 0.9413928389549255, 0.8702285289764404, 0.9211997389793396, 0.4294786751270294, 0.9002455472946167, 0.6838722229003906, 0.9138566851615906, 0.7714229822158813, 0.7250739932060242, 0.33052965998649597, 0.6571637988090515, 0.9002519845962524, 0.8875893950462341, 0.5738431215286255, 0.5635868310928345, 0.6755569577217102, 0.8562421798706055, 0.8778756856918335, 0.62224942445755, 0.8797454833984375, 0.9531909227371216, 0.8772224187850952, 0.9471868276596069, 0.5046984553337097, 0.7657496333122253, 0.8931793570518494, 0.789681077003479, 0.6659113764762878, 0.8947057723999023, 0.9034417271614075, 0.48438671231269836, 0.7130675911903381, 0.8109145760536194, 0.8798796534538269, 0.9506216645240784, 0.97381991147995, 0.3586829602718353, 0.8415793776512146, 0.9674586057662964, 0.48305001854896545, 0.8759350180625916, 0.7168049216270447, 0.75852370262146, 0.7745425701141357, 0.7785394191741943, 0.9177880883216858, 0.8041820526123047, 0.8077656626701355, 0.8605085611343384, 0.803111732006073, 0.9825480580329895, 0.6716281771659851, 0.8823298215866089, 0.7623428702354431, 0.8507433533668518, 0.7721536755561829, 0.9884620904922485, 0.9090299010276794, 0.990311324596405, 0.5191156268119812, 0.9399527907371521, 0.8563356399536133, 0.5455688834190369, 0.4022037982940674, 0.3736547529697418, 0.7334737181663513, 0.9464396834373474, 0.8680991530418396, 0.7712772488594055, 0.9390745759010315, 0.9037025570869446, 0.6991696953773499, 0.873343288898468, 0.8071377277374268, 0.8003374934196472, 0.799908459186554, 0.9907873272895813, 0.7579673528671265, 0.656879723072052, 0.6958378553390503, 0.7866529822349548, 0.5676097273826599, 0.9113436341285706, 0.7872959971427917, 0.6288973689079285, 0.8780753016471863, 0.8445032238960266, 0.8909640908241272, 0.885658860206604, 0.5403369069099426, 0.7778614163398743, 0.6829891800880432, 0.7995591759681702, 0.8244002461433411, 0.8537792563438416, 0.6899711489677429, 0.8310213088989258, 0.8498479723930359, 0.7043972611427307, 0.4693552255630493, 0.6290746331214905, 0.7110422849655151, 0.4226855933666229, 0.6228877902030945, 0.7275073528289795, 0.5964793562889099, 0.814078152179718, 0.7105517387390137, 0.9729350209236145, 0.8893944621086121, 0.8713739514350891, 0.8445183634757996, 0.9189589023590088, 0.8568628430366516, 0.9313561320304871, 0.4423975646495819, 0.6462791562080383, 0.9886139631271362, 0.35755056142807007, 0.8919952511787415, 0.7493475675582886, 0.8119152188301086, 0.9220038056373596, 0.7186704277992249, 0.8439041376113892, 0.5609962344169617, 0.9582077860832214, 0.4847009479999542, 0.820080041885376, 0.9138041138648987, 0.7775304317474365, 0.8023068308830261, 0.972626268863678, 0.5294244885444641, 0.393791526556015, 0.8518796563148499, 0.7757321000099182, 0.8532738089561462, 0.706686794757843, 0.8696752190589905, 0.827097475528717, 0.7889423966407776, 0.8499829173088074, 0.9327182769775391, 0.7362729907035828, 0.6407791376113892, 0.5172722339630127, 0.8825540542602539, 0.8961185216903687, 0.730779230594635, 0.7708210945129395, 0.6994374990463257, 0.8586504459381104, 0.6162055730819702, 0.911200225353241, 0.9484471678733826, 0.8781834244728088, 0.5739740133285522, 0.8910642266273499, 0.7201574444770813, 0.9117303490638733, 0.6486775875091553, 0.6195493340492249, 0.7800071835517883, 0.5642096400260925, 0.7539228796958923, 0.8232043385505676, 0.6788453459739685, 0.8949576020240784, 0.8026595711708069, 0.5884618163108826, 0.6896983981132507, 0.678962230682373, 0.7102696299552917, 0.8110460638999939, 0.7546062469482422, 0.5885212421417236, 0.842739999294281, 0.6728242635726929, 0.9170990586280823, 0.8938183784484863, 0.8814423680305481, 0.7874746918678284, 0.9528864026069641, 0.7750677466392517, 0.7731640934944153, 0.5854126811027527, 0.6383780837059021, 0.9757170081138611, 0.807397186756134, 0.8736565709114075, 0.7714396119117737, 0.8622903227806091, 0.7824491858482361, 0.6126107573509216, 0.8968912959098816, 0.620312511920929, 0.6435630917549133, 0.6126043200492859, 0.7948036789894104, 0.7186303734779358, 0.7818029522895813, 0.9192774891853333, 0.7086139917373657, 0.9619871973991394, 0.8133153319358826, 0.7954590916633606, 0.8154212832450867, 0.8849489092826843, 0.8942744135856628, 0.38279399275779724, 0.80997633934021, 0.8051831126213074, 0.824524462223053, 0.45643219351768494, 0.8533442616462708, 0.8598743081092834, 0.9083346724510193, 0.8627753853797913, 0.8322780132293701, 0.8210458159446716, 0.6568707227706909, 0.6953354477882385, 0.70621258020401, 0.8652780652046204, 0.8787141442298889, 0.7169155478477478, 0.8792900443077087, 0.5010212659835815, 0.8879247903823853, 0.9808698296546936, 0.8931916356086731, 0.8252992033958435, 0.8989922404289246, 0.9202908873558044, 0.8218933939933777, 0.8810381293296814, 0.9118381142616272, 0.8970271348953247, 0.8871485590934753, 0.6841142773628235, 0.4752223789691925, 0.8688341975212097, 0.9633249640464783, 0.914760172367096, 0.7682661414146423, 0.7804904580116272, 0.6341611742973328, 0.928266704082489, 0.5621475577354431, 0.7528955340385437, 0.6773068904876709, 0.8332819938659668, 0.9405777454376221, 0.9897395968437195, 0.7272443175315857, 0.512909471988678, 0.9294410347938538, 0.755116879940033, 0.8298034071922302, 0.9375279545783997, 0.8768243193626404, 0.8709164261817932, 0.9571548104286194, 0.8227869868278503, 0.935350775718689, 0.7487546801567078, 0.6125721335411072, 0.765760600566864, 0.8413980603218079, 0.836469829082489, 0.6410819292068481, 0.9897647500038147, 0.5683696866035461, 0.6112886071205139, 0.6004191040992737, 0.8282143473625183, 0.8257423043251038, 0.7070388793945312, 0.6734188199043274, 0.883349597454071, 0.7768351435661316, 0.9127433896064758, 0.8922268748283386, 0.8226901888847351, 0.9870491623878479, 0.8144175410270691, 0.8807222843170166, 0.5561768412590027, 0.9265303611755371, 0.9056426882743835, 0.8644164204597473, 0.923470139503479, 0.9804997444152832, 0.9861100316047668, 0.990662157535553, 0.8383966684341431, 0.5892156958580017, 0.8830175995826721, 0.5822712779045105, 0.5682103633880615, 0.9175130724906921, 0.8686118721961975, 0.9827514290809631, 0.8862364888191223, 0.7818605303764343, 0.7830544710159302, 0.881084144115448, 0.8325280547142029, 0.8052853345870972, 0.880997896194458, 0.6453616619110107, 0.8521196246147156, 0.828030526638031, 0.823750913143158, 0.6166108250617981, 0.8670132756233215, 0.7214664816856384, 0.9898481965065002, 0.7174674868583679, 0.5837240219116211, 0.8636462092399597, 0.7766488194465637, 0.9023582935333252, 0.57414311170578, 0.9686834216117859, 0.9885213971138, 0.7372367978096008, 0.9311939477920532, 0.9838269352912903, 0.8710360527038574, 0.8867364525794983, 0.8060523867607117, 0.6764734387397766, 0.5095523595809937, 0.8773366808891296, 0.8191869258880615, 0.8248466849327087, 0.8102954626083374, 0.921996533870697, 0.7742046117782593, 0.9482883214950562, 0.9022418856620789, 0.8891648054122925, 0.9137029051780701, 0.5479844212532043, 0.9331755638122559, 0.9130800366401672, 0.8899214863777161, 0.19927680492401123, 0.7906041145324707, 0.864431619644165, 0.8214650750160217, 0.862638533115387, 0.9460874199867249, 0.9264199137687683, 0.7261050939559937, 0.855473518371582, 0.9201025366783142, 0.8863576650619507, 0.5454186201095581, 0.8960122466087341, 0.8218139410018921, 0.6309894323348999, 0.9118477702140808, 0.5545347332954407, 0.8507469296455383, 0.6857805848121643, 0.991245448589325, 0.6591507792472839, 0.9188036918640137, 0.7679616808891296, 0.9083827137947083, 0.8081151843070984, 0.7941417098045349, 0.9261284470558167, 0.9150665402412415, 0.7599013447761536, 0.8782479763031006, 0.8851346373558044, 0.7224129438400269, 0.8309891223907471, 0.7062240242958069, 0.7260069251060486, 0.9220317006111145, 0.9472407102584839, 0.49804821610450745, 0.8612366318702698, 0.9017850160598755, 0.930090606212616, 0.7139701247215271, 0.8244206309318542, 0.7477597594261169, 0.9145355820655823, 0.9855561852455139, 0.6960780024528503, 0.958223283290863, 0.9468595385551453, 0.7799909710884094, 0.6004900336265564, 0.9596313238143921, 0.6524285078048706, 0.8606589436531067, 0.8385077118873596, 0.694024384021759, 0.8941942453384399, 0.6736732721328735, 0.6718947291374207, 0.972626268863678, 0.7458167672157288, 0.45746544003486633, 0.7599439024925232, 0.5580081343650818, 0.7508186101913452, 0.8388323187828064, 0.5220497250556946, 0.8110114336013794, 0.9619342684745789, 0.8641952872276306, 0.7289919257164001, 0.8886092305183411, 0.9534249305725098, 0.8542868494987488, 0.6987352967262268, 0.6515470743179321, 0.7733234763145447, 0.8855020999908447, 0.7944968342781067, 0.6986084580421448, 0.7671777606010437, 0.6131120324134827, 0.8332958817481995, 0.7969730496406555, 0.9443543553352356, 0.8673720359802246, 0.7127301096916199, 0.9855359792709351, 0.6716316342353821, 0.8318446278572083, 0.9357693791389465, 0.9361389875411987, 0.6755538582801819, 0.9087123274803162, 0.9918031692504883, 0.8118594884872437, 0.8016852736473083, 0.8123303651809692, 0.8520078063011169, 0.7005465626716614, 0.7199261784553528, 0.7367123961448669, 0.6950394511222839, 0.9577352404594421, 0.587356448173523, 0.917208194732666, 0.9455879926681519, 0.8648097515106201, 0.7653371095657349, 0.5096306800842285, 0.8495755791664124, 0.7207145094871521, 0.8431687355041504, 0.6407648324966431, 0.832774817943573, 0.8720381855964661, 0.8256252408027649, 0.9120710492134094, 0.7412702441215515, 0.5212777256965637, 0.668114423751831, 0.8149061799049377, 0.7789629101753235, 0.6680237054824829, 0.8895134329795837, 0.8467382192611694, 0.8768330216407776, 0.7410889863967896, 0.8667590022087097, 0.8877814412117004, 0.786780059337616, 0.8304409384727478, 0.7276529669761658, 0.9045997262001038, 0.9425731301307678, 0.7945192456245422, 0.7336445450782776, 0.9207718372344971, 0.76419597864151, 0.662485659122467, 0.5944600701332092, 0.8205471634864807, 0.6700246930122375, 0.9323740005493164, 0.5852071046829224, 0.7330496311187744, 0.5664716362953186, 0.8659276366233826, 0.7233596444129944, 0.7658060193061829, 0.7315015196800232, 0.882856547832489, 0.9477301836013794, 0.8034210801124573, 0.3715461194515228, 0.7616750597953796, 0.7962021827697754, 0.765444815158844, 0.8548697233200073, 0.8020923733711243, 0.7071940898895264, 0.39257851243019104, 0.703737199306488, 0.4180867373943329, 0.8182870149612427, 0.8193138241767883, 0.8240471482276917, 0.5483905076980591, 0.47109711170196533, 0.7463483214378357, 0.8379516005516052, 0.899334192276001, 0.8550215363502502, 0.7991340756416321, 0.8640569448471069, 0.8978093266487122, 0.7414326071739197, 0.8529379963874817]}\n"
          ]
        }
      ]
    },
    {
      "cell_type": "code",
      "source": [
        "# Euclidean\n",
        "bleurt_evaluate(filtered_dataset[\"english\"], filtered_dataset[\"arabic\"], euclidean_model, euclidean_tokenizer, highest_length_euclidean)\n",
        "bert_score_evaluate(filtered_dataset[\"english\"], filtered_dataset[\"arabic\"], euclidean_model, euclidean_tokenizer, highest_length_euclidean)\n",
        "comet_evaluate(filtered_dataset[\"english\"], filtered_dataset[\"arabic\"], euclidean_model, euclidean_tokenizer, highest_length_euclidean)"
      ],
      "metadata": {
        "id": "assTLwCNkNMk",
        "outputId": "7f840372-3e7d-4c10-db7d-bb0e83575bf7",
        "colab": {
          "base_uri": "https://localhost:8080/"
        }
      },
      "execution_count": 42,
      "outputs": [
        {
          "output_type": "stream",
          "name": "stderr",
          "text": [
            "Generating predictions: 100%|██████████| 990/990 [51:25<00:00,  3.12s/it]\n"
          ]
        },
        {
          "output_type": "stream",
          "name": "stdout",
          "text": [
            "Average BLEURT Score: 0.28196061630968494\n"
          ]
        },
        {
          "output_type": "stream",
          "name": "stderr",
          "text": [
            "Generating predictions: 100%|██████████| 990/990 [51:03<00:00,  3.09s/it]\n",
            "Some weights of RobertaModel were not initialized from the model checkpoint at roberta-large and are newly initialized: ['roberta.pooler.dense.bias', 'roberta.pooler.dense.weight']\n",
            "You should probably TRAIN this model on a down-stream task to be able to use it for predictions and inference.\n"
          ]
        },
        {
          "output_type": "stream",
          "name": "stdout",
          "text": [
            "Precision: 0.7134965658187866, Recall: 0.7098037600517273, F1 Score: 0.7113438248634338\n"
          ]
        },
        {
          "output_type": "stream",
          "name": "stderr",
          "text": [
            "Generating predictions: 100%|██████████| 990/990 [51:08<00:00,  3.10s/it]\n",
            "INFO:pytorch_lightning.utilities.rank_zero:GPU available: False, used: False\n",
            "INFO:pytorch_lightning.utilities.rank_zero:TPU available: False, using: 0 TPU cores\n",
            "INFO:pytorch_lightning.utilities.rank_zero:IPU available: False, using: 0 IPUs\n",
            "INFO:pytorch_lightning.utilities.rank_zero:HPU available: False, using: 0 HPUs\n"
          ]
        },
        {
          "output_type": "stream",
          "name": "stdout",
          "text": [
            "{'mean_score': 0.8054176590659402, 'scores': [0.8792088627815247, 0.8405627012252808, 0.9863495826721191, 0.729185163974762, 0.6384323835372925, 0.9731025099754333, 0.6768702864646912, 0.837611973285675, 0.8775690793991089, 0.9660256505012512, 0.46732357144355774, 0.7195078134536743, 0.7749037146568298, 0.8336623311042786, 0.9395692944526672, 0.9047354459762573, 0.6200940608978271, 0.7799856066703796, 0.8266271948814392, 0.8884070515632629, 0.6851984858512878, 0.8433808088302612, 0.6948868632316589, 0.7851268649101257, 0.9577919840812683, 0.8666976094245911, 0.7843926548957825, 0.816422164440155, 0.637382984161377, 0.6376141905784607, 0.8560730814933777, 0.9677118062973022, 0.7269176244735718, 0.42317840456962585, 0.8551533222198486, 0.7359763979911804, 0.8269252181053162, 0.8194593787193298, 0.9544587731361389, 0.8147139549255371, 0.6717543005943298, 0.7881066203117371, 0.9797382354736328, 0.8340060114860535, 0.6139199137687683, 0.9033762812614441, 0.9469308257102966, 0.8115528225898743, 0.8359254002571106, 0.6544522047042847, 0.9901263117790222, 0.940071165561676, 0.7864989042282104, 0.9541767835617065, 0.6079785823822021, 0.9104158282279968, 0.8007022142410278, 0.8546777963638306, 0.8769736289978027, 0.7912237644195557, 0.873932421207428, 0.7384396195411682, 0.4606395661830902, 0.8967717885971069, 0.7978441119194031, 0.9184169769287109, 0.751457691192627, 0.7983198165893555, 0.8472671508789062, 0.9249495267868042, 0.7549360394477844, 0.709171712398529, 0.805469810962677, 0.8897725939750671, 0.9259620308876038, 0.962465226650238, 0.6166533827781677, 0.7902714610099792, 0.8727515935897827, 0.8421854376792908, 0.7857497334480286, 0.8883733153343201, 0.8457172513008118, 0.7115683555603027, 0.8205709457397461, 0.9244085550308228, 0.8590924739837646, 0.8769045472145081, 0.8636954426765442, 0.5612941980361938, 0.8353506922721863, 0.8840832710266113, 0.9040279388427734, 0.8886632323265076, 0.9133161902427673, 0.8120412230491638, 0.8733289837837219, 0.8937224745750427, 0.9138681292533875, 0.8560534715652466, 0.3712194263935089, 0.8839320540428162, 0.7420504093170166, 0.9169769883155823, 0.7359327673912048, 0.7590954303741455, 0.9122961759567261, 0.9870492219924927, 0.9546999335289001, 0.8873264193534851, 0.8855140805244446, 0.7514410018920898, 0.7060135006904602, 0.28908059000968933, 0.5796135067939758, 0.7124442458152771, 0.7457984089851379, 0.9449059367179871, 0.7391101717948914, 0.646341860294342, 0.8429639339447021, 0.6772889494895935, 0.8117912411689758, 0.847521960735321, 0.9319174885749817, 0.9257660508155823, 0.6288045644760132, 0.8146447539329529, 0.9151681661605835, 0.9925335645675659, 0.8979342579841614, 0.4299045503139496, 0.912658154964447, 0.8021966814994812, 0.7198503017425537, 0.7894722819328308, 0.9367170929908752, 0.8047060966491699, 0.8130782246589661, 0.6974231004714966, 0.739814817905426, 0.9132744669914246, 0.9911156296730042, 0.9141647219657898, 0.9196074604988098, 0.9679463505744934, 0.5168230533599854, 0.6938034296035767, 0.7294407486915588, 0.7188636660575867, 0.9090849757194519, 0.9505312442779541, 0.8506227135658264, 0.7395336627960205, 0.8981592059135437, 0.9094015955924988, 0.7850962281227112, 0.9367936253547668, 0.8671695590019226, 0.9897567629814148, 0.519757091999054, 0.854590117931366, 0.406136691570282, 0.847316563129425, 0.7805200219154358, 0.9189048409461975, 0.8548708558082581, 0.7148918509483337, 0.7139597535133362, 0.8631805181503296, 0.7949052453041077, 0.7773497104644775, 0.8545817136764526, 0.9191761612892151, 0.911084771156311, 0.6025901436805725, 0.8915789127349854, 0.9924573302268982, 0.9032993316650391, 0.7800782918930054, 0.8453993797302246, 0.8202329277992249, 0.8493958711624146, 0.991409957408905, 0.976134717464447, 0.5231733322143555, 0.8241839408874512, 0.8429651260375977, 0.5335701107978821, 0.5579648613929749, 0.5896459817886353, 0.8163875937461853, 0.8513618111610413, 0.7858891487121582, 0.8321073651313782, 0.6748562455177307, 0.7473412156105042, 0.9462615847587585, 0.8846832513809204, 0.6916953325271606, 0.9414859414100647, 0.8799822926521301, 0.9687079787254333, 0.9615326523780823, 0.38712233304977417, 0.7702346444129944, 0.8598462343215942, 0.9439014196395874, 0.8885316252708435, 0.8868172764778137, 0.8287652134895325, 0.9503424763679504, 0.7571867108345032, 0.8674144744873047, 0.7958555221557617, 0.9114533066749573, 0.8528937697410583, 0.794775664806366, 0.7952000498771667, 0.5278988480567932, 0.8452492356300354, 0.8038544654846191, 0.9588260054588318, 0.9637537002563477, 0.9589943289756775, 0.9072472453117371, 0.9670417904853821, 0.8808417320251465, 0.8755707740783691, 0.8913502097129822, 0.7929052710533142, 0.8200668096542358, 0.555148184299469, 0.8857386708259583, 0.7039881944656372, 0.7370834946632385, 0.4779098927974701, 0.8331393599510193, 0.4907893240451813, 0.9039469361305237, 0.875113308429718, 0.8689723014831543, 0.8662090301513672, 0.9637809991836548, 0.8118036389350891, 0.9156206250190735, 0.8530402779579163, 0.7184000611305237, 0.8817209601402283, 0.6960833072662354, 0.8473366498947144, 0.7545735239982605, 0.9198178648948669, 0.7342257499694824, 0.5874665379524231, 0.5850130915641785, 0.8262494206428528, 0.9132890701293945, 0.7581973075866699, 0.9870492219924927, 0.8333821892738342, 0.6464934349060059, 0.7312872409820557, 0.4644135534763336, 0.812813937664032, 0.8780403733253479, 0.7126428484916687, 0.8710900545120239, 0.8602544665336609, 0.8134768009185791, 0.5902643799781799, 0.7853229641914368, 0.862494707107544, 0.8515529632568359, 0.6278881430625916, 0.8907061219215393, 0.9800083637237549, 0.8859125971794128, 0.8416708707809448, 0.8082960247993469, 0.9501875042915344, 0.8491001725196838, 0.7274317145347595, 0.6535621285438538, 0.46609053015708923, 0.758160412311554, 0.8031511902809143, 0.9889126420021057, 0.9553267359733582, 0.8031846284866333, 0.9905304908752441, 0.835507333278656, 0.5914633274078369, 0.8025464415550232, 0.8016745448112488, 0.8254237771034241, 0.733731210231781, 0.907325804233551, 0.8336578011512756, 0.7808243036270142, 0.9802672266960144, 0.8931453824043274, 0.8083838820457458, 0.7922519445419312, 0.6174421310424805, 0.5804169774055481, 0.5874465107917786, 0.8169717192649841, 0.9441848397254944, 0.8397893309593201, 0.8418633341789246, 0.9088969826698303, 0.9099298119544983, 0.7005874514579773, 0.8229144215583801, 0.74847811460495, 0.7266287207603455, 0.6791164875030518, 0.9195764660835266, 0.9402483105659485, 0.7951779961585999, 0.9541794061660767, 0.907245934009552, 0.9421355724334717, 0.8493295311927795, 0.7600480318069458, 0.8452790379524231, 0.48181238770484924, 0.8809669613838196, 0.9845948815345764, 0.8284185528755188, 0.8294118642807007, 0.7005065083503723, 0.9242359399795532, 0.8893479704856873, 0.8029087781906128, 0.540538489818573, 0.8300590515136719, 0.7672075629234314, 0.9173462986946106, 0.826491117477417, 0.3990468978881836, 0.8554113507270813, 0.8359057903289795, 0.6203644871711731, 0.8913342952728271, 0.754017174243927, 0.9106966853141785, 0.5680037140846252, 0.9370543360710144, 0.7607426643371582, 0.8297157883644104, 0.6422896981239319, 0.7371653914451599, 0.7821056246757507, 0.7058019638061523, 0.624676525592804, 0.9373180866241455, 0.8438499569892883, 0.8901321291923523, 0.9938496947288513, 0.8145203590393066, 0.6733899116516113, 0.9112290740013123, 0.992755115032196, 0.7927725911140442, 0.929617702960968, 0.7453235983848572, 0.791584849357605, 0.9426520466804504, 0.35496774315834045, 0.7766414284706116, 0.950685441493988, 0.597655713558197, 0.7774754762649536, 0.8655943274497986, 0.8012064099311829, 0.8739225268363953, 0.6556051969528198, 0.9075403809547424, 0.8574573397636414, 0.7067270874977112, 0.7043852210044861, 0.8203063607215881, 0.8044765591621399, 0.8570773601531982, 0.9777939915657043, 0.9864381551742554, 0.8874062895774841, 0.8774574398994446, 0.6642066836357117, 0.6326016187667847, 0.7560009360313416, 0.8102506995201111, 0.9289962649345398, 0.8839609622955322, 0.8984324932098389, 0.8702505230903625, 0.6458414196968079, 0.8661051988601685, 0.793240487575531, 0.8139767050743103, 0.8426528573036194, 0.940645158290863, 0.9391397833824158, 0.9712408185005188, 0.949101448059082, 0.8337680697441101, 0.9518957138061523, 0.3591363728046417, 0.8989337086677551, 0.9892284274101257, 0.871722936630249, 0.6333703398704529, 0.7665497660636902, 0.8182756900787354, 0.8469354510307312, 0.8900722861289978, 0.6466236114501953, 0.7831454873085022, 0.5737934112548828, 0.7571610808372498, 0.9180439114570618, 0.8952717185020447, 0.711704671382904, 0.7154626846313477, 0.7526313066482544, 0.8843930959701538, 0.5788971185684204, 0.7870375514030457, 0.5917670130729675, 0.8983049988746643, 0.6720481514930725, 0.8029332756996155, 0.85697340965271, 0.6819908022880554, 0.9648730158805847, 0.7320088744163513, 0.5477551221847534, 0.5611096620559692, 0.4825500249862671, 0.483799546957016, 0.8539084196090698, 0.8811653852462769, 0.8971607089042664, 0.5002390742301941, 0.7885088324546814, 0.9486547112464905, 0.6672130227088928, 0.770129382610321, 0.9333022236824036, 0.6133096814155579, 0.8947320580482483, 0.6072226762771606, 0.8819573521614075, 0.736804187297821, 0.8678919672966003, 0.9139919877052307, 0.6900258660316467, 0.9160192608833313, 0.8159813284873962, 0.8997519612312317, 0.7562682032585144, 0.9581673741340637, 0.8298460841178894, 0.8757369518280029, 0.447374552488327, 0.8230674266815186, 0.6641295552253723, 0.9138566851615906, 0.8050876259803772, 0.7722715735435486, 0.34146648645401, 0.6926714777946472, 0.8903972506523132, 0.8875893950462341, 0.7416201233863831, 0.8863105177879333, 0.863260805606842, 0.8921160697937012, 0.9100045561790466, 0.6722714900970459, 0.8797454833984375, 0.9623622298240662, 0.8772974610328674, 0.8995197415351868, 0.5015638470649719, 0.6559710502624512, 0.8937563300132751, 0.8002229332923889, 0.7901788353919983, 0.8867150545120239, 0.8790676593780518, 0.5902126431465149, 0.7318998575210571, 0.8487676382064819, 0.8917225003242493, 0.9723673462867737, 0.97381991147995, 0.4347533583641052, 0.8292638659477234, 0.9687020778656006, 0.5326316952705383, 0.8762140870094299, 0.71418696641922, 0.7429559826850891, 0.8403220772743225, 0.7800946831703186, 0.9328406453132629, 0.8308431506156921, 0.8339307904243469, 0.8608522415161133, 0.888672411441803, 0.7948293089866638, 0.7364660501480103, 0.8854756951332092, 0.7616036534309387, 0.8683188557624817, 0.702233076095581, 0.9884620904922485, 0.9323990941047668, 0.990311324596405, 0.45450088381767273, 0.9319491386413574, 0.9142758846282959, 0.5000815987586975, 0.3797490894794464, 0.4729222357273102, 0.7255780100822449, 0.9460800886154175, 0.8261146545410156, 0.7712773084640503, 0.9259524941444397, 0.8963339924812317, 0.8298705816268921, 0.8824563026428223, 0.8559296727180481, 0.7819917798042297, 0.9638018012046814, 0.9907873272895813, 0.907780110836029, 0.7126505374908447, 0.6901381611824036, 0.7866529822349548, 0.7159905433654785, 0.90180504322052, 0.9253552556037903, 0.5381289124488831, 0.7571141123771667, 0.831744372844696, 0.9062125086784363, 0.8572495579719543, 0.7272800207138062, 0.7674879431724548, 0.6309587359428406, 0.9161730408668518, 0.854780912399292, 0.9014615416526794, 0.691260039806366, 0.8302314877510071, 0.8000670671463013, 0.872688353061676, 0.6316817402839661, 0.6290746331214905, 0.725158154964447, 0.41049841046333313, 0.6737858057022095, 0.6298272013664246, 0.7815455198287964, 0.8517438769340515, 0.8331732153892517, 0.972934901714325, 0.9252105355262756, 0.9326547980308533, 0.8756665587425232, 0.9848257899284363, 0.8378385305404663, 0.8651620745658875, 0.5768096446990967, 0.6477299928665161, 0.9886139631271362, 0.5540252327919006, 0.9209006428718567, 0.719853401184082, 0.8213959336280823, 0.9304681420326233, 0.7762864828109741, 0.7773170471191406, 0.6740902066230774, 0.8912916779518127, 0.7477408051490784, 0.8336321115493774, 0.9138041138648987, 0.5930806994438171, 0.7256843447685242, 0.9548551440238953, 0.5683983564376831, 0.45305004715919495, 0.8562517762184143, 0.8272591233253479, 0.9298987984657288, 0.628177285194397, 0.8640924692153931, 0.8574029207229614, 0.8469921946525574, 0.8266028761863708, 0.8193721175193787, 0.8083288669586182, 0.866513192653656, 0.5914933085441589, 0.8371172547340393, 0.9098449945449829, 0.8190041780471802, 0.8551289439201355, 0.7222468256950378, 0.8371147513389587, 0.5994354486465454, 0.9102129340171814, 0.9484471678733826, 0.9580543041229248, 0.7055716514587402, 0.9140908122062683, 0.7855400443077087, 0.8902156352996826, 0.6171477437019348, 0.710340678691864, 0.6493507623672485, 0.7278367877006531, 0.8842332363128662, 0.9337435960769653, 0.6715380549430847, 0.8854431509971619, 0.8856262564659119, 0.5458882451057434, 0.7748674750328064, 0.7634456753730774, 0.6605623364448547, 0.8382465839385986, 0.8587962985038757, 0.628632128238678, 0.8931787610054016, 0.6382346749305725, 0.9353286623954773, 0.8916147351264954, 0.8814423680305481, 0.7691195607185364, 0.9494913220405579, 0.8472197651863098, 0.818987250328064, 0.660310685634613, 0.6802676916122437, 0.9761025905609131, 0.8935818076133728, 0.909151017665863, 0.7463911175727844, 0.9113211631774902, 0.7928890585899353, 0.6428741216659546, 0.8762450814247131, 0.6872588992118835, 0.6435630917549133, 0.6881665587425232, 0.8089503645896912, 0.8524632453918457, 0.8743165135383606, 0.9192774891853333, 0.7254080176353455, 0.9862509965896606, 0.8110081553459167, 0.9020841717720032, 0.9264391660690308, 0.8849489092826843, 0.9073531031608582, 0.40202343463897705, 0.8167157173156738, 0.7820215225219727, 0.7747462391853333, 0.5345954298973083, 0.8624541163444519, 0.8814687728881836, 0.9083346724510193, 0.826953113079071, 0.9028722643852234, 0.8983418345451355, 0.6568707227706909, 0.808899462223053, 0.794779896736145, 0.8170785307884216, 0.8120213150978088, 0.7352690100669861, 0.8721813559532166, 0.6262839436531067, 0.7095901370048523, 0.9808698296546936, 0.8873259425163269, 0.7161406874656677, 0.8858867287635803, 0.9202908873558044, 0.6522301435470581, 0.8810381293296814, 0.8850149512290955, 0.8712853789329529, 0.8931359052658081, 0.8472859263420105, 0.5458013415336609, 0.8452353477478027, 0.9553184509277344, 0.914760172367096, 0.8544984459877014, 0.8093286752700806, 0.8295040726661682, 0.9343265891075134, 0.543527364730835, 0.7528955340385437, 0.7705666422843933, 0.8598048090934753, 0.9903438687324524, 0.9897395968437195, 0.7071364521980286, 0.5732313990592957, 0.9276630282402039, 0.7889261841773987, 0.5970436930656433, 0.9375279545783997, 0.8805699348449707, 0.8982987999916077, 0.9918968081474304, 0.934695839881897, 0.9278773665428162, 0.767926812171936, 0.9718038439750671, 0.7897919416427612, 0.8738967776298523, 0.813342273235321, 0.7993162274360657, 0.9897647500038147, 0.5905907154083252, 0.6600090861320496, 0.7031452655792236, 0.8902405500411987, 0.8358873128890991, 0.8498333692550659, 0.7537288069725037, 0.8851892948150635, 0.8305180072784424, 0.9148433208465576, 0.9121832251548767, 0.8838645815849304, 0.9870491623878479, 0.8268371224403381, 0.889592170715332, 0.8034088015556335, 0.677111029624939, 0.9004272818565369, 0.8744879364967346, 0.9057850241661072, 0.9804997444152832, 0.9861100316047668, 0.990662157535553, 0.8623588681221008, 0.48430392146110535, 0.8368949890136719, 0.6900858283042908, 0.6484470963478088, 0.93426913022995, 0.8343830704689026, 0.9827514290809631, 0.8901124000549316, 0.7920148968696594, 0.7569257616996765, 0.8932588696479797, 0.7843813896179199, 0.839703381061554, 0.880997896194458, 0.7127212285995483, 0.8846287727355957, 0.8211941719055176, 0.8237510323524475, 0.5045707821846008, 0.9365631341934204, 0.7186111807823181, 0.9898481965065002, 0.7188829779624939, 0.8082053661346436, 0.8416493535041809, 0.7473320960998535, 0.9096673130989075, 0.6635342240333557, 0.9686834812164307, 0.9885213971138, 0.7531382441520691, 0.9311939477920532, 0.9838269352912903, 0.8664007782936096, 0.9115349054336548, 0.8964846730232239, 0.7005763649940491, 0.523995578289032, 0.8905044794082642, 0.7313842177391052, 0.8984406590461731, 0.8455749154090881, 0.9287527203559875, 0.8117450475692749, 0.9638064503669739, 0.916149914264679, 0.9023379683494568, 0.8968794941902161, 0.7255503535270691, 0.9331755042076111, 0.940464198589325, 0.8940144181251526, 0.19306400418281555, 0.8783991932868958, 0.8912222981452942, 0.8968268036842346, 0.7582201957702637, 0.9409583210945129, 0.9412409663200378, 0.6831315755844116, 0.9361985325813293, 0.9201025366783142, 0.9304059743881226, 0.7274773716926575, 0.8738776445388794, 0.8218139410018921, 0.7457502484321594, 0.8389695286750793, 0.6321309804916382, 0.8215093016624451, 0.8485240340232849, 0.991245448589325, 0.5823660492897034, 0.9325106143951416, 0.8482558727264404, 0.912003219127655, 0.8153760433197021, 0.8018088340759277, 0.937221109867096, 0.9047020673751831, 0.8127583861351013, 0.8774610161781311, 0.9170300364494324, 0.6763006448745728, 0.835662305355072, 0.5750452876091003, 0.7055274844169617, 0.917342483997345, 0.9471925497055054, 0.6402910947799683, 0.698157787322998, 0.8898634314537048, 0.930090606212616, 0.8169608116149902, 0.8244206309318542, 0.8465419411659241, 0.8949404358863831, 0.9855561852455139, 0.6409838795661926, 0.958223283290863, 0.9447274804115295, 0.7723720669746399, 0.5539258718490601, 0.9520527720451355, 0.6257946491241455, 0.8121871948242188, 0.6877186298370361, 0.69877690076828, 0.8702117800712585, 0.6356504559516907, 0.7848125100135803, 0.9548551440238953, 0.7567388415336609, 0.7565904259681702, 0.8470523953437805, 0.7055423855781555, 0.8597918152809143, 0.7690720558166504, 0.4100804924964905, 0.8143801093101501, 0.9653193354606628, 0.8266304135322571, 0.5262336134910583, 0.9262897968292236, 0.9467630982398987, 0.8385869860649109, 0.8311029672622681, 0.7039604783058167, 0.7442666888237, 0.9294403195381165, 0.7940805554389954, 0.7775413393974304, 0.8439574837684631, 0.48446497321128845, 0.8270061016082764, 0.8588122725486755, 0.8836272954940796, 0.8673720359802246, 0.7067816853523254, 0.9855359792709351, 0.7992005944252014, 0.7653104662895203, 0.9357693791389465, 0.9508013725280762, 0.8057522177696228, 0.9087123274803162, 0.9842036962509155, 0.9273050427436829, 0.797420084476471, 0.8145642280578613, 0.8473429083824158, 0.7254322171211243, 0.8722571730613708, 0.7769858241081238, 0.710586428642273, 0.9694617390632629, 0.6047190427780151, 0.9153202176094055, 0.9455879926681519, 0.8466690182685852, 0.8199523091316223, 0.4223195016384125, 0.830167829990387, 0.8269574046134949, 0.9029266238212585, 0.42649397253990173, 0.832774817943573, 0.8458830118179321, 0.8397112488746643, 0.9194499850273132, 0.7457995414733887, 0.6128153800964355, 0.6586501598358154, 0.8458430171012878, 0.7789629101753235, 0.8359001874923706, 0.8782913684844971, 0.8467382192611694, 0.7752986550331116, 0.9209796786308289, 0.8608649373054504, 0.9046636819839478, 0.8289669156074524, 0.8304409384727478, 0.735647976398468, 0.8982821106910706, 0.9425731301307678, 0.670991837978363, 0.6944335103034973, 0.9342811703681946, 0.6519448757171631, 0.8891133666038513, 0.6941925883293152, 0.8229077458381653, 0.7050780057907104, 0.9299227595329285, 0.808565080165863, 0.6649781465530396, 0.6889637112617493, 0.863953173160553, 0.818015992641449, 0.8543243408203125, 0.7437143921852112, 0.8369953036308289, 0.9712924361228943, 0.8018794655799866, 0.482897013425827, 0.8603248000144958, 0.7995178699493408, 0.779459536075592, 0.8380305171012878, 0.7767563462257385, 0.7028505206108093, 0.437075674533844, 0.7058125138282776, 0.5510353446006775, 0.7875491976737976, 0.8804312348365784, 0.822149932384491, 0.6113259196281433, 0.5336703658103943, 0.8461897969245911, 0.9140034317970276, 0.8321256041526794, 0.819804847240448, 0.8572989106178284, 0.8577951788902283, 0.8978093266487122, 0.8406152129173279, 0.8809664249420166]}\n"
          ]
        }
      ]
    },
    {
      "cell_type": "code",
      "source": [
        "# Translated Cosine\n",
        "bleurt_evaluate(filtered_dataset[\"english\"], filtered_dataset[\"arabic\"], translate_cosine_model, translate_cosine_tokenizer, highest_length_translate_cosine)\n",
        "bert_score_evaluate(filtered_dataset[\"english\"], filtered_dataset[\"arabic\"], translate_cosine_model, translate_cosine_tokenizer, highest_length_translate_cosine)\n",
        "comet_evaluate(filtered_dataset[\"english\"], filtered_dataset[\"arabic\"], translate_cosine_model, translate_cosine_tokenizer, highest_length_translate_cosine)"
      ],
      "metadata": {
        "id": "k2xBSMhIKAEX",
        "outputId": "49c65508-c78e-4531-db1d-f7c5f1ca7696",
        "colab": {
          "base_uri": "https://localhost:8080/"
        }
      },
      "execution_count": 43,
      "outputs": [
        {
          "output_type": "stream",
          "name": "stderr",
          "text": [
            "Generating predictions: 100%|██████████| 990/990 [47:49<00:00,  2.90s/it]\n"
          ]
        },
        {
          "output_type": "stream",
          "name": "stdout",
          "text": [
            "Average BLEURT Score: 0.2874516498523228\n"
          ]
        },
        {
          "output_type": "stream",
          "name": "stderr",
          "text": [
            "Generating predictions: 100%|██████████| 990/990 [48:04<00:00,  2.91s/it]\n",
            "Some weights of RobertaModel were not initialized from the model checkpoint at roberta-large and are newly initialized: ['roberta.pooler.dense.bias', 'roberta.pooler.dense.weight']\n",
            "You should probably TRAIN this model on a down-stream task to be able to use it for predictions and inference.\n"
          ]
        },
        {
          "output_type": "stream",
          "name": "stdout",
          "text": [
            "Precision: 0.7147113680839539, Recall: 0.7157450914382935, F1 Score: 0.7149397134780884\n"
          ]
        },
        {
          "output_type": "stream",
          "name": "stderr",
          "text": [
            "Generating predictions: 100%|██████████| 990/990 [47:01<00:00,  2.85s/it]\n",
            "INFO:pytorch_lightning.utilities.rank_zero:GPU available: False, used: False\n",
            "INFO:pytorch_lightning.utilities.rank_zero:TPU available: False, using: 0 TPU cores\n",
            "INFO:pytorch_lightning.utilities.rank_zero:IPU available: False, using: 0 IPUs\n",
            "INFO:pytorch_lightning.utilities.rank_zero:HPU available: False, using: 0 HPUs\n"
          ]
        },
        {
          "output_type": "stream",
          "name": "stdout",
          "text": [
            "{'mean_score': 0.818411573255905, 'scores': [0.8880829215049744, 0.7818105220794678, 0.9863495826721191, 0.8460065722465515, 0.6645530462265015, 0.9731025099754333, 0.6548100113868713, 0.8172083497047424, 0.817066490650177, 0.9663700461387634, 0.48269224166870117, 0.7493303418159485, 0.7749037146568298, 0.8244567513465881, 0.9395692944526672, 0.911053478717804, 0.7537718415260315, 0.9387820959091187, 0.7826411724090576, 0.8921614289283752, 0.7609955668449402, 0.8640007376670837, 0.7759323716163635, 0.9101871252059937, 0.9577919840812683, 0.8639983534812927, 0.9027069211006165, 0.8163407444953918, 0.8715516924858093, 0.6376141309738159, 0.8698890805244446, 0.9677118062973022, 0.6654006242752075, 0.42317840456962585, 0.7938796877861023, 0.8259394764900208, 0.8340010046958923, 0.778099536895752, 0.945871889591217, 0.8458545804023743, 0.682015597820282, 0.7771055102348328, 0.9797382354736328, 0.8522526025772095, 0.6139199137687683, 0.8848446011543274, 0.9512689709663391, 0.8135780692100525, 0.8359254002571106, 0.9024457335472107, 0.9901263117790222, 0.92973393201828, 0.7819435000419617, 0.9843081831932068, 0.6764317750930786, 0.9104158282279968, 0.751476526260376, 0.8766180276870728, 0.886740505695343, 0.8249768614768982, 0.8991052508354187, 0.8443605303764343, 0.592424213886261, 0.9080878496170044, 0.8009267449378967, 0.9788852334022522, 0.790363609790802, 0.8472121953964233, 0.8211328387260437, 0.9117447137832642, 0.8443669676780701, 0.6657094359397888, 0.8373196721076965, 0.8665849566459656, 0.9257036447525024, 0.9624651670455933, 0.798035204410553, 0.8179406523704529, 0.8208947777748108, 0.8193572163581848, 0.7591596841812134, 0.8589961528778076, 0.8457172513008118, 0.8478550314903259, 0.6788936257362366, 0.9506364464759827, 0.7695918083190918, 0.7927640080451965, 0.876796305179596, 0.6586772799491882, 0.8817729353904724, 0.8384866118431091, 0.894841194152832, 0.8886632323265076, 0.9077097773551941, 0.8120412230491638, 0.8005452156066895, 0.912095844745636, 0.9259433746337891, 0.8723368048667908, 0.46468815207481384, 0.8214125037193298, 0.7337638139724731, 0.9169769883155823, 0.6418314576148987, 0.8116530776023865, 0.9183353781700134, 0.9870492219924927, 0.9546999335289001, 0.8901588320732117, 0.8913626074790955, 0.9195070862770081, 0.7807568907737732, 0.33903661370277405, 0.622648298740387, 0.7033291459083557, 0.7980697751045227, 0.9258488416671753, 0.7385382652282715, 0.646341860294342, 0.8792961239814758, 0.5940467119216919, 0.8279523253440857, 0.8119072318077087, 0.9900211691856384, 0.8958637118339539, 0.6288045644760132, 0.7015097737312317, 0.913558840751648, 0.9925335645675659, 0.9425815939903259, 0.45249488949775696, 0.912658154964447, 0.8308335542678833, 0.7408975958824158, 0.7653623223304749, 0.9367170929908752, 0.9313604831695557, 0.8121767640113831, 0.5928799510002136, 0.635576069355011, 0.9136491417884827, 0.8979209065437317, 0.8902608752250671, 0.9451014399528503, 0.9679463505744934, 0.5139781832695007, 0.7524442076683044, 0.7564260363578796, 0.7613525986671448, 0.937844455242157, 0.9279564023017883, 0.8538296818733215, 0.806866466999054, 0.9234960675239563, 0.890182375907898, 0.8076669573783875, 0.9365366697311401, 0.787361204624176, 0.9897567629814148, 0.4997294843196869, 0.8349747657775879, 0.41260814666748047, 0.8598812222480774, 0.8187574148178101, 0.9189048409461975, 0.8750854134559631, 0.7759921550750732, 0.8112894296646118, 0.8933452367782593, 0.7759904265403748, 0.7763180136680603, 0.8954532742500305, 0.9191762208938599, 0.8846122622489929, 0.8894432783126831, 0.8612638115882874, 0.9924573302268982, 0.9063683152198792, 0.8442712426185608, 0.8932989239692688, 0.8610262274742126, 0.8116984367370605, 0.991409957408905, 0.9682675004005432, 0.5856519937515259, 0.8526864051818848, 0.823294460773468, 0.5799649357795715, 0.5954960584640503, 0.8169655799865723, 0.8873775601387024, 0.8245729207992554, 0.8339858651161194, 0.749258816242218, 0.7480247616767883, 0.7895482182502747, 0.9449613690376282, 0.8543924689292908, 0.6996566653251648, 0.9423975944519043, 0.9086529612541199, 0.9687079787254333, 0.9544634222984314, 0.3559721112251282, 0.9330200552940369, 0.8216977715492249, 0.9013193249702454, 0.8700070977210999, 0.902367889881134, 0.8293477296829224, 0.9531010389328003, 0.703390896320343, 0.8550786375999451, 0.8187344670295715, 0.9114533066749573, 0.8510740399360657, 0.8570290207862854, 0.802845299243927, 0.515454888343811, 0.8469077944755554, 0.8538042306900024, 0.9588260054588318, 0.9576267600059509, 0.9589943289756775, 0.8938460946083069, 0.9207851886749268, 0.8705319166183472, 0.891505777835846, 0.8562189936637878, 0.7658177614212036, 0.8923360109329224, 0.5141586661338806, 0.9031636118888855, 0.7524328827857971, 0.7041372656822205, 0.4758467972278595, 0.8783032894134521, 0.4907893240451813, 0.9073633551597595, 0.9398788809776306, 0.8474236130714417, 0.8935863375663757, 0.9637809991836548, 0.8576350808143616, 0.8804647326469421, 0.8426012396812439, 0.8199676871299744, 0.8840516209602356, 0.7851120829582214, 0.8222284913063049, 0.6536926627159119, 0.9336442351341248, 0.7342257499694824, 0.6741130948066711, 0.5850130915641785, 0.8379963040351868, 0.9299490451812744, 0.7955520749092102, 0.9870492219924927, 0.8095932602882385, 0.7889701724052429, 0.7767243981361389, 0.6126269698143005, 0.812813937664032, 0.8434721827507019, 0.7111908793449402, 0.882080614566803, 0.8830987811088562, 0.852552592754364, 0.6790935397148132, 0.6571768522262573, 0.8958067297935486, 0.8971778154373169, 0.6557782292366028, 0.8413273692131042, 0.9504823088645935, 0.9396066069602966, 0.8581020832061768, 0.8834537863731384, 0.9501875042915344, 0.8261122107505798, 0.7471237778663635, 0.6517670750617981, 0.4840775430202484, 0.8694984316825867, 0.7296571135520935, 0.9889126420021057, 0.9497597217559814, 0.8531851172447205, 0.9905304908752441, 0.766427755355835, 0.5786994099617004, 0.8320465683937073, 0.8060960173606873, 0.8658112287521362, 0.7677904963493347, 0.8965222239494324, 0.8316985964775085, 0.8641820549964905, 0.9802672266960144, 0.8851853013038635, 0.8786320090293884, 0.7978193163871765, 0.7333084940910339, 0.4534534513950348, 0.5718446373939514, 0.9462762475013733, 0.9500566124916077, 0.8533467650413513, 0.85214763879776, 0.9637212753295898, 0.9076010584831238, 0.8668665289878845, 0.8107802867889404, 0.7972303032875061, 0.7891957759857178, 0.8233795762062073, 0.9340100884437561, 0.9402483105659485, 0.8024202585220337, 0.9442340731620789, 0.9040050506591797, 0.8911276459693909, 0.8800304532051086, 0.7457044720649719, 0.8385506272315979, 0.42022374272346497, 0.8781687617301941, 0.9845948815345764, 0.8727430105209351, 0.8208228945732117, 0.8167481422424316, 0.9332609176635742, 0.8658886551856995, 0.8355448842048645, 0.6326904892921448, 0.8131741881370544, 0.7877835035324097, 0.9275710582733154, 0.8231759667396545, 0.41561493277549744, 0.8521154522895813, 0.7871899008750916, 0.7742536664009094, 0.8902683854103088, 0.8734716773033142, 0.890171468257904, 0.6136086583137512, 0.9129661917686462, 0.6375935673713684, 0.8361899256706238, 0.741098940372467, 0.7503451704978943, 0.7747876048088074, 0.6501893401145935, 0.6253892779350281, 0.922461211681366, 0.8097229599952698, 0.9084499478340149, 0.9938496947288513, 0.9008788466453552, 0.8303351998329163, 0.908099353313446, 0.992755115032196, 0.852566659450531, 0.9295747876167297, 0.8602780699729919, 0.7880268692970276, 0.9426520466804504, 0.35496774315834045, 0.7929869294166565, 0.9234434366226196, 0.5405921936035156, 0.7041935920715332, 0.855089008808136, 0.7139403223991394, 0.8924935460090637, 0.8482474684715271, 0.9025358557701111, 0.8548354506492615, 0.7608633637428284, 0.8418524265289307, 0.8557103872299194, 0.8548683524131775, 0.8901256918907166, 0.9777939915657043, 0.9864381551742554, 0.9104845523834229, 0.916475236415863, 0.6473883986473083, 0.8001388311386108, 0.8334539532661438, 0.9253474473953247, 0.9289962649345398, 0.8848199844360352, 0.9075841903686523, 0.8624845147132874, 0.5645056366920471, 0.8197183012962341, 0.8251668214797974, 0.850817859172821, 0.9143335223197937, 0.9019855856895447, 0.9375318884849548, 0.9738335013389587, 0.9422664046287537, 0.8428433537483215, 0.9518957138061523, 0.3591363728046417, 0.9408797025680542, 0.9892284870147705, 0.8250733017921448, 0.5366756319999695, 0.7478572726249695, 0.8641737699508667, 0.7845837473869324, 0.9170224070549011, 0.7426461577415466, 0.8990305066108704, 0.7263010144233704, 0.7571610808372498, 0.8889591097831726, 0.9102519154548645, 0.7968251705169678, 0.8247336745262146, 0.7389533519744873, 0.9249506592750549, 0.598750650882721, 0.7553732991218567, 0.6817016005516052, 0.9572251439094543, 0.7125705480575562, 0.7986088395118713, 0.8472669720649719, 0.6409243941307068, 0.9334533214569092, 0.8079498410224915, 0.6411982178688049, 0.6574938893318176, 0.6005584001541138, 0.48360520601272583, 0.8142474889755249, 0.8843042254447937, 0.9171692728996277, 0.5197737812995911, 0.8014052510261536, 0.9486547112464905, 0.752644419670105, 0.8363000750541687, 0.9327645897865295, 0.7199947834014893, 0.8929021954536438, 0.7308021187782288, 0.878592312335968, 0.5946220755577087, 0.971712052822113, 0.9145925641059875, 0.6405863165855408, 0.9127751588821411, 0.8798189759254456, 0.911905825138092, 0.8858001232147217, 0.9607245326042175, 0.8971267938613892, 0.9516333341598511, 0.4805496633052826, 0.8915372490882874, 0.6641295552253723, 0.9138566851615906, 0.8128832578659058, 0.6329463720321655, 0.3348412811756134, 0.7778896689414978, 0.9085890650749207, 0.8875893950462341, 0.7279052138328552, 0.8863105177879333, 0.9906668066978455, 0.8706977963447571, 0.8778756856918335, 0.8020802736282349, 0.8797454833984375, 0.9531908631324768, 0.8876374363899231, 0.9471868276596069, 0.5709477066993713, 0.7580865025520325, 0.9070890545845032, 0.8809121251106262, 0.7249452471733093, 0.8807860016822815, 0.9105221033096313, 0.5162648558616638, 0.8186370730400085, 0.8666859269142151, 0.8497803807258606, 0.9614062309265137, 0.97381991147995, 0.43946579098701477, 0.8679529428482056, 0.9739563465118408, 0.5452019572257996, 0.7307339310646057, 0.7168049216270447, 0.6659151911735535, 0.8425008058547974, 0.7330023646354675, 0.9166714549064636, 0.8691735863685608, 0.8885337710380554, 0.8602483868598938, 0.8907546997070312, 0.7948293089866638, 0.7508683800697327, 0.8652913570404053, 0.7031891942024231, 0.8672404885292053, 0.8380210399627686, 0.9884620904922485, 0.8354191184043884, 0.990311324596405, 0.532381534576416, 0.9564424157142639, 0.892665445804596, 0.5639379620552063, 0.6598141193389893, 0.4335591197013855, 0.7806594967842102, 0.9458543062210083, 0.8575009703636169, 0.8684130907058716, 0.9222803115844727, 0.8999619483947754, 0.8262849450111389, 0.8639364242553711, 0.8153768181800842, 0.8348289728164673, 0.9286206364631653, 0.9907873272895813, 0.9711317420005798, 0.7754553556442261, 0.6210646033287048, 0.7866529822349548, 0.8456701636314392, 0.8659769892692566, 0.9244404435157776, 0.6093273162841797, 0.886005699634552, 0.8607129454612732, 0.9292462468147278, 0.8589736819267273, 0.7659630179405212, 0.8705621361732483, 0.6172041296958923, 0.933282732963562, 0.85261470079422, 0.8727227449417114, 0.8306991457939148, 0.8336220383644104, 0.8173814415931702, 0.8047687411308289, 0.5674409866333008, 0.6290746331214905, 0.7308308482170105, 0.5514386296272278, 0.5746575593948364, 0.7312321066856384, 0.8663591742515564, 0.8790162205696106, 0.8063123822212219, 0.9729350209236145, 0.9013684391975403, 0.924462616443634, 0.7438378930091858, 0.9544186592102051, 0.8745213150978088, 0.8901793360710144, 0.5156189799308777, 0.698611855506897, 0.9377360939979553, 0.6011239886283875, 0.8978353142738342, 0.7396169304847717, 0.6392446160316467, 0.9370455145835876, 0.7604271173477173, 0.8874923586845398, 0.622901439666748, 0.9317911267280579, 0.5688974261283875, 0.8261946439743042, 0.9138041138648987, 0.7337391972541809, 0.8360075354576111, 0.9604744911193848, 0.5805358290672302, 0.3837445080280304, 0.8514264225959778, 0.872443675994873, 0.9481393694877625, 0.6152681708335876, 0.8854942917823792, 0.8174176216125488, 0.8767797350883484, 0.8595052361488342, 0.9290778040885925, 0.7858371138572693, 0.9268405437469482, 0.6680817008018494, 0.8977121114730835, 0.9088369011878967, 0.8658161163330078, 0.9216628670692444, 0.8258944749832153, 0.7846853137016296, 0.5994354486465454, 0.906705915927887, 0.9484471678733826, 0.9575110673904419, 0.6634841561317444, 0.8859843611717224, 0.8430408239364624, 0.8941090703010559, 0.627014696598053, 0.7017219662666321, 0.814134418964386, 0.7292042970657349, 0.8906797766685486, 0.8249586820602417, 0.7845939993858337, 0.8678472638130188, 0.8900108337402344, 0.5682948231697083, 0.7622569799423218, 0.7836804986000061, 0.5856652855873108, 0.8201617002487183, 0.7730897068977356, 0.5101614594459534, 0.9142135381698608, 0.709568440914154, 0.8786265850067139, 0.8916147351264954, 0.8918315172195435, 0.6341356635093689, 0.9440348744392395, 0.7996641397476196, 0.8207245469093323, 0.8469340801239014, 0.6941611170768738, 0.9637570381164551, 0.883773148059845, 0.8925200700759888, 0.7459250092506409, 0.9307929873466492, 0.711253821849823, 0.6168164610862732, 0.8978583216667175, 0.7135267853736877, 0.6435630917549133, 0.7383989691734314, 0.7868519425392151, 0.849858820438385, 0.9051716327667236, 0.9192774891853333, 0.7590656876564026, 0.9862509965896606, 0.7803997993469238, 0.9064710736274719, 0.8515360951423645, 0.8849489092826843, 0.8842440247535706, 0.38122814893722534, 0.9095283150672913, 0.8266077637672424, 0.9244009852409363, 0.45402035117149353, 0.8658232688903809, 0.8439868092536926, 0.9083346724510193, 0.9161875247955322, 0.8917616009712219, 0.8974965214729309, 0.6568707227706909, 0.7654227614402771, 0.7835285067558289, 0.902687668800354, 0.8477722406387329, 0.7363574504852295, 0.831741452217102, 0.6524928212165833, 0.8245683312416077, 0.9808698296546936, 0.8788022398948669, 0.6848034858703613, 0.904754638671875, 0.9169147610664368, 0.7061289548873901, 0.9030137658119202, 0.9148848652839661, 0.8868346810340881, 0.7361153960227966, 0.8051043152809143, 0.4482424259185791, 0.9002629518508911, 0.9553184509277344, 0.863558828830719, 0.8453924059867859, 0.826054036617279, 0.7429564595222473, 0.9343265891075134, 0.5651546716690063, 0.7528955340385437, 0.7864235043525696, 0.850590705871582, 0.9903438687324524, 0.9897395968437195, 0.680267333984375, 0.9897767901420593, 0.9076837301254272, 0.819324791431427, 0.6675613522529602, 0.9471809267997742, 0.8762412667274475, 0.8886970281600952, 0.9918968081474304, 0.9203401803970337, 0.957263171672821, 0.8176640272140503, 0.9718038439750671, 0.7280158996582031, 0.8987427353858948, 0.8611862063407898, 0.7631698846817017, 0.9538138508796692, 0.6817509531974792, 0.5887770652770996, 0.7676984071731567, 0.8673476576805115, 0.8531556129455566, 0.8709028363227844, 0.7559347748756409, 0.8921365141868591, 0.7797359228134155, 0.9176777005195618, 0.9035505056381226, 0.8744664192199707, 0.9870491623878479, 0.8443161249160767, 0.8900229334831238, 0.8460198640823364, 0.7577354311943054, 0.9155244827270508, 0.9132339358329773, 0.923470139503479, 0.9607455134391785, 0.9861100316047668, 0.990662157535553, 0.8811498284339905, 0.5500481128692627, 0.8575525879859924, 0.7081744074821472, 0.5599800944328308, 0.9223791360855103, 0.8463838696479797, 0.9827514290809631, 0.8765031695365906, 0.8856748342514038, 0.7811363935470581, 0.8989404439926147, 0.7684136033058167, 0.842449426651001, 0.8805422782897949, 0.6938924193382263, 0.894469678401947, 0.8921046257019043, 0.823750913143158, 0.6166108250617981, 0.9272187352180481, 0.7481719851493835, 0.9898481965065002, 0.8601757287979126, 0.8645191192626953, 0.8470746874809265, 0.7803791761398315, 0.8898038268089294, 0.6237784028053284, 0.9686835408210754, 0.9885213971138, 0.6845123767852783, 0.9311938881874084, 0.9838269352912903, 0.8664007782936096, 0.8801053166389465, 0.875355064868927, 0.778433084487915, 0.5573804974555969, 0.8974012136459351, 0.8597316145896912, 0.8393564224243164, 0.8562666773796082, 0.9482111930847168, 0.8804386258125305, 0.9462721347808838, 0.9155200123786926, 0.9023445248603821, 0.8904734253883362, 0.7255503535270691, 0.9360373020172119, 0.9426132440567017, 0.9030017256736755, 0.19907471537590027, 0.8251901865005493, 0.9166015386581421, 0.882484495639801, 0.8342264294624329, 0.9352622032165527, 0.9412409663200378, 0.7990484237670898, 0.9900214076042175, 0.9201025366783142, 0.8961016535758972, 0.6572945713996887, 0.9011251330375671, 0.900953471660614, 0.7133483290672302, 0.9158944487571716, 0.6098312735557556, 0.840432345867157, 0.8641183972358704, 0.991245448589325, 0.7624527812004089, 0.9308697581291199, 0.8390661478042603, 0.8839767575263977, 0.7824035286903381, 0.7941417098045349, 0.942288339138031, 0.9243435859680176, 0.7872382998466492, 0.938490629196167, 0.9212426543235779, 0.7611951231956482, 0.7400264143943787, 0.8012182712554932, 0.6745782494544983, 0.9210826754570007, 0.95291668176651, 0.6911238431930542, 0.6842777132987976, 0.8859695792198181, 0.9291048645973206, 0.7498360872268677, 0.8278448581695557, 0.8133962750434875, 0.9194243550300598, 0.9855561852455139, 0.6396235227584839, 0.958223283290863, 0.9488145709037781, 0.768711507320404, 0.5601943135261536, 0.9551675915718079, 0.6767371296882629, 0.8438964486122131, 0.7787342667579651, 0.709515392780304, 0.9110888242721558, 0.7005569338798523, 0.8012791275978088, 0.9604744911193848, 0.7323541045188904, 0.6394459009170532, 0.7819775938987732, 0.6744865775108337, 0.8518355488777161, 0.7903217673301697, 0.3278675973415375, 0.8894668817520142, 0.8701911568641663, 0.8749566674232483, 0.6383950114250183, 0.9269487261772156, 0.9534249305725098, 0.845781147480011, 0.8688562512397766, 0.693676769733429, 0.8369861245155334, 0.9094835519790649, 0.8746774792671204, 0.887112557888031, 0.8930234313011169, 0.4878498613834381, 0.8056138157844543, 0.8213382363319397, 0.8548105359077454, 0.8673720359802246, 0.8354499936103821, 0.9855359792709351, 0.5942607522010803, 0.7420933246612549, 0.9054328799247742, 0.8696134686470032, 0.7054013609886169, 0.9087123274803162, 0.9655280113220215, 0.9273050427436829, 0.7864307165145874, 0.777961790561676, 0.9018195867538452, 0.6601198315620422, 0.8558387756347656, 0.782494068145752, 0.7565248608589172, 0.9694617390632629, 0.6949732899665833, 0.9229514598846436, 0.9378061890602112, 0.8516032695770264, 0.7791762948036194, 0.3831271827220917, 0.839953601360321, 0.7476362586021423, 0.8670194149017334, 0.7776997685432434, 0.832774817943573, 0.9015823006629944, 0.8589046001434326, 0.8791447281837463, 0.8840287327766418, 0.8926811218261719, 0.5972386002540588, 0.8180665373802185, 0.8328172564506531, 0.837153971195221, 0.8864442110061646, 0.8980045914649963, 0.740563690662384, 0.9213808178901672, 0.8688622117042542, 0.8838914632797241, 0.8728227615356445, 0.8790167570114136, 0.8576398491859436, 0.9086608290672302, 0.9611467719078064, 0.7770165801048279, 0.6689081192016602, 0.9375501871109009, 0.8366477489471436, 0.7989752292633057, 0.6235758066177368, 0.8676067590713501, 0.6963480114936829, 0.9421975016593933, 0.8006839156150818, 0.5645821690559387, 0.6353996396064758, 0.8427010178565979, 0.806364119052887, 0.8913808465003967, 0.7136011719703674, 0.9071440696716309, 0.9712924361228943, 0.7884852290153503, 0.4588411748409271, 0.82867032289505, 0.8353714942932129, 0.8038650155067444, 0.9047064185142517, 0.7767563462257385, 0.6374079585075378, 0.46831580996513367, 0.6747130751609802, 0.5822300910949707, 0.7885040640830994, 0.9130850434303284, 0.836158275604248, 0.5622056126594543, 0.5485122203826904, 0.8346201777458191, 0.8969351649284363, 0.858866274356842, 0.9031233191490173, 0.8675187826156616, 0.8836198449134827, 0.8537318110466003, 0.858667254447937, 0.8920534253120422]}\n"
          ]
        }
      ]
    }
  ]
}