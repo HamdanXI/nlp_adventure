{
  "nbformat": 4,
  "nbformat_minor": 0,
  "metadata": {
    "colab": {
      "provenance": [],
      "authorship_tag": "ABX9TyOisguBSvgKDPAn3trM/mav",
      "include_colab_link": true
    },
    "kernelspec": {
      "name": "python3",
      "display_name": "Python 3"
    },
    "language_info": {
      "name": "python"
    }
  },
  "cells": [
    {
      "cell_type": "markdown",
      "metadata": {
        "id": "view-in-github",
        "colab_type": "text"
      },
      "source": [
        "<a href=\"https://colab.research.google.com/github/HamdanXI/nlp_adventure/blob/main/ML-Assignment-3.ipynb\" target=\"_parent\"><img src=\"https://colab.research.google.com/assets/colab-badge.svg\" alt=\"Open In Colab\"/></a>"
      ]
    },
    {
      "cell_type": "code",
      "execution_count": 1,
      "metadata": {
        "colab": {
          "base_uri": "https://localhost:8080/"
        },
        "id": "nBNVbGhhUIK-",
        "outputId": "739387d6-afef-44f6-bbd8-4f773218dd6e"
      },
      "outputs": [
        {
          "output_type": "stream",
          "name": "stdout",
          "text": [
            "Requirement already satisfied: torch in /usr/local/lib/python3.10/dist-packages (2.1.0+cu118)\n",
            "Requirement already satisfied: filelock in /usr/local/lib/python3.10/dist-packages (from torch) (3.12.4)\n",
            "Requirement already satisfied: typing-extensions in /usr/local/lib/python3.10/dist-packages (from torch) (4.5.0)\n",
            "Requirement already satisfied: sympy in /usr/local/lib/python3.10/dist-packages (from torch) (1.12)\n",
            "Requirement already satisfied: networkx in /usr/local/lib/python3.10/dist-packages (from torch) (3.2)\n",
            "Requirement already satisfied: jinja2 in /usr/local/lib/python3.10/dist-packages (from torch) (3.1.2)\n",
            "Requirement already satisfied: fsspec in /usr/local/lib/python3.10/dist-packages (from torch) (2023.6.0)\n",
            "Requirement already satisfied: triton==2.1.0 in /usr/local/lib/python3.10/dist-packages (from torch) (2.1.0)\n",
            "Requirement already satisfied: MarkupSafe>=2.0 in /usr/local/lib/python3.10/dist-packages (from jinja2->torch) (2.1.3)\n",
            "Requirement already satisfied: mpmath>=0.19 in /usr/local/lib/python3.10/dist-packages (from sympy->torch) (1.3.0)\n"
          ]
        }
      ],
      "source": [
        "!pip install torch\n",
        "import torch\n",
        "import torch.nn as nn\n",
        "import torch.optim as optim"
      ]
    },
    {
      "cell_type": "code",
      "source": [
        "class XNORNet(nn.Module):\n",
        "    def __init__(self):\n",
        "        super(XNORNet, self).__init__()\n",
        "        # 2 input neurons, 2 hidden neurons, 1 output neuron\n",
        "        self.layer1 = nn.Linear(2, 2)\n",
        "        self.layer2 = nn.Linear(2, 1)\n",
        "\n",
        "    def forward(self, x):\n",
        "        x = torch.sigmoid(self.layer1(x))\n",
        "        x = torch.sigmoid(self.layer2(x))\n",
        "        return x"
      ],
      "metadata": {
        "id": "o6cAjdRCVdsm"
      },
      "execution_count": 2,
      "outputs": []
    },
    {
      "cell_type": "code",
      "source": [
        "# Training data for XNOR\n",
        "inputs = torch.tensor([[0.0, 0.0],\n",
        "                       [0.0, 1.0],\n",
        "                       [1.0, 0.0],\n",
        "                       [1.0, 1.0]])\n",
        "targets = torch.tensor([[1.0],\n",
        "                        [0.0],\n",
        "                        [0.0],\n",
        "                        [1.0]])\n",
        "\n",
        "# Create the network, define loss function and optimizer\n",
        "net = XNORNet()\n",
        "criterion = nn.MSELoss()\n",
        "optimizer = optim.SGD(net.parameters(), lr=0.5, momentum=0.9)\n",
        "\n",
        "# Training loop\n",
        "for epoch in range(10000):\n",
        "    optimizer.zero_grad()\n",
        "    outputs = net(inputs)\n",
        "    loss = criterion(outputs, targets)\n",
        "    loss.backward()\n",
        "    optimizer.step()\n",
        "\n",
        "    if epoch % 1000 == 0:\n",
        "        print(f\"Epoch [{epoch + 1}/10000], Loss: {loss.item():.4f}\")\n",
        "\n",
        "print(\"Training complete!\")"
      ],
      "metadata": {
        "colab": {
          "base_uri": "https://localhost:8080/"
        },
        "id": "gm0A9C4LVf8S",
        "outputId": "2628fc9e-d5f6-4666-bc5c-dcf0f4bb76f1"
      },
      "execution_count": 3,
      "outputs": [
        {
          "output_type": "stream",
          "name": "stdout",
          "text": [
            "Epoch [1/10000], Loss: 0.2525\n",
            "Epoch [1001/10000], Loss: 0.0008\n",
            "Epoch [2001/10000], Loss: 0.0003\n",
            "Epoch [3001/10000], Loss: 0.0002\n",
            "Epoch [4001/10000], Loss: 0.0001\n",
            "Epoch [5001/10000], Loss: 0.0001\n",
            "Epoch [6001/10000], Loss: 0.0001\n",
            "Epoch [7001/10000], Loss: 0.0001\n",
            "Epoch [8001/10000], Loss: 0.0001\n",
            "Epoch [9001/10000], Loss: 0.0001\n",
            "Training complete!\n"
          ]
        }
      ]
    },
    {
      "cell_type": "code",
      "source": [
        "with torch.no_grad():\n",
        "    test = torch.tensor([[0.0, 0.0],\n",
        "                         [0.0, 1.0],\n",
        "                         [1.0, 0.0],\n",
        "                         [1.0, 1.0]])\n",
        "    predicted = net(test)\n",
        "    for i, input_tuple in enumerate(test):\n",
        "        print(f\"{input_tuple[0]} XNOR {input_tuple[1]} = {predicted[i][0]:.4f}\")"
      ],
      "metadata": {
        "colab": {
          "base_uri": "https://localhost:8080/"
        },
        "id": "oQSjAQAaViQj",
        "outputId": "2664722e-ab50-44ac-87f6-760f3b0dd950"
      },
      "execution_count": 4,
      "outputs": [
        {
          "output_type": "stream",
          "name": "stdout",
          "text": [
            "0.0 XNOR 0.0 = 0.9934\n",
            "0.0 XNOR 1.0 = 0.0068\n",
            "1.0 XNOR 0.0 = 0.0068\n",
            "1.0 XNOR 1.0 = 0.9917\n"
          ]
        }
      ]
    }
  ]
}