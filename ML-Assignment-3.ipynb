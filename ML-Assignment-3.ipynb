{
  "nbformat": 4,
  "nbformat_minor": 0,
  "metadata": {
    "colab": {
      "provenance": [],
      "authorship_tag": "ABX9TyP0/1xNhGNPvxbYJBngVZye",
      "include_colab_link": true
    },
    "kernelspec": {
      "name": "python3",
      "display_name": "Python 3"
    },
    "language_info": {
      "name": "python"
    }
  },
  "cells": [
    {
      "cell_type": "markdown",
      "metadata": {
        "id": "view-in-github",
        "colab_type": "text"
      },
      "source": [
        "<a href=\"https://colab.research.google.com/github/HamdanXI/nlp_adventure/blob/main/ML-Assignment-3.ipynb\" target=\"_parent\"><img src=\"https://colab.research.google.com/assets/colab-badge.svg\" alt=\"Open In Colab\"/></a>"
      ]
    },
    {
      "cell_type": "code",
      "source": [
        "# Improting everything\n",
        "!pip install torch\n",
        "\n",
        "import torch\n",
        "import torch.nn as nn\n",
        "import torch.optim as optim\n",
        "import torch.nn.functional as F"
      ],
      "metadata": {
        "id": "4crupMNkcvZP"
      },
      "execution_count": null,
      "outputs": []
    },
    {
      "cell_type": "markdown",
      "source": [
        "# Question 1"
      ],
      "metadata": {
        "id": "2BgSccKmcnjX"
      }
    },
    {
      "cell_type": "code",
      "source": [
        "class XNORNet(nn.Module):\n",
        "    def __init__(self):\n",
        "        super(XNORNet, self).__init__()\n",
        "        # 2 input neurons, 2 hidden neurons, 1 output neuron\n",
        "        self.layer1 = nn.Linear(2, 2)\n",
        "        self.layer2 = nn.Linear(2, 1)\n",
        "\n",
        "    def forward(self, x):\n",
        "        x = torch.sigmoid(self.layer1(x))\n",
        "        x = torch.sigmoid(self.layer2(x))\n",
        "        return x"
      ],
      "metadata": {
        "id": "o6cAjdRCVdsm"
      },
      "execution_count": 2,
      "outputs": []
    },
    {
      "cell_type": "code",
      "source": [
        "# Training data for XNOR\n",
        "inputs = torch.tensor([[0.0, 0.0],\n",
        "                       [0.0, 1.0],\n",
        "                       [1.0, 0.0],\n",
        "                       [1.0, 1.0]])\n",
        "targets = torch.tensor([[1.0],\n",
        "                        [0.0],\n",
        "                        [0.0],\n",
        "                        [1.0]])\n",
        "\n",
        "# Create the network, define loss function and optimizer\n",
        "net = XNORNet()\n",
        "criterion = nn.MSELoss()\n",
        "optimizer = optim.SGD(net.parameters(), lr=0.5, momentum=0.9)\n",
        "\n",
        "# Training loop\n",
        "for epoch in range(10000):\n",
        "    optimizer.zero_grad()\n",
        "    outputs = net(inputs)\n",
        "    loss = criterion(outputs, targets)\n",
        "    loss.backward()\n",
        "    optimizer.step()\n",
        "\n",
        "    if epoch % 1000 == 0:\n",
        "        print(f\"Epoch [{epoch + 1}/10000], Loss: {loss.item():.4f}\")\n",
        "\n",
        "print(\"Training complete!\")"
      ],
      "metadata": {
        "colab": {
          "base_uri": "https://localhost:8080/"
        },
        "id": "gm0A9C4LVf8S",
        "outputId": "2628fc9e-d5f6-4666-bc5c-dcf0f4bb76f1"
      },
      "execution_count": 3,
      "outputs": [
        {
          "output_type": "stream",
          "name": "stdout",
          "text": [
            "Epoch [1/10000], Loss: 0.2525\n",
            "Epoch [1001/10000], Loss: 0.0008\n",
            "Epoch [2001/10000], Loss: 0.0003\n",
            "Epoch [3001/10000], Loss: 0.0002\n",
            "Epoch [4001/10000], Loss: 0.0001\n",
            "Epoch [5001/10000], Loss: 0.0001\n",
            "Epoch [6001/10000], Loss: 0.0001\n",
            "Epoch [7001/10000], Loss: 0.0001\n",
            "Epoch [8001/10000], Loss: 0.0001\n",
            "Epoch [9001/10000], Loss: 0.0001\n",
            "Training complete!\n"
          ]
        }
      ]
    },
    {
      "cell_type": "code",
      "source": [
        "with torch.no_grad():\n",
        "    test = torch.tensor([[0.0, 0.0],\n",
        "                         [0.0, 1.0],\n",
        "                         [1.0, 0.0],\n",
        "                         [1.0, 1.0]])\n",
        "    predicted = net(test)\n",
        "    for i, input_tuple in enumerate(test):\n",
        "        print(f\"{input_tuple[0]} XNOR {input_tuple[1]} = {predicted[i][0]:.4f}\")"
      ],
      "metadata": {
        "colab": {
          "base_uri": "https://localhost:8080/"
        },
        "id": "oQSjAQAaViQj",
        "outputId": "2664722e-ab50-44ac-87f6-760f3b0dd950"
      },
      "execution_count": 4,
      "outputs": [
        {
          "output_type": "stream",
          "name": "stdout",
          "text": [
            "0.0 XNOR 0.0 = 0.9934\n",
            "0.0 XNOR 1.0 = 0.0068\n",
            "1.0 XNOR 0.0 = 0.0068\n",
            "1.0 XNOR 1.0 = 0.9917\n"
          ]
        }
      ]
    },
    {
      "cell_type": "markdown",
      "source": [
        "# Question 2"
      ],
      "metadata": {
        "id": "1N2QsIcOckb2"
      }
    },
    {
      "cell_type": "code",
      "source": [
        "class BinaryConv2d(nn.Module):\n",
        "    def __init__(self, in_channels, out_channels, kernel_size, stride=1, padding=0, dilation=1, groups=1, bias=True):\n",
        "        super(BinaryConv2d, self).__init__()\n",
        "        # The real-valued weights\n",
        "        self.weight = nn.Parameter(torch.Tensor(out_channels, in_channels // groups, kernel_size, kernel_size))\n",
        "        self.bias = nn.Parameter(torch.Tensor(out_channels)) if bias else None\n",
        "\n",
        "        self.stride = stride\n",
        "        self.padding = padding\n",
        "        self.dilation = dilation\n",
        "        self.groups = groups\n",
        "\n",
        "        # Initialize weights and biases\n",
        "        nn.init.kaiming_uniform_(self.weight, a=5)\n",
        "        if self.bias is not None:\n",
        "            fan_in, _ = nn.init._calculate_fan_in_and_fan_out(self.weight)\n",
        "            bound = 1 / fan_in ** 0.5\n",
        "            nn.init.uniform_(self.bias, -bound, bound)\n",
        "\n",
        "    def binarize(self, x):\n",
        "        return x.sign()\n",
        "\n",
        "    def forward(self, x):\n",
        "        # Binarize the weights\n",
        "        bin_weight = self.binarize(self.weight)\n",
        "\n",
        "        # Convolution with binary weights\n",
        "        return F.conv2d(x, bin_weight, self.bias, self.stride, self.padding, self.dilation, self.groups)\n",
        "\n",
        "# Test the binary convolution\n",
        "x = torch.randn(32, 3, 32, 32)  # Batch of 32 images, 3 channels, 32x32 resolution\n",
        "binary_conv = BinaryConv2d(3, 64, 3, padding=1)  # 3 input channels, 64 output channels, 3x3 kernel\n",
        "out = binary_conv(x)\n",
        "print(out.shape)  # [32, 64, 32, 32]"
      ],
      "metadata": {
        "colab": {
          "base_uri": "https://localhost:8080/"
        },
        "id": "h-WmTXYtcmZx",
        "outputId": "fbb01279-8274-40df-e1a9-37f69f5fe085"
      },
      "execution_count": 6,
      "outputs": [
        {
          "output_type": "stream",
          "name": "stdout",
          "text": [
            "torch.Size([32, 64, 32, 32])\n"
          ]
        }
      ]
    }
  ]
}