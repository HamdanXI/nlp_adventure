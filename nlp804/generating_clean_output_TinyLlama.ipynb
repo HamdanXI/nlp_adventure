{
  "nbformat": 4,
  "nbformat_minor": 0,
  "metadata": {
    "colab": {
      "provenance": [],
      "gpuType": "T4",
      "authorship_tag": "ABX9TyN8RBnbZ/4qkualCFraerX7",
      "include_colab_link": true
    },
    "kernelspec": {
      "name": "python3",
      "display_name": "Python 3"
    },
    "language_info": {
      "name": "python"
    },
    "accelerator": "GPU"
  },
  "cells": [
    {
      "cell_type": "markdown",
      "metadata": {
        "id": "view-in-github",
        "colab_type": "text"
      },
      "source": [
        "<a href=\"https://colab.research.google.com/github/HamdanXI/nlp_adventure/blob/main/nlp804/generating_clean_output_TinyLlama.ipynb\" target=\"_parent\"><img src=\"https://colab.research.google.com/assets/colab-badge.svg\" alt=\"Open In Colab\"/></a>"
      ]
    },
    {
      "cell_type": "code",
      "source": [
        "pip install accelerate"
      ],
      "metadata": {
        "id": "iaL95hiEHHBC"
      },
      "execution_count": null,
      "outputs": []
    },
    {
      "cell_type": "code",
      "source": [
        "import torch\n",
        "from transformers import pipeline\n",
        "\n",
        "pipe = pipeline(\"text-generation\", model=\"TinyLlama/TinyLlama-1.1B-Chat-v1.0\", torch_dtype=torch.bfloat16, device_map=\"auto\")"
      ],
      "metadata": {
        "id": "vmLt85TPG2sx"
      },
      "execution_count": null,
      "outputs": []
    },
    {
      "cell_type": "code",
      "source": [
        "motivational_message_input = [\n",
        "    {\n",
        "        \"role\": \"system\",\n",
        "        \"content\": \"You are a friendly chatbot who always responds in the style of a motivational coach\",\n",
        "    },\n",
        "    {\"role\": \"user\", \"content\": \"How can I achieve something that seems impossible?\"},\n",
        "]"
      ],
      "metadata": {
        "id": "AxVo-ztoPDY6"
      },
      "execution_count": 3,
      "outputs": []
    },
    {
      "cell_type": "code",
      "source": [
        "explain_greed_message_input = [\n",
        "    {\n",
        "        \"role\": \"system\",\n",
        "        \"content\": \"You are a friendly primary school teacher who always educates children about important values.\"\n",
        "    },\n",
        "    {\n",
        "        \"role\": \"user\",\n",
        "        \"content\": \"Why is it not good to be greedy?\"\n",
        "    }\n",
        "]"
      ],
      "metadata": {
        "id": "e2BOpa1uV2Xw"
      },
      "execution_count": 17,
      "outputs": []
    },
    {
      "cell_type": "code",
      "source": [
        "import re\n",
        "\n",
        "pattern = r'\\d+\\.\\s(.*?)\\s(?=\\d+\\.\\s|$)'\n",
        "\n",
        "def extractor(text):\n",
        "    # Regular expression pattern to find sequences like \"1. Some text\" and capture \"Some text\"\n",
        "    pattern = r'\\d+\\.\\s(.*?)\\s(?=\\d+\\.\\s|$)'\n",
        "\n",
        "    # Extracting the messages and stripping newline characters\n",
        "    messages = [message.strip() for message in re.findall(pattern, text, re.DOTALL)]\n",
        "    return messages\n",
        "\n",
        "def generator(text):\n",
        "  prompt = pipe.tokenizer.apply_chat_template(text, tokenize=False, add_generation_prompt=True)\n",
        "  messages = pipe(prompt, max_new_tokens=256, do_sample=True, temperature=0.7, top_k=50, top_p=0.95)\n",
        "  return messages\n",
        "\n",
        "def generate_and_extract(text):\n",
        "  messages = generator(text)\n",
        "  messages = extractor(messages[0][\"generated_text\"])\n",
        "  messages = messages[:-1]\n",
        "  return messages"
      ],
      "metadata": {
        "id": "ehcel_qKV3bs"
      },
      "execution_count": 10,
      "outputs": []
    },
    {
      "cell_type": "markdown",
      "source": [
        "## Motivational Text"
      ],
      "metadata": {
        "id": "auqY5vwIZ0f8"
      }
    },
    {
      "cell_type": "code",
      "source": [
        "# Only Generating\n",
        "motivation_message_not_cleaned = generator(motivational_message_input)\n",
        "print(motivation_message_not_cleaned[0][\"generated_text\"])"
      ],
      "metadata": {
        "colab": {
          "base_uri": "https://localhost:8080/"
        },
        "id": "MXIwUVkOZUYR",
        "outputId": "b1b6d6d8-1b11-4117-df85-2007e07984e9"
      },
      "execution_count": 14,
      "outputs": [
        {
          "output_type": "stream",
          "name": "stdout",
          "text": [
            "<|system|>\n",
            "You are a friendly chatbot who always responds in the style of a motivational coach</s>\n",
            "<|user|>\n",
            "How can I achieve something that seems impossible?</s>\n",
            "<|assistant|>\n",
            "Here are some tips to help you achieve something that seems impossible:\n",
            "\n",
            "1. Identify the obstacle: Start by identifying the obstacle that stands in the way of your goal. For example, if you want to achieve a weight loss of 50 pounds, the obstacle might be the fact that you have a busy schedule and don't have enough time for exercise.\n",
            "\n",
            "2. Determine why the obstacle is important: Identify why the obstacle is important. For example, if the weight loss is important to you for your health or to improve your overall well-being, then it might be worth taking action to overcome the obstacle.\n",
            "\n",
            "3. Brainstorm solutions: Once you've identified the obstacle, brainstorm solutions. Think about different ways to overcome the obstacle. For example, you might try to find a way to combine exercise with other activities, such as taking a walk or doing yoga.\n",
            "\n",
            "4. Break down the obstacle: Once you have identified a solution, break down the obstacle into smaller, more manageable steps. This will help you to focus your efforts and make progress toward your goal.\n",
            "\n",
            "5. Reframe the obstacle: Instead of\n"
          ]
        }
      ]
    },
    {
      "cell_type": "code",
      "source": [
        "# Generate and Clean\n",
        "motivation_message = generate_and_extract(motivational_message_input)\n",
        "print(motivation_message[0])"
      ],
      "metadata": {
        "colab": {
          "base_uri": "https://localhost:8080/"
        },
        "id": "9-LtEGmEV9mz",
        "outputId": "f0fc91b3-4093-4b16-c110-fad979649596"
      },
      "execution_count": 15,
      "outputs": [
        {
          "output_type": "stream",
          "name": "stdout",
          "text": [
            "Break it down into smaller, more manageable steps: If you're trying to overcome a seemingly insurmountable obstacle, try breaking it down into smaller, achievable steps. This can help you stay focused and motivated.\n"
          ]
        }
      ]
    },
    {
      "cell_type": "markdown",
      "source": [
        "## Story Explaniation Text"
      ],
      "metadata": {
        "id": "OqCNYfPvZ3Ry"
      }
    },
    {
      "cell_type": "code",
      "source": [
        "# Only Generating\n",
        "explain_greed_message_not_cleaned = generator(explain_greed_message_input)\n",
        "print(explain_greed_message_not_cleaned[0][\"generated_text\"])"
      ],
      "metadata": {
        "colab": {
          "base_uri": "https://localhost:8080/"
        },
        "id": "wH81gu16WUcf",
        "outputId": "372d2122-7a77-4412-a2c5-bcc59cfcd0b3"
      },
      "execution_count": 19,
      "outputs": [
        {
          "output_type": "stream",
          "name": "stdout",
          "text": [
            "<|system|>\n",
            "You are a friendly primary school teacher who always educates children about important values.</s>\n",
            "<|user|>\n",
            "Why is it not good to be greedy?</s>\n",
            "<|assistant|>\n",
            "Greed is often associated with being selfish, covetous, and uncaring. In a moral sense, greed is viewed as a negative trait that can lead to problems such as materialism, financial struggles, and a lack of empathy towards others. Here are some reasons why being greedy might not be a good idea:\n",
            "\n",
            "1. It can lead to financial problems: Greed often leads to excessive spending and borrowing. This can result in overspending, financial problems, and debt.\n",
            "\n",
            "2. It can lead to a lack of empathy: Greed can cause individuals to focus on their own needs and desires rather than those of others. This can lead to a lack of empathy and understanding, which can cause problems in relationships and social situations.\n",
            "\n",
            "3. It can lead to a lack of respect for others: Greed can cause individuals to prioritize their own needs and desires over the needs of others. This can lead to a lack of respect and understanding towards others, which can cause problems in relationships and social situations.\n",
            "\n",
            "4. It can lead to a lack of personal fulfillment: Greed can cause individuals to become obsessed with accumulating\n"
          ]
        }
      ]
    },
    {
      "cell_type": "code",
      "source": [
        "# Generate and Clean\n",
        "explain_greed_message = generate_and_extract(explain_greed_message_input)\n",
        "print(explain_greed_message[0])"
      ],
      "metadata": {
        "colab": {
          "base_uri": "https://localhost:8080/"
        },
        "id": "BfbXUKaEZ7im",
        "outputId": "c223a1e7-dd60-4b6f-88fc-c57ce9f0b989"
      },
      "execution_count": 22,
      "outputs": [
        {
          "output_type": "stream",
          "name": "stderr",
          "text": [
            "/usr/local/lib/python3.10/dist-packages/transformers/pipelines/base.py:1101: UserWarning: You seem to be using the pipelines sequentially on GPU. In order to maximize efficiency please use a dataset\n",
            "  warnings.warn(\n"
          ]
        },
        {
          "output_type": "stream",
          "name": "stdout",
          "text": [
            "Loss of resources: Being greedy leads to loss of resources such as money, time, and energy. When you focus solely on your own needs, you may not have enough resources to help others or meet your own needs.\n"
          ]
        }
      ]
    },
    {
      "cell_type": "markdown",
      "source": [
        "## To-do List"
      ],
      "metadata": {
        "id": "TpmU9bK4aIhK"
      }
    },
    {
      "cell_type": "code",
      "source": [
        "# 1. Convert model to ONNX Format\n",
        "# 2. Offline Integration with Unity Barracuda\n",
        "# 3. Handle Responses from Model and Display Text\n",
        "# 4. Design Interaction Logic (when to give hint, motivation or explaination)\n",
        "# 5. Test and Iterate\n",
        "# Things to consider: Impact on game performance and Content Fitting to Kids."
      ],
      "metadata": {
        "id": "C5KarXB4TqSa"
      },
      "execution_count": null,
      "outputs": []
    }
  ]
}