{
  "nbformat": 4,
  "nbformat_minor": 0,
  "metadata": {
    "colab": {
      "provenance": [],
      "gpuType": "T4",
      "authorship_tag": "ABX9TyOj/CxBvQwqT4RCYspPI/mE",
      "include_colab_link": true
    },
    "kernelspec": {
      "name": "python3",
      "display_name": "Python 3"
    },
    "language_info": {
      "name": "python"
    },
    "accelerator": "GPU"
  },
  "cells": [
    {
      "cell_type": "markdown",
      "metadata": {
        "id": "view-in-github",
        "colab_type": "text"
      },
      "source": [
        "<a href=\"https://colab.research.google.com/github/HamdanXI/nlp_adventure/blob/main/nlp804/generating_with_tinyllama.ipynb\" target=\"_parent\"><img src=\"https://colab.research.google.com/assets/colab-badge.svg\" alt=\"Open In Colab\"/></a>"
      ]
    },
    {
      "cell_type": "code",
      "source": [
        "pip install accelerate"
      ],
      "metadata": {
        "id": "iaL95hiEHHBC"
      },
      "execution_count": null,
      "outputs": []
    },
    {
      "cell_type": "code",
      "source": [
        "import torch\n",
        "from transformers import pipeline\n",
        "\n",
        "pipe = pipeline(\"text-generation\", model=\"TinyLlama/TinyLlama-1.1B-Chat-v1.0\", torch_dtype=torch.bfloat16, device_map=\"auto\")"
      ],
      "metadata": {
        "id": "vmLt85TPG2sx"
      },
      "execution_count": null,
      "outputs": []
    },
    {
      "cell_type": "code",
      "source": [
        "messages = [\n",
        "    {\n",
        "        \"role\": \"system\",\n",
        "        \"content\": \"You are a friendly chatbot who always responds in the style of a motivational coach\",\n",
        "    },\n",
        "    {\"role\": \"user\", \"content\": \"How can I achieve something that seems impossible?\"},\n",
        "]\n",
        "\n",
        "prompt = pipe.tokenizer.apply_chat_template(messages, tokenize=False, add_generation_prompt=True)\n",
        "outputs = pipe(prompt, max_new_tokens=256, do_sample=True, temperature=0.7, top_k=50, top_p=0.95)\n",
        "print(outputs[0][\"generated_text\"])"
      ],
      "metadata": {
        "colab": {
          "base_uri": "https://localhost:8080/"
        },
        "id": "AxVo-ztoPDY6",
        "outputId": "d862ecf0-d0ba-4357-d6a0-d66da8ff5c40"
      },
      "execution_count": 5,
      "outputs": [
        {
          "output_type": "stream",
          "name": "stdout",
          "text": [
            "<|system|>\n",
            "You are a friendly chatbot who always responds in the style of a motivational coach</s>\n",
            "<|user|>\n",
            "How can I achieve something that seems impossible?</s>\n",
            "<|assistant|>\n",
            "There are several ways to achieve something that seems impossible, depending on the specific challenge you are facing:\n",
            "\n",
            "1. Visualization: This is a powerful tool that involves imagining yourself accomplishing the impossible. Visualization involves putting yourself in a situation where you need to accomplish something, then imagining yourself succeeding. For instance, imagine yourself walking on water or swimming underwater.\n",
            "\n",
            "2. Positive thinking: Positive thinking involves focusing on the positive outcomes of your actions and the benefits that come with achieving your goal. Instead of focusing on the negative consequences or obstacles that might come your way, focus on the positive outcome you will achieve.\n",
            "\n",
            "3. Action planning: This involves breaking down the task or goal into smaller, manageable steps. This helps you focus on the tasks and take small steps towards achieving the goal.\n",
            "\n",
            "4. Surround yourself with support: Surround yourself with people who support and encourage you towards your goal. This can help you stay motivated and focused.\n",
            "\n",
            "5. Reframe your beliefs: Reframe your beliefs about the task or goal so that it aligns with your vision of how it should be achieved. This helps you feel more confident and motiv\n"
          ]
        }
      ]
    },
    {
      "cell_type": "code",
      "source": [
        "import re\n",
        "\n",
        "def extract_messages(text):\n",
        "    # Regular expression pattern to find sequences like \"1. Some text\" and capture \"Some text\"\n",
        "    pattern = r'\\d+\\.\\s(.*?)\\s(?=\\d+\\.\\s|$)'\n",
        "\n",
        "    # Extracting the messages and stripping newline characters\n",
        "    messages = [message.strip() for message in re.findall(pattern, text, re.DOTALL)]\n",
        "    return messages"
      ],
      "metadata": {
        "id": "zpvMWMcRQ_VI"
      },
      "execution_count": 17,
      "outputs": []
    },
    {
      "cell_type": "code",
      "source": [
        "motivational_messages = extract_messages(outputs[0][\"generated_text\"])\n",
        "motivational_messages = motivational_messages[:-1]\n",
        "motivational_messages[0]"
      ],
      "metadata": {
        "colab": {
          "base_uri": "https://localhost:8080/",
          "height": 86
        },
        "id": "3iCroEuZR3vD",
        "outputId": "e66f814f-a5ec-405c-95b6-677abb9c485f"
      },
      "execution_count": 21,
      "outputs": [
        {
          "output_type": "execute_result",
          "data": {
            "text/plain": [
              "'Visualization: This is a powerful tool that involves imagining yourself accomplishing the impossible. Visualization involves putting yourself in a situation where you need to accomplish something, then imagining yourself succeeding. For instance, imagine yourself walking on water or swimming underwater.'"
            ],
            "application/vnd.google.colaboratory.intrinsic+json": {
              "type": "string"
            }
          },
          "metadata": {},
          "execution_count": 21
        }
      ]
    }
  ]
}