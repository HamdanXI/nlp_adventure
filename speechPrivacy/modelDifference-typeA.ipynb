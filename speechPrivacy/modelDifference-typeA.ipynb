{
  "nbformat": 4,
  "nbformat_minor": 0,
  "metadata": {
    "colab": {
      "provenance": [],
      "authorship_tag": "ABX9TyPxCzPxSTWryvLBwNYg+FOx",
      "include_colab_link": true
    },
    "kernelspec": {
      "name": "python3",
      "display_name": "Python 3"
    },
    "language_info": {
      "name": "python"
    }
  },
  "cells": [
    {
      "cell_type": "markdown",
      "metadata": {
        "id": "view-in-github",
        "colab_type": "text"
      },
      "source": [
        "<a href=\"https://colab.research.google.com/github/HamdanXI/nlp_adventure/blob/main/speechPrivacy/modelDifference-typeA.ipynb\" target=\"_parent\"><img src=\"https://colab.research.google.com/assets/colab-badge.svg\" alt=\"Open In Colab\"/></a>"
      ]
    },
    {
      "cell_type": "code",
      "execution_count": 1,
      "metadata": {
        "colab": {
          "base_uri": "https://localhost:8080/"
        },
        "id": "4FpcbwQOSsky",
        "outputId": "768538c1-771b-418b-f907-0703219b3103"
      },
      "outputs": [
        {
          "output_type": "stream",
          "name": "stdout",
          "text": [
            "Similarity Score: 1.2438\n"
          ]
        }
      ],
      "source": [
        "import numpy as np\n",
        "\n",
        "# Computes the difference between hidden layer outputs of the personalized and global models.\n",
        "def compute_activations(hidden_layer_outputs, global_model_outputs):\n",
        "    return hidden_layer_outputs - global_model_outputs\n",
        "\n",
        "# Computes mean and standard deviation of differences.\n",
        "def compute_statistics(differences):\n",
        "    mean = np.mean(differences, axis=0)\n",
        "    std_dev = np.std(differences, axis=0)\n",
        "    return mean, std_dev\n",
        "\n",
        "# Computes similarity score based on means and standard deviations of activations.\n",
        "def compute_similarity(mean1, std1, mean2, std2, alpha_mean=1, alpha_std=10):\n",
        "    mean_diff = np.linalg.norm(mean1 - mean2) / (np.linalg.norm(mean1) * np.linalg.norm(mean2))\n",
        "    std_diff = np.linalg.norm(std1 - std2) / (np.linalg.norm(std1) * np.linalg.norm(std2))\n",
        "    return alpha_mean * mean_diff + alpha_std * std_diff\n",
        "\n",
        "# Mock data for hidden layer outputs\n",
        "np.random.seed(42)\n",
        "hidden_layer_personalized = np.random.rand(100, 512)\n",
        "hidden_layer_global = np.random.rand(100, 512)\n",
        "\n",
        "differences = compute_activations(hidden_layer_personalized, hidden_layer_global)\n",
        "mean_personalized, std_personalized = compute_statistics(differences)\n",
        "\n",
        "hidden_layer_personalized_2 = np.random.rand(100, 512)\n",
        "differences_2 = compute_activations(hidden_layer_personalized_2, hidden_layer_global)\n",
        "mean_personalized_2, std_personalized_2 = compute_statistics(differences_2)\n",
        "\n",
        "similarity_score = compute_similarity(mean_personalized, std_personalized, mean_personalized_2, std_personalized_2)\n",
        "\n",
        "print(f\"Similarity Score: {similarity_score:.4f}\")\n"
      ]
    },
    {
      "cell_type": "code",
      "source": [],
      "metadata": {
        "id": "-gHUO8WuS_Bz"
      },
      "execution_count": null,
      "outputs": []
    }
  ]
}