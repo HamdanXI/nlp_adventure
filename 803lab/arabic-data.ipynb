{
  "nbformat": 4,
  "nbformat_minor": 0,
  "metadata": {
    "colab": {
      "provenance": [],
      "authorship_tag": "ABX9TyNahFKps5uZxsozqOnNZYz0",
      "include_colab_link": true
    },
    "kernelspec": {
      "name": "python3",
      "display_name": "Python 3"
    },
    "language_info": {
      "name": "python"
    }
  },
  "cells": [
    {
      "cell_type": "markdown",
      "metadata": {
        "id": "view-in-github",
        "colab_type": "text"
      },
      "source": [
        "<a href=\"https://colab.research.google.com/github/HamdanXI/nlp_adventure/blob/main/803lab/arabic-data.ipynb\" target=\"_parent\"><img src=\"https://colab.research.google.com/assets/colab-badge.svg\" alt=\"Open In Colab\"/></a>"
      ]
    },
    {
      "cell_type": "code",
      "execution_count": 1,
      "metadata": {
        "colab": {
          "base_uri": "https://localhost:8080/"
        },
        "id": "MH4qGZDKC-pM",
        "outputId": "2c18ca44-9c85-48c8-ef96-b5e24779071a"
      },
      "outputs": [
        {
          "output_type": "stream",
          "name": "stdout",
          "text": [
            "Collecting allosaurus\n",
            "  Downloading allosaurus-1.0.2-py3-none-any.whl (52 kB)\n",
            "\u001b[?25l     \u001b[90m━━━━━━━━━━━━━━━━━━━━━━━━━━━━━━━━━━━━━━━━\u001b[0m \u001b[32m0.0/52.1 kB\u001b[0m \u001b[31m?\u001b[0m eta \u001b[36m-:--:--\u001b[0m\r\u001b[2K     \u001b[90m━━━━━━━━━━━━━━━━━━━━━━━━━━━━━━━━━━━━━━━━\u001b[0m \u001b[32m52.1/52.1 kB\u001b[0m \u001b[31m1.5 MB/s\u001b[0m eta \u001b[36m0:00:00\u001b[0m\n",
            "\u001b[?25hRequirement already satisfied: scipy in /usr/local/lib/python3.10/dist-packages (from allosaurus) (1.11.4)\n",
            "Requirement already satisfied: numpy in /usr/local/lib/python3.10/dist-packages (from allosaurus) (1.25.2)\n",
            "Collecting resampy (from allosaurus)\n",
            "  Downloading resampy-0.4.2-py3-none-any.whl (3.1 MB)\n",
            "\u001b[2K     \u001b[90m━━━━━━━━━━━━━━━━━━━━━━━━━━━━━━━━━━━━━━━━\u001b[0m \u001b[32m3.1/3.1 MB\u001b[0m \u001b[31m28.3 MB/s\u001b[0m eta \u001b[36m0:00:00\u001b[0m\n",
            "\u001b[?25hCollecting panphon (from allosaurus)\n",
            "  Downloading panphon-0.20.0-py2.py3-none-any.whl (73 kB)\n",
            "\u001b[2K     \u001b[90m━━━━━━━━━━━━━━━━━━━━━━━━━━━━━━━━━━━━━━━━\u001b[0m \u001b[32m73.6/73.6 kB\u001b[0m \u001b[31m6.3 MB/s\u001b[0m eta \u001b[36m0:00:00\u001b[0m\n",
            "\u001b[?25hRequirement already satisfied: torch in /usr/local/lib/python3.10/dist-packages (from allosaurus) (2.1.0+cu121)\n",
            "Requirement already satisfied: editdistance in /usr/local/lib/python3.10/dist-packages (from allosaurus) (0.6.2)\n",
            "Requirement already satisfied: setuptools in /usr/local/lib/python3.10/dist-packages (from panphon->allosaurus) (67.7.2)\n",
            "Collecting unicodecsv (from panphon->allosaurus)\n",
            "  Downloading unicodecsv-0.14.1.tar.gz (10 kB)\n",
            "  Preparing metadata (setup.py) ... \u001b[?25l\u001b[?25hdone\n",
            "Requirement already satisfied: PyYAML in /usr/local/lib/python3.10/dist-packages (from panphon->allosaurus) (6.0.1)\n",
            "Requirement already satisfied: regex in /usr/local/lib/python3.10/dist-packages (from panphon->allosaurus) (2023.12.25)\n",
            "Collecting munkres (from panphon->allosaurus)\n",
            "  Downloading munkres-1.1.4-py2.py3-none-any.whl (7.0 kB)\n",
            "Requirement already satisfied: numba>=0.53 in /usr/local/lib/python3.10/dist-packages (from resampy->allosaurus) (0.58.1)\n",
            "Requirement already satisfied: filelock in /usr/local/lib/python3.10/dist-packages (from torch->allosaurus) (3.13.1)\n",
            "Requirement already satisfied: typing-extensions in /usr/local/lib/python3.10/dist-packages (from torch->allosaurus) (4.9.0)\n",
            "Requirement already satisfied: sympy in /usr/local/lib/python3.10/dist-packages (from torch->allosaurus) (1.12)\n",
            "Requirement already satisfied: networkx in /usr/local/lib/python3.10/dist-packages (from torch->allosaurus) (3.2.1)\n",
            "Requirement already satisfied: jinja2 in /usr/local/lib/python3.10/dist-packages (from torch->allosaurus) (3.1.3)\n",
            "Requirement already satisfied: fsspec in /usr/local/lib/python3.10/dist-packages (from torch->allosaurus) (2023.6.0)\n",
            "Requirement already satisfied: triton==2.1.0 in /usr/local/lib/python3.10/dist-packages (from torch->allosaurus) (2.1.0)\n",
            "Requirement already satisfied: llvmlite<0.42,>=0.41.0dev0 in /usr/local/lib/python3.10/dist-packages (from numba>=0.53->resampy->allosaurus) (0.41.1)\n",
            "Requirement already satisfied: MarkupSafe>=2.0 in /usr/local/lib/python3.10/dist-packages (from jinja2->torch->allosaurus) (2.1.5)\n",
            "Requirement already satisfied: mpmath>=0.19 in /usr/local/lib/python3.10/dist-packages (from sympy->torch->allosaurus) (1.3.0)\n",
            "Building wheels for collected packages: unicodecsv\n",
            "  Building wheel for unicodecsv (setup.py) ... \u001b[?25l\u001b[?25hdone\n",
            "  Created wheel for unicodecsv: filename=unicodecsv-0.14.1-py3-none-any.whl size=10745 sha256=c237ca953e0928d099e5d1fc7cbaa4dd7496725c0cc5d5e57defbdaf6541dbf1\n",
            "  Stored in directory: /root/.cache/pip/wheels/9c/ea/66/8e45247b09052a933eb1a680b7c64802298faba58aac9b346b\n",
            "Successfully built unicodecsv\n",
            "Installing collected packages: unicodecsv, munkres, panphon, resampy, allosaurus\n",
            "Successfully installed allosaurus-1.0.2 munkres-1.1.4 panphon-0.20.0 resampy-0.4.2 unicodecsv-0.14.1\n"
          ]
        }
      ],
      "source": [
        "!pip install allosaurus"
      ]
    },
    {
      "cell_type": "code",
      "source": [
        "!pip install pydub"
      ],
      "metadata": {
        "colab": {
          "base_uri": "https://localhost:8080/"
        },
        "id": "Peeu_q90EjaR",
        "outputId": "f80d4ad4-4686-4847-b0f9-d72bf5a0f022"
      },
      "execution_count": 4,
      "outputs": [
        {
          "output_type": "stream",
          "name": "stdout",
          "text": [
            "Collecting pydub\n",
            "  Downloading pydub-0.25.1-py2.py3-none-any.whl (32 kB)\n",
            "Installing collected packages: pydub\n",
            "Successfully installed pydub-0.25.1\n"
          ]
        }
      ]
    },
    {
      "cell_type": "code",
      "source": [
        "from allosaurus.app import read_recognizer\n",
        "\n",
        "# load your model\n",
        "model = read_recognizer()\n",
        "\n",
        "# run inference -> æ l u s ɔ ɹ s\n",
        "# model.recognize('sample.wav')"
      ],
      "metadata": {
        "colab": {
          "base_uri": "https://localhost:8080/"
        },
        "id": "_makoh_oDGWQ",
        "outputId": "b66fc638-256c-4673-b4be-4a640a9130e3"
      },
      "execution_count": 2,
      "outputs": [
        {
          "output_type": "stream",
          "name": "stdout",
          "text": [
            "downloading model  latest\n",
            "from:  https://github.com/xinjli/allosaurus/releases/download/v1.0/latest.tar.gz\n",
            "to:    /usr/local/lib/python3.10/dist-packages/allosaurus/pretrained\n",
            "please wait...\n"
          ]
        }
      ]
    },
    {
      "cell_type": "code",
      "source": [
        "from pydub import AudioSegment\n",
        "\n",
        "def convert_m4a_to_wav(input_m4a, output_wav):\n",
        "    audio = AudioSegment.from_file(input_m4a, format=\"m4a\")\n",
        "    audio.export(output_wav, format=\"wav\")\n",
        "\n",
        "# Example usage\n",
        "input_m4a = \"ch.m4a\"\n",
        "output_wav = \"New Recording.wav\"\n",
        "convert_m4a_to_wav(input_m4a, output_wav)"
      ],
      "metadata": {
        "id": "9wafFD8fEiNs"
      },
      "execution_count": 9,
      "outputs": []
    },
    {
      "cell_type": "code",
      "source": [
        "model.recognize(output_wav, \"eng\")"
      ],
      "metadata": {
        "colab": {
          "base_uri": "https://localhost:8080/",
          "height": 35
        },
        "id": "FuCm5PfZDRlc",
        "outputId": "1bbf5e2f-1f21-4c17-de29-fefb2402c986"
      },
      "execution_count": 10,
      "outputs": [
        {
          "output_type": "execute_result",
          "data": {
            "text/plain": [
              "'a ɪ a m t ɛ x t ə n k z ɪ s t ɔ ʊ d ɪ o'"
            ],
            "application/vnd.google.colaboratory.intrinsic+json": {
              "type": "string"
            }
          },
          "metadata": {},
          "execution_count": 10
        }
      ]
    },
    {
      "cell_type": "code",
      "source": [
        "!python -m allosaurus.bin.list_phone --lang eng"
      ],
      "metadata": {
        "colab": {
          "base_uri": "https://localhost:8080/"
        },
        "id": "7b77QGnyIGCt",
        "outputId": "a4962822-c6c7-4d1d-c0b3-6b92809411cf"
      },
      "execution_count": 20,
      "outputs": [
        {
          "output_type": "stream",
          "name": "stdout",
          "text": [
            "a aː b d d̠ e eː e̞ f h i iː j k kʰ l m n o oː p pʰ r s t tʰ t̠ u uː v w x z æ ð øː ŋ ɐ ɐː ɑ ɑː ɒ ɒː ɔ ɔː ɘ ə əː ɛ ɛː ɜː ɡ ɪ ɪ̯ ɯ ɵː ɹ ɻ ʃ ʉ ʉː ʊ ʌ ʍ ʒ ʔ θ\n"
          ]
        }
      ]
    },
    {
      "cell_type": "code",
      "source": [
        "!python -m allosaurus.bin.list_phone --lang arb"
      ],
      "metadata": {
        "colab": {
          "base_uri": "https://localhost:8080/"
        },
        "id": "BbJnqhr4Hg4I",
        "outputId": "7d6fd037-f730-43a2-e70f-c755158f8c89"
      },
      "execution_count": 15,
      "outputs": [
        {
          "output_type": "stream",
          "name": "stdout",
          "text": [
            "a aː b d̪ f h i i̯ j kʰ l lˤ m n̪ q r s t̪ʰ u u̯ w x z ħ ɣ ʀ̥ ʃ ʒ ʔ\n"
          ]
        }
      ]
    },
    {
      "cell_type": "code",
      "source": [
        "model.recognize(\"ch_00_arabic_tts_dataset_2.wav\", \"arb\")"
      ],
      "metadata": {
        "colab": {
          "base_uri": "https://localhost:8080/",
          "height": 35
        },
        "id": "rJ8-4EVyKYxQ",
        "outputId": "fc8db0d4-241b-42fb-d7e3-50ba2713bddc"
      },
      "execution_count": 17,
      "outputs": [
        {
          "output_type": "execute_result",
          "data": {
            "text/plain": [
              "'s i l m a l i l a l m z i t̪ʰ i m i l m a l u m a i a u l i l m s a l a kʰ a'"
            ],
            "application/vnd.google.colaboratory.intrinsic+json": {
              "type": "string"
            }
          },
          "metadata": {},
          "execution_count": 17
        }
      ]
    },
    {
      "cell_type": "code",
      "source": [
        "!pip install epitran"
      ],
      "metadata": {
        "id": "N9grMN06LqNn"
      },
      "execution_count": null,
      "outputs": []
    },
    {
      "cell_type": "code",
      "source": [
        "import epitran\n",
        "\n",
        "epi = epitran.Epitran('ara-Arab')\n",
        "ipa_transcription = epi.transliterate(u'العربية')\n",
        "print(ipa_transcription)"
      ],
      "metadata": {
        "colab": {
          "base_uri": "https://localhost:8080/"
        },
        "id": "tBtJ3TTFLv2a",
        "outputId": "77128594-cdb9-4bae-a7c0-8c64aec3b0a3"
      },
      "execution_count": 19,
      "outputs": [
        {
          "output_type": "stream",
          "name": "stdout",
          "text": [
            "alʕrbiːة\n"
          ]
        }
      ]
    },
    {
      "cell_type": "code",
      "source": [
        "epitran.Epi"
      ],
      "metadata": {
        "id": "wQQUFCCdhnSA"
      },
      "execution_count": null,
      "outputs": []
    },
    {
      "cell_type": "code",
      "source": [
        "aː\n",
        "أ\tʔa\n",
        "إ\tʔi\n",
        "آ\tʔaː\n",
        "ب\tb\n",
        "ت\tt\n",
        "ث\tθ\n",
        "ج\td͡ʒ\n",
        "ح\tħ\n",
        "خ\tx\n",
        "د\td\n",
        "ذ\tð\n",
        "ر\tr\n",
        "ز\tz\n",
        "س\ts\n",
        "ش\tʃ\n",
        "ص\tsˤ\n",
        "ض\tdˤ\n",
        "ط\ttˤ\n",
        "ظ\tðˤ\n",
        "ع\tʕ\n",
        "غ\tɣ\n",
        "ف\tf\n",
        "ق\tq\n",
        "ك\tk\n",
        "ل\tl\n",
        "م\tm\n",
        "ن\tn\n",
        "ه\th\n",
        "و\tuː\n",
        "ي\tiː\n",
        "ː"
      ],
      "metadata": {
        "id": "ZjE6PPhnh2rW"
      },
      "execution_count": null,
      "outputs": []
    },
    {
      "cell_type": "code",
      "source": [
        "jjh"
      ],
      "metadata": {
        "id": "siP48c4FOpCO"
      },
      "execution_count": null,
      "outputs": []
    },
    {
      "cell_type": "markdown",
      "source": [
        "## Goal\n",
        "\n",
        "To train ARABIC SPEECH TO PHONEMES\n",
        "\n",
        "Arabic speech -> phones -> a table that maps phones to phonemes\n",
        "train the allosa\n",
        "\n",
        "\n",
        "## HOW\n",
        "\n",
        "1. We need the phones to phonemes mapping (HAMDAN [search how the table] )\n",
        "2. We need the data to bextracted to speech phonemes + how to prepare the data ( TEAMOOR)\n",
        "3. Fine tune + preprocessing (MFCC and so on) (HARYO)\n",
        "4. Evaluate, compare it to the original allosaurus..  metric: phonemes error rate (HARYO)\n",
        "\n"
      ],
      "metadata": {
        "id": "93gq4cJLOqUJ"
      }
    },
    {
      "cell_type": "code",
      "source": [
        "Letter Name - AR\tIPA\n",
        "فَتْحَة\ta\n",
        "أَلِف\ta:\n",
        "يَاء\taj\n",
        "بَاء\tb\n",
        "دَال\td\n",
        "ضَاد\tdˤ\n",
        "جِيم\tdʒ\n",
        "ذَال\tð\n",
        "ظَاء\tðˤ\n",
        "فَاء\tf\n",
        "هَاء\th\n",
        "حَاء\tħ\n",
        "كَسْرَة\ti\n",
        "يَاء\tiː\n",
        "يَاء\tj\n",
        "كَاف\tk\n",
        "لَام\tl\n",
        "لَام\tɫ\n",
        "مِيم\tm\n",
        "نُون\tn\n",
        "قَاف\tq\n",
        "رَاء\tr\n",
        "سِين\ts\n",
        "صَاد\tsˤ\n",
        "شِين\tʃ\n",
        "تَاء\tt\n",
        "طَاء\ttˤ\n",
        "ثَاء\tθ\n",
        "ضَمَّة\tu\n",
        "وَاو\tuː\n",
        "وَاو\tw\n",
        "خَاء\tx ~ χ\n",
        "غَيْن\tɣ ~ ʁ\n",
        "زَاي\tz\n",
        "هَمْزة\tʔ\n",
        "عَيْن\tʕ"
      ],
      "metadata": {
        "id": "erXSrqFEcmmp"
      },
      "execution_count": null,
      "outputs": []
    }
  ]
}