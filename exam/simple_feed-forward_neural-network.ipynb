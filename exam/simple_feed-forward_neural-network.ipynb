{
  "nbformat": 4,
  "nbformat_minor": 0,
  "metadata": {
    "colab": {
      "provenance": [],
      "authorship_tag": "ABX9TyOVn02Ygwbgw0Mq0FF84th/",
      "include_colab_link": true
    },
    "kernelspec": {
      "name": "python3",
      "display_name": "Python 3"
    },
    "language_info": {
      "name": "python"
    }
  },
  "cells": [
    {
      "cell_type": "markdown",
      "metadata": {
        "id": "view-in-github",
        "colab_type": "text"
      },
      "source": [
        "<a href=\"https://colab.research.google.com/github/HamdanXI/nlp_adventure/blob/main/exam/simple_feed-forward_neural-network.ipynb\" target=\"_parent\"><img src=\"https://colab.research.google.com/assets/colab-badge.svg\" alt=\"Open In Colab\"/></a>"
      ]
    },
    {
      "cell_type": "code",
      "execution_count": 2,
      "metadata": {
        "id": "249TyVwzleuc"
      },
      "outputs": [],
      "source": [
        "import numpy as np\n",
        "import tensorflow as tf\n",
        "from tensorflow.keras.models import Sequential\n",
        "from tensorflow.keras.layers import Dense\n",
        "\n",
        "# Generate synthetic data\n",
        "np.random.seed(42)  # For reproducibility\n",
        "\n",
        "# Number of samples\n",
        "n_train_samples = 1000\n",
        "n_test_samples = 300\n",
        "\n",
        "# Number of features\n",
        "input_size = 20\n",
        "\n",
        "# Generate random input features\n",
        "X_train = np.random.randn(n_train_samples, input_size)\n",
        "X_test = np.random.randn(n_test_samples, input_size)\n",
        "\n",
        "# Generate binary labels (0 or 1) for our synthetic dataset\n",
        "y_train = np.random.randint(2, size=(n_train_samples, 1))\n",
        "y_test = np.random.randint(2, size=(n_test_samples, 1))"
      ]
    },
    {
      "cell_type": "code",
      "source": [
        "# Define the model\n",
        "model = Sequential([\n",
        "    # Input layer & hidden layer: 10 neurons, ReLU activation\n",
        "    Dense(10, activation='relu', input_shape=(input_size,)),\n",
        "\n",
        "    # Output layer: binary classification ('sigmoid' for binary)\n",
        "    Dense(1, activation='sigmoid')\n",
        "])\n",
        "\n",
        "# Compile the model\n",
        "model.compile(optimizer='adam',\n",
        "              loss='binary_crossentropy',\n",
        "              metrics=['accuracy'])\n",
        "\n",
        "# Summary of the model\n",
        "model.summary()"
      ],
      "metadata": {
        "colab": {
          "base_uri": "https://localhost:8080/"
        },
        "id": "aLTa7HbTmCbB",
        "outputId": "fc330c7d-4804-4cc8-ad23-9f4e167e5a73"
      },
      "execution_count": 6,
      "outputs": [
        {
          "output_type": "stream",
          "name": "stdout",
          "text": [
            "Model: \"sequential_1\"\n",
            "_________________________________________________________________\n",
            " Layer (type)                Output Shape              Param #   \n",
            "=================================================================\n",
            " dense_2 (Dense)             (None, 10)                210       \n",
            "                                                                 \n",
            " dense_3 (Dense)             (None, 1)                 11        \n",
            "                                                                 \n",
            "=================================================================\n",
            "Total params: 221 (884.00 Byte)\n",
            "Trainable params: 221 (884.00 Byte)\n",
            "Non-trainable params: 0 (0.00 Byte)\n",
            "_________________________________________________________________\n"
          ]
        }
      ]
    },
    {
      "cell_type": "code",
      "source": [
        "# Train the model\n",
        "model.fit(X_train, y_train, epochs=20, batch_size=32, validation_split=0.2)"
      ],
      "metadata": {
        "colab": {
          "base_uri": "https://localhost:8080/"
        },
        "id": "O4jodLhgmF8g",
        "outputId": "fe5c3052-93aa-4920-893b-67d2ef92850f"
      },
      "execution_count": 8,
      "outputs": [
        {
          "output_type": "stream",
          "name": "stdout",
          "text": [
            "Epoch 1/20\n",
            "25/25 [==============================] - 0s 6ms/step - loss: 0.7093 - accuracy: 0.5288 - val_loss: 0.7526 - val_accuracy: 0.4450\n",
            "Epoch 2/20\n",
            "25/25 [==============================] - 0s 4ms/step - loss: 0.7045 - accuracy: 0.5362 - val_loss: 0.7472 - val_accuracy: 0.4600\n",
            "Epoch 3/20\n",
            "25/25 [==============================] - 0s 3ms/step - loss: 0.7005 - accuracy: 0.5362 - val_loss: 0.7425 - val_accuracy: 0.4650\n",
            "Epoch 4/20\n",
            "25/25 [==============================] - 0s 3ms/step - loss: 0.6970 - accuracy: 0.5425 - val_loss: 0.7380 - val_accuracy: 0.4800\n",
            "Epoch 5/20\n",
            "25/25 [==============================] - 0s 3ms/step - loss: 0.6937 - accuracy: 0.5412 - val_loss: 0.7347 - val_accuracy: 0.4900\n",
            "Epoch 6/20\n",
            "25/25 [==============================] - 0s 4ms/step - loss: 0.6907 - accuracy: 0.5450 - val_loss: 0.7316 - val_accuracy: 0.4900\n",
            "Epoch 7/20\n",
            "25/25 [==============================] - 0s 3ms/step - loss: 0.6882 - accuracy: 0.5487 - val_loss: 0.7285 - val_accuracy: 0.4950\n",
            "Epoch 8/20\n",
            "25/25 [==============================] - 0s 3ms/step - loss: 0.6858 - accuracy: 0.5600 - val_loss: 0.7266 - val_accuracy: 0.5050\n",
            "Epoch 9/20\n",
            "25/25 [==============================] - 0s 3ms/step - loss: 0.6838 - accuracy: 0.5688 - val_loss: 0.7240 - val_accuracy: 0.5100\n",
            "Epoch 10/20\n",
            "25/25 [==============================] - 0s 4ms/step - loss: 0.6819 - accuracy: 0.5775 - val_loss: 0.7225 - val_accuracy: 0.5200\n",
            "Epoch 11/20\n",
            "25/25 [==============================] - 0s 3ms/step - loss: 0.6801 - accuracy: 0.5775 - val_loss: 0.7204 - val_accuracy: 0.5150\n",
            "Epoch 12/20\n",
            "25/25 [==============================] - 0s 3ms/step - loss: 0.6785 - accuracy: 0.5775 - val_loss: 0.7194 - val_accuracy: 0.5200\n",
            "Epoch 13/20\n",
            "25/25 [==============================] - 0s 3ms/step - loss: 0.6770 - accuracy: 0.5813 - val_loss: 0.7182 - val_accuracy: 0.5200\n",
            "Epoch 14/20\n",
            "25/25 [==============================] - 0s 3ms/step - loss: 0.6755 - accuracy: 0.5863 - val_loss: 0.7174 - val_accuracy: 0.5150\n",
            "Epoch 15/20\n",
            "25/25 [==============================] - 0s 4ms/step - loss: 0.6743 - accuracy: 0.5888 - val_loss: 0.7163 - val_accuracy: 0.5250\n",
            "Epoch 16/20\n",
            "25/25 [==============================] - 0s 3ms/step - loss: 0.6726 - accuracy: 0.5863 - val_loss: 0.7142 - val_accuracy: 0.5300\n",
            "Epoch 17/20\n",
            "25/25 [==============================] - 0s 3ms/step - loss: 0.6711 - accuracy: 0.5925 - val_loss: 0.7130 - val_accuracy: 0.5300\n",
            "Epoch 18/20\n",
            "25/25 [==============================] - 0s 3ms/step - loss: 0.6698 - accuracy: 0.5925 - val_loss: 0.7131 - val_accuracy: 0.5250\n",
            "Epoch 19/20\n",
            "25/25 [==============================] - 0s 3ms/step - loss: 0.6686 - accuracy: 0.5938 - val_loss: 0.7122 - val_accuracy: 0.5250\n",
            "Epoch 20/20\n",
            "25/25 [==============================] - 0s 3ms/step - loss: 0.6672 - accuracy: 0.5962 - val_loss: 0.7120 - val_accuracy: 0.5200\n"
          ]
        },
        {
          "output_type": "execute_result",
          "data": {
            "text/plain": [
              "<keras.src.callbacks.History at 0x79007e413f40>"
            ]
          },
          "metadata": {},
          "execution_count": 8
        }
      ]
    },
    {
      "cell_type": "code",
      "source": [
        "# Evaluate the model on test data\n",
        "model.evaluate(X_test, y_test)"
      ],
      "metadata": {
        "colab": {
          "base_uri": "https://localhost:8080/"
        },
        "id": "jLngkCapmOjo",
        "outputId": "08cebc94-2cc2-49a0-d4d1-f3c0237fa083"
      },
      "execution_count": 9,
      "outputs": [
        {
          "output_type": "stream",
          "name": "stdout",
          "text": [
            "10/10 [==============================] - 0s 3ms/step - loss: 0.7137 - accuracy: 0.5167\n"
          ]
        },
        {
          "output_type": "execute_result",
          "data": {
            "text/plain": [
              "[0.7136819362640381, 0.5166666507720947]"
            ]
          },
          "metadata": {},
          "execution_count": 9
        }
      ]
    },
    {
      "cell_type": "code",
      "source": [],
      "metadata": {
        "id": "oVEuWCE6mS0Y"
      },
      "execution_count": null,
      "outputs": []
    }
  ]
}